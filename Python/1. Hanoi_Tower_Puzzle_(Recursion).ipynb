{
  "nbformat": 4,
  "nbformat_minor": 0,
  "metadata": {
    "colab": {
      "name": "Hanoi Tower Puzzle (Recursion).ipynb",
      "provenance": [],
      "collapsed_sections": [],
      "toc_visible": true
    },
    "kernelspec": {
      "name": "python3",
      "display_name": "Python 3"
    },
    "language_info": {
      "name": "python"
    }
  },
  "cells": [
    {
      "cell_type": "markdown",
      "metadata": {
        "id": "NybZVQ7SbyKT"
      },
      "source": [
        "# **Solving Hanoi Tower Puzzle by Recursion**"
      ]
    },
    {
      "cell_type": "markdown",
      "metadata": {
        "id": "w0t21rHQcYvi"
      },
      "source": [
        "Objective :\n",
        "1. to implement and understand recursion for solving Hanoi Tower Puzzle using python"
      ]
    },
    {
      "cell_type": "markdown",
      "metadata": {
        "id": "YOKVhzy4bV2V"
      },
      "source": [
        "Reference :\n",
        "1. https://www.youtube.com/watch?v=WPSeyjX1-4s"
      ]
    },
    {
      "cell_type": "markdown",
      "metadata": {
        "id": "NLqgkTewdpZo"
      },
      "source": [
        "## Code"
      ]
    },
    {
      "cell_type": "code",
      "metadata": {
        "id": "3jRhQkNPbMxh"
      },
      "source": [
        "def printMove(fr, to):\n",
        "    print('move from ' + str(fr) + ' to ' + str(to))\n",
        "\n",
        "def Towers(n, fr, to, spare):    \n",
        "    if n == 1:\n",
        "        printMove(fr, to)    \n",
        "    \n",
        "    else:\n",
        "        Towers(n-1, fr, spare, to)\n",
        "        Towers(1, fr, to, spare)\n",
        "        Towers(n-1, spare, to, fr)"
      ],
      "execution_count": 2,
      "outputs": []
    },
    {
      "cell_type": "code",
      "metadata": {
        "colab": {
          "base_uri": "https://localhost:8080/"
        },
        "id": "Sl8hB9PgbvJR",
        "outputId": "eff15b65-821d-480b-9555-46bdeb939fdc"
      },
      "source": [
        "print(Towers(4, 'Left', 'Center', 'Right'))"
      ],
      "execution_count": 3,
      "outputs": [
        {
          "output_type": "stream",
          "text": [
            "move from Left to Right\n",
            "move from Left to Center\n",
            "move from Right to Center\n",
            "move from Left to Right\n",
            "move from Center to Left\n",
            "move from Center to Right\n",
            "move from Left to Right\n",
            "move from Left to Center\n",
            "move from Right to Center\n",
            "move from Right to Left\n",
            "move from Center to Left\n",
            "move from Right to Center\n",
            "move from Left to Right\n",
            "move from Left to Center\n",
            "move from Right to Center\n",
            "None\n"
          ],
          "name": "stdout"
        }
      ]
    },
    {
      "cell_type": "markdown",
      "metadata": {
        "id": "C5c0s0codiUR"
      },
      "source": [
        "## Recursion in Python Behind The Scene"
      ]
    },
    {
      "cell_type": "markdown",
      "metadata": {
        "id": "VwwCfJ4Ac4PT"
      },
      "source": [
        "Link below is used to understand on how recurison in Python works."
      ]
    },
    {
      "cell_type": "markdown",
      "metadata": {
        "id": "YTcWdfiXc1R7"
      },
      "source": [
        "http://pythontutor.com/visualize.html#code=def%20printMove%28fr,%20to%29%3A%0A%20%20%20%20print%28'move%20from%20'%20%2B%20str%28fr%29%20%2B%20'%20to%20'%20%2B%20str%28to%29%29%0A%0Adef%20Towers%28n,%20fr,%20to,%20spare%29%3A%20%20%20%20%0A%20%20%20%20if%20n%20%3D%3D%201%3A%0A%20%20%20%20%20%20%20%20printMove%28fr,%20to%29%20%20%20%20%0A%20%20%20%20%0A%20%20%20%20else%3A%0A%20%20%20%20%20%20%20%20Towers%28n-1,%20fr,%20spare,%20to%29%0A%20%20%20%20%20%20%20%20Towers%281,%20fr,%20to,%20spare%29%0A%20%20%20%20%20%20%20%20Towers%28n-1,%20spare,%20to,%20fr%29%0A%20%20%20%20%20%20%20%20%0A%0Aprint%28Towers%284,%20'Left',%20'Center',%20'Right'%29%29&cumulative=false&curInstr=16&heapPrimitives=nevernest&mode=display&origin=opt-frontend.js&py=3&rawInputLstJSON=%5B%5D&textReferences=false"
      ]
    }
  ]
}
