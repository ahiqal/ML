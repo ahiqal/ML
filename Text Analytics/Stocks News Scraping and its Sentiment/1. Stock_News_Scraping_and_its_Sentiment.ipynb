{
  "nbformat": 4,
  "nbformat_minor": 0,
  "metadata": {
    "colab": {
      "name": "Stock_News_Scraping_and_its_Sentiment.ipynb",
      "provenance": [],
      "collapsed_sections": [],
      "toc_visible": true
    },
    "kernelspec": {
      "name": "python3",
      "display_name": "Python 3"
    },
    "language_info": {
      "name": "python"
    },
    "widgets": {
      "application/vnd.jupyter.widget-state+json": {
        "45941d037dd5430db74a74d2eb6e8e88": {
          "model_module": "@jupyter-widgets/controls",
          "model_name": "HBoxModel",
          "model_module_version": "1.5.0",
          "state": {
            "_view_name": "HBoxView",
            "_dom_classes": [],
            "_model_name": "HBoxModel",
            "_view_module": "@jupyter-widgets/controls",
            "_model_module_version": "1.5.0",
            "_view_count": null,
            "_view_module_version": "1.5.0",
            "box_style": "",
            "layout": "IPY_MODEL_26625e57d1c34bccb1a3bc27462d11b0",
            "_model_module": "@jupyter-widgets/controls",
            "children": [
              "IPY_MODEL_18d28a588da541cf88b87147eebd380a",
              "IPY_MODEL_6ef38b49e1d14809ad25895f5db96fa8",
              "IPY_MODEL_44d489d5830b42b1940b8ab8e50e8e2e"
            ]
          }
        },
        "26625e57d1c34bccb1a3bc27462d11b0": {
          "model_module": "@jupyter-widgets/base",
          "model_name": "LayoutModel",
          "model_module_version": "1.2.0",
          "state": {
            "_view_name": "LayoutView",
            "grid_template_rows": null,
            "right": null,
            "justify_content": null,
            "_view_module": "@jupyter-widgets/base",
            "overflow": null,
            "_model_module_version": "1.2.0",
            "_view_count": null,
            "flex_flow": null,
            "width": null,
            "min_width": null,
            "border": null,
            "align_items": null,
            "bottom": null,
            "_model_module": "@jupyter-widgets/base",
            "top": null,
            "grid_column": null,
            "overflow_y": null,
            "overflow_x": null,
            "grid_auto_flow": null,
            "grid_area": null,
            "grid_template_columns": null,
            "flex": null,
            "_model_name": "LayoutModel",
            "justify_items": null,
            "grid_row": null,
            "max_height": null,
            "align_content": null,
            "visibility": null,
            "align_self": null,
            "height": null,
            "min_height": null,
            "padding": null,
            "grid_auto_rows": null,
            "grid_gap": null,
            "max_width": null,
            "order": null,
            "_view_module_version": "1.2.0",
            "grid_template_areas": null,
            "object_position": null,
            "object_fit": null,
            "grid_auto_columns": null,
            "margin": null,
            "display": null,
            "left": null
          }
        },
        "18d28a588da541cf88b87147eebd380a": {
          "model_module": "@jupyter-widgets/controls",
          "model_name": "HTMLModel",
          "model_module_version": "1.5.0",
          "state": {
            "_view_name": "HTMLView",
            "style": "IPY_MODEL_2e1da43b3d6842adb7a7082260330eb7",
            "_dom_classes": [],
            "description": "",
            "_model_name": "HTMLModel",
            "placeholder": "​",
            "_view_module": "@jupyter-widgets/controls",
            "_model_module_version": "1.5.0",
            "value": "Downloading: 100%",
            "_view_count": null,
            "_view_module_version": "1.5.0",
            "description_tooltip": null,
            "_model_module": "@jupyter-widgets/controls",
            "layout": "IPY_MODEL_761f557e0bcd41cebd0b2978887f8530"
          }
        },
        "6ef38b49e1d14809ad25895f5db96fa8": {
          "model_module": "@jupyter-widgets/controls",
          "model_name": "FloatProgressModel",
          "model_module_version": "1.5.0",
          "state": {
            "_view_name": "ProgressView",
            "style": "IPY_MODEL_d3b47fdab8964b6c96e3efcc44147f8f",
            "_dom_classes": [],
            "description": "",
            "_model_name": "FloatProgressModel",
            "bar_style": "success",
            "max": 1912529,
            "_view_module": "@jupyter-widgets/controls",
            "_model_module_version": "1.5.0",
            "value": 1912529,
            "_view_count": null,
            "_view_module_version": "1.5.0",
            "orientation": "horizontal",
            "min": 0,
            "description_tooltip": null,
            "_model_module": "@jupyter-widgets/controls",
            "layout": "IPY_MODEL_5fad328148a0453ab0a798ee155f6e83"
          }
        },
        "44d489d5830b42b1940b8ab8e50e8e2e": {
          "model_module": "@jupyter-widgets/controls",
          "model_name": "HTMLModel",
          "model_module_version": "1.5.0",
          "state": {
            "_view_name": "HTMLView",
            "style": "IPY_MODEL_84d29a5a7ed74d999dc4408566f36a62",
            "_dom_classes": [],
            "description": "",
            "_model_name": "HTMLModel",
            "placeholder": "​",
            "_view_module": "@jupyter-widgets/controls",
            "_model_module_version": "1.5.0",
            "value": " 1.82M/1.82M [00:00&lt;00:00, 5.62MB/s]",
            "_view_count": null,
            "_view_module_version": "1.5.0",
            "description_tooltip": null,
            "_model_module": "@jupyter-widgets/controls",
            "layout": "IPY_MODEL_0eec9f0b8935486795402fb522ec5631"
          }
        },
        "2e1da43b3d6842adb7a7082260330eb7": {
          "model_module": "@jupyter-widgets/controls",
          "model_name": "DescriptionStyleModel",
          "model_module_version": "1.5.0",
          "state": {
            "_view_name": "StyleView",
            "_model_name": "DescriptionStyleModel",
            "description_width": "",
            "_view_module": "@jupyter-widgets/base",
            "_model_module_version": "1.5.0",
            "_view_count": null,
            "_view_module_version": "1.2.0",
            "_model_module": "@jupyter-widgets/controls"
          }
        },
        "761f557e0bcd41cebd0b2978887f8530": {
          "model_module": "@jupyter-widgets/base",
          "model_name": "LayoutModel",
          "model_module_version": "1.2.0",
          "state": {
            "_view_name": "LayoutView",
            "grid_template_rows": null,
            "right": null,
            "justify_content": null,
            "_view_module": "@jupyter-widgets/base",
            "overflow": null,
            "_model_module_version": "1.2.0",
            "_view_count": null,
            "flex_flow": null,
            "width": null,
            "min_width": null,
            "border": null,
            "align_items": null,
            "bottom": null,
            "_model_module": "@jupyter-widgets/base",
            "top": null,
            "grid_column": null,
            "overflow_y": null,
            "overflow_x": null,
            "grid_auto_flow": null,
            "grid_area": null,
            "grid_template_columns": null,
            "flex": null,
            "_model_name": "LayoutModel",
            "justify_items": null,
            "grid_row": null,
            "max_height": null,
            "align_content": null,
            "visibility": null,
            "align_self": null,
            "height": null,
            "min_height": null,
            "padding": null,
            "grid_auto_rows": null,
            "grid_gap": null,
            "max_width": null,
            "order": null,
            "_view_module_version": "1.2.0",
            "grid_template_areas": null,
            "object_position": null,
            "object_fit": null,
            "grid_auto_columns": null,
            "margin": null,
            "display": null,
            "left": null
          }
        },
        "d3b47fdab8964b6c96e3efcc44147f8f": {
          "model_module": "@jupyter-widgets/controls",
          "model_name": "ProgressStyleModel",
          "model_module_version": "1.5.0",
          "state": {
            "_view_name": "StyleView",
            "_model_name": "ProgressStyleModel",
            "description_width": "",
            "_view_module": "@jupyter-widgets/base",
            "_model_module_version": "1.5.0",
            "_view_count": null,
            "_view_module_version": "1.2.0",
            "bar_color": null,
            "_model_module": "@jupyter-widgets/controls"
          }
        },
        "5fad328148a0453ab0a798ee155f6e83": {
          "model_module": "@jupyter-widgets/base",
          "model_name": "LayoutModel",
          "model_module_version": "1.2.0",
          "state": {
            "_view_name": "LayoutView",
            "grid_template_rows": null,
            "right": null,
            "justify_content": null,
            "_view_module": "@jupyter-widgets/base",
            "overflow": null,
            "_model_module_version": "1.2.0",
            "_view_count": null,
            "flex_flow": null,
            "width": null,
            "min_width": null,
            "border": null,
            "align_items": null,
            "bottom": null,
            "_model_module": "@jupyter-widgets/base",
            "top": null,
            "grid_column": null,
            "overflow_y": null,
            "overflow_x": null,
            "grid_auto_flow": null,
            "grid_area": null,
            "grid_template_columns": null,
            "flex": null,
            "_model_name": "LayoutModel",
            "justify_items": null,
            "grid_row": null,
            "max_height": null,
            "align_content": null,
            "visibility": null,
            "align_self": null,
            "height": null,
            "min_height": null,
            "padding": null,
            "grid_auto_rows": null,
            "grid_gap": null,
            "max_width": null,
            "order": null,
            "_view_module_version": "1.2.0",
            "grid_template_areas": null,
            "object_position": null,
            "object_fit": null,
            "grid_auto_columns": null,
            "margin": null,
            "display": null,
            "left": null
          }
        },
        "84d29a5a7ed74d999dc4408566f36a62": {
          "model_module": "@jupyter-widgets/controls",
          "model_name": "DescriptionStyleModel",
          "model_module_version": "1.5.0",
          "state": {
            "_view_name": "StyleView",
            "_model_name": "DescriptionStyleModel",
            "description_width": "",
            "_view_module": "@jupyter-widgets/base",
            "_model_module_version": "1.5.0",
            "_view_count": null,
            "_view_module_version": "1.2.0",
            "_model_module": "@jupyter-widgets/controls"
          }
        },
        "0eec9f0b8935486795402fb522ec5631": {
          "model_module": "@jupyter-widgets/base",
          "model_name": "LayoutModel",
          "model_module_version": "1.2.0",
          "state": {
            "_view_name": "LayoutView",
            "grid_template_rows": null,
            "right": null,
            "justify_content": null,
            "_view_module": "@jupyter-widgets/base",
            "overflow": null,
            "_model_module_version": "1.2.0",
            "_view_count": null,
            "flex_flow": null,
            "width": null,
            "min_width": null,
            "border": null,
            "align_items": null,
            "bottom": null,
            "_model_module": "@jupyter-widgets/base",
            "top": null,
            "grid_column": null,
            "overflow_y": null,
            "overflow_x": null,
            "grid_auto_flow": null,
            "grid_area": null,
            "grid_template_columns": null,
            "flex": null,
            "_model_name": "LayoutModel",
            "justify_items": null,
            "grid_row": null,
            "max_height": null,
            "align_content": null,
            "visibility": null,
            "align_self": null,
            "height": null,
            "min_height": null,
            "padding": null,
            "grid_auto_rows": null,
            "grid_gap": null,
            "max_width": null,
            "order": null,
            "_view_module_version": "1.2.0",
            "grid_template_areas": null,
            "object_position": null,
            "object_fit": null,
            "grid_auto_columns": null,
            "margin": null,
            "display": null,
            "left": null
          }
        },
        "4315635ced3e4df9aea7766dc102659c": {
          "model_module": "@jupyter-widgets/controls",
          "model_name": "HBoxModel",
          "model_module_version": "1.5.0",
          "state": {
            "_view_name": "HBoxView",
            "_dom_classes": [],
            "_model_name": "HBoxModel",
            "_view_module": "@jupyter-widgets/controls",
            "_model_module_version": "1.5.0",
            "_view_count": null,
            "_view_module_version": "1.5.0",
            "box_style": "",
            "layout": "IPY_MODEL_d3ec128bd3bf4903844f4fabd9d5ebe5",
            "_model_module": "@jupyter-widgets/controls",
            "children": [
              "IPY_MODEL_b653e47875c54cd783bf6c5efabe45d5",
              "IPY_MODEL_395ec75d321444599405c7022b71dfab",
              "IPY_MODEL_3c65888cd54f4a08ac12449c8561ac83"
            ]
          }
        },
        "d3ec128bd3bf4903844f4fabd9d5ebe5": {
          "model_module": "@jupyter-widgets/base",
          "model_name": "LayoutModel",
          "model_module_version": "1.2.0",
          "state": {
            "_view_name": "LayoutView",
            "grid_template_rows": null,
            "right": null,
            "justify_content": null,
            "_view_module": "@jupyter-widgets/base",
            "overflow": null,
            "_model_module_version": "1.2.0",
            "_view_count": null,
            "flex_flow": null,
            "width": null,
            "min_width": null,
            "border": null,
            "align_items": null,
            "bottom": null,
            "_model_module": "@jupyter-widgets/base",
            "top": null,
            "grid_column": null,
            "overflow_y": null,
            "overflow_x": null,
            "grid_auto_flow": null,
            "grid_area": null,
            "grid_template_columns": null,
            "flex": null,
            "_model_name": "LayoutModel",
            "justify_items": null,
            "grid_row": null,
            "max_height": null,
            "align_content": null,
            "visibility": null,
            "align_self": null,
            "height": null,
            "min_height": null,
            "padding": null,
            "grid_auto_rows": null,
            "grid_gap": null,
            "max_width": null,
            "order": null,
            "_view_module_version": "1.2.0",
            "grid_template_areas": null,
            "object_position": null,
            "object_fit": null,
            "grid_auto_columns": null,
            "margin": null,
            "display": null,
            "left": null
          }
        },
        "b653e47875c54cd783bf6c5efabe45d5": {
          "model_module": "@jupyter-widgets/controls",
          "model_name": "HTMLModel",
          "model_module_version": "1.5.0",
          "state": {
            "_view_name": "HTMLView",
            "style": "IPY_MODEL_ab76e69d19d94a08ae7cd3f33c2478a2",
            "_dom_classes": [],
            "description": "",
            "_model_name": "HTMLModel",
            "placeholder": "​",
            "_view_module": "@jupyter-widgets/controls",
            "_model_module_version": "1.5.0",
            "value": "Downloading: 100%",
            "_view_count": null,
            "_view_module_version": "1.5.0",
            "description_tooltip": null,
            "_model_module": "@jupyter-widgets/controls",
            "layout": "IPY_MODEL_397f51657e1646f99c66b2c23fc2100e"
          }
        },
        "395ec75d321444599405c7022b71dfab": {
          "model_module": "@jupyter-widgets/controls",
          "model_name": "FloatProgressModel",
          "model_module_version": "1.5.0",
          "state": {
            "_view_name": "ProgressView",
            "style": "IPY_MODEL_01dc59fb2cff455f9d276b2ac9178b80",
            "_dom_classes": [],
            "description": "",
            "_model_name": "FloatProgressModel",
            "bar_style": "success",
            "max": 1341,
            "_view_module": "@jupyter-widgets/controls",
            "_model_module_version": "1.5.0",
            "value": 1341,
            "_view_count": null,
            "_view_module_version": "1.5.0",
            "orientation": "horizontal",
            "min": 0,
            "description_tooltip": null,
            "_model_module": "@jupyter-widgets/controls",
            "layout": "IPY_MODEL_2db769031eed42908ede4ce2cc398134"
          }
        },
        "3c65888cd54f4a08ac12449c8561ac83": {
          "model_module": "@jupyter-widgets/controls",
          "model_name": "HTMLModel",
          "model_module_version": "1.5.0",
          "state": {
            "_view_name": "HTMLView",
            "style": "IPY_MODEL_1ea6cbe40e5d43188db63cb3143816ff",
            "_dom_classes": [],
            "description": "",
            "_model_name": "HTMLModel",
            "placeholder": "​",
            "_view_module": "@jupyter-widgets/controls",
            "_model_module_version": "1.5.0",
            "value": " 1.31k/1.31k [00:00&lt;00:00, 21.0kB/s]",
            "_view_count": null,
            "_view_module_version": "1.5.0",
            "description_tooltip": null,
            "_model_module": "@jupyter-widgets/controls",
            "layout": "IPY_MODEL_1425e5449f804217b730d043e9ef5b71"
          }
        },
        "ab76e69d19d94a08ae7cd3f33c2478a2": {
          "model_module": "@jupyter-widgets/controls",
          "model_name": "DescriptionStyleModel",
          "model_module_version": "1.5.0",
          "state": {
            "_view_name": "StyleView",
            "_model_name": "DescriptionStyleModel",
            "description_width": "",
            "_view_module": "@jupyter-widgets/base",
            "_model_module_version": "1.5.0",
            "_view_count": null,
            "_view_module_version": "1.2.0",
            "_model_module": "@jupyter-widgets/controls"
          }
        },
        "397f51657e1646f99c66b2c23fc2100e": {
          "model_module": "@jupyter-widgets/base",
          "model_name": "LayoutModel",
          "model_module_version": "1.2.0",
          "state": {
            "_view_name": "LayoutView",
            "grid_template_rows": null,
            "right": null,
            "justify_content": null,
            "_view_module": "@jupyter-widgets/base",
            "overflow": null,
            "_model_module_version": "1.2.0",
            "_view_count": null,
            "flex_flow": null,
            "width": null,
            "min_width": null,
            "border": null,
            "align_items": null,
            "bottom": null,
            "_model_module": "@jupyter-widgets/base",
            "top": null,
            "grid_column": null,
            "overflow_y": null,
            "overflow_x": null,
            "grid_auto_flow": null,
            "grid_area": null,
            "grid_template_columns": null,
            "flex": null,
            "_model_name": "LayoutModel",
            "justify_items": null,
            "grid_row": null,
            "max_height": null,
            "align_content": null,
            "visibility": null,
            "align_self": null,
            "height": null,
            "min_height": null,
            "padding": null,
            "grid_auto_rows": null,
            "grid_gap": null,
            "max_width": null,
            "order": null,
            "_view_module_version": "1.2.0",
            "grid_template_areas": null,
            "object_position": null,
            "object_fit": null,
            "grid_auto_columns": null,
            "margin": null,
            "display": null,
            "left": null
          }
        },
        "01dc59fb2cff455f9d276b2ac9178b80": {
          "model_module": "@jupyter-widgets/controls",
          "model_name": "ProgressStyleModel",
          "model_module_version": "1.5.0",
          "state": {
            "_view_name": "StyleView",
            "_model_name": "ProgressStyleModel",
            "description_width": "",
            "_view_module": "@jupyter-widgets/base",
            "_model_module_version": "1.5.0",
            "_view_count": null,
            "_view_module_version": "1.2.0",
            "bar_color": null,
            "_model_module": "@jupyter-widgets/controls"
          }
        },
        "2db769031eed42908ede4ce2cc398134": {
          "model_module": "@jupyter-widgets/base",
          "model_name": "LayoutModel",
          "model_module_version": "1.2.0",
          "state": {
            "_view_name": "LayoutView",
            "grid_template_rows": null,
            "right": null,
            "justify_content": null,
            "_view_module": "@jupyter-widgets/base",
            "overflow": null,
            "_model_module_version": "1.2.0",
            "_view_count": null,
            "flex_flow": null,
            "width": null,
            "min_width": null,
            "border": null,
            "align_items": null,
            "bottom": null,
            "_model_module": "@jupyter-widgets/base",
            "top": null,
            "grid_column": null,
            "overflow_y": null,
            "overflow_x": null,
            "grid_auto_flow": null,
            "grid_area": null,
            "grid_template_columns": null,
            "flex": null,
            "_model_name": "LayoutModel",
            "justify_items": null,
            "grid_row": null,
            "max_height": null,
            "align_content": null,
            "visibility": null,
            "align_self": null,
            "height": null,
            "min_height": null,
            "padding": null,
            "grid_auto_rows": null,
            "grid_gap": null,
            "max_width": null,
            "order": null,
            "_view_module_version": "1.2.0",
            "grid_template_areas": null,
            "object_position": null,
            "object_fit": null,
            "grid_auto_columns": null,
            "margin": null,
            "display": null,
            "left": null
          }
        },
        "1ea6cbe40e5d43188db63cb3143816ff": {
          "model_module": "@jupyter-widgets/controls",
          "model_name": "DescriptionStyleModel",
          "model_module_version": "1.5.0",
          "state": {
            "_view_name": "StyleView",
            "_model_name": "DescriptionStyleModel",
            "description_width": "",
            "_view_module": "@jupyter-widgets/base",
            "_model_module_version": "1.5.0",
            "_view_count": null,
            "_view_module_version": "1.2.0",
            "_model_module": "@jupyter-widgets/controls"
          }
        },
        "1425e5449f804217b730d043e9ef5b71": {
          "model_module": "@jupyter-widgets/base",
          "model_name": "LayoutModel",
          "model_module_version": "1.2.0",
          "state": {
            "_view_name": "LayoutView",
            "grid_template_rows": null,
            "right": null,
            "justify_content": null,
            "_view_module": "@jupyter-widgets/base",
            "overflow": null,
            "_model_module_version": "1.2.0",
            "_view_count": null,
            "flex_flow": null,
            "width": null,
            "min_width": null,
            "border": null,
            "align_items": null,
            "bottom": null,
            "_model_module": "@jupyter-widgets/base",
            "top": null,
            "grid_column": null,
            "overflow_y": null,
            "overflow_x": null,
            "grid_auto_flow": null,
            "grid_area": null,
            "grid_template_columns": null,
            "flex": null,
            "_model_name": "LayoutModel",
            "justify_items": null,
            "grid_row": null,
            "max_height": null,
            "align_content": null,
            "visibility": null,
            "align_self": null,
            "height": null,
            "min_height": null,
            "padding": null,
            "grid_auto_rows": null,
            "grid_gap": null,
            "max_width": null,
            "order": null,
            "_view_module_version": "1.2.0",
            "grid_template_areas": null,
            "object_position": null,
            "object_fit": null,
            "grid_auto_columns": null,
            "margin": null,
            "display": null,
            "left": null
          }
        },
        "3ca059bedd5941009b277e661002a497": {
          "model_module": "@jupyter-widgets/controls",
          "model_name": "HBoxModel",
          "model_module_version": "1.5.0",
          "state": {
            "_view_name": "HBoxView",
            "_dom_classes": [],
            "_model_name": "HBoxModel",
            "_view_module": "@jupyter-widgets/controls",
            "_model_module_version": "1.5.0",
            "_view_count": null,
            "_view_module_version": "1.5.0",
            "box_style": "",
            "layout": "IPY_MODEL_30ff1ca460f14fbaad9bb8b87f23892c",
            "_model_module": "@jupyter-widgets/controls",
            "children": [
              "IPY_MODEL_8d44001889f2423fa70ae596cfa11417",
              "IPY_MODEL_9585d6253524476db2381914575a26a3",
              "IPY_MODEL_c5bbb8620670476ab26866f6b2049e1b"
            ]
          }
        },
        "30ff1ca460f14fbaad9bb8b87f23892c": {
          "model_module": "@jupyter-widgets/base",
          "model_name": "LayoutModel",
          "model_module_version": "1.2.0",
          "state": {
            "_view_name": "LayoutView",
            "grid_template_rows": null,
            "right": null,
            "justify_content": null,
            "_view_module": "@jupyter-widgets/base",
            "overflow": null,
            "_model_module_version": "1.2.0",
            "_view_count": null,
            "flex_flow": null,
            "width": null,
            "min_width": null,
            "border": null,
            "align_items": null,
            "bottom": null,
            "_model_module": "@jupyter-widgets/base",
            "top": null,
            "grid_column": null,
            "overflow_y": null,
            "overflow_x": null,
            "grid_auto_flow": null,
            "grid_area": null,
            "grid_template_columns": null,
            "flex": null,
            "_model_name": "LayoutModel",
            "justify_items": null,
            "grid_row": null,
            "max_height": null,
            "align_content": null,
            "visibility": null,
            "align_self": null,
            "height": null,
            "min_height": null,
            "padding": null,
            "grid_auto_rows": null,
            "grid_gap": null,
            "max_width": null,
            "order": null,
            "_view_module_version": "1.2.0",
            "grid_template_areas": null,
            "object_position": null,
            "object_fit": null,
            "grid_auto_columns": null,
            "margin": null,
            "display": null,
            "left": null
          }
        },
        "8d44001889f2423fa70ae596cfa11417": {
          "model_module": "@jupyter-widgets/controls",
          "model_name": "HTMLModel",
          "model_module_version": "1.5.0",
          "state": {
            "_view_name": "HTMLView",
            "style": "IPY_MODEL_b4a7efa319c447339849cee28b246a2e",
            "_dom_classes": [],
            "description": "",
            "_model_name": "HTMLModel",
            "placeholder": "​",
            "_view_module": "@jupyter-widgets/controls",
            "_model_module_version": "1.5.0",
            "value": "Downloading: 100%",
            "_view_count": null,
            "_view_module_version": "1.5.0",
            "description_tooltip": null,
            "_model_module": "@jupyter-widgets/controls",
            "layout": "IPY_MODEL_0e66d8868f5d4ce980a781862049de61"
          }
        },
        "9585d6253524476db2381914575a26a3": {
          "model_module": "@jupyter-widgets/controls",
          "model_name": "FloatProgressModel",
          "model_module_version": "1.5.0",
          "state": {
            "_view_name": "ProgressView",
            "style": "IPY_MODEL_b2f3e984cfa34e948f5c52fa05e593ec",
            "_dom_classes": [],
            "description": "",
            "_model_name": "FloatProgressModel",
            "bar_style": "success",
            "max": 1436,
            "_view_module": "@jupyter-widgets/controls",
            "_model_module_version": "1.5.0",
            "value": 1436,
            "_view_count": null,
            "_view_module_version": "1.5.0",
            "orientation": "horizontal",
            "min": 0,
            "description_tooltip": null,
            "_model_module": "@jupyter-widgets/controls",
            "layout": "IPY_MODEL_1d1b673dbaa04a8c950a7047c7bc805f"
          }
        },
        "c5bbb8620670476ab26866f6b2049e1b": {
          "model_module": "@jupyter-widgets/controls",
          "model_name": "HTMLModel",
          "model_module_version": "1.5.0",
          "state": {
            "_view_name": "HTMLView",
            "style": "IPY_MODEL_0b6a4590ce21447e9be652fe5552f33d",
            "_dom_classes": [],
            "description": "",
            "_model_name": "HTMLModel",
            "placeholder": "​",
            "_view_module": "@jupyter-widgets/controls",
            "_model_module_version": "1.5.0",
            "value": " 1.40k/1.40k [00:00&lt;00:00, 22.1kB/s]",
            "_view_count": null,
            "_view_module_version": "1.5.0",
            "description_tooltip": null,
            "_model_module": "@jupyter-widgets/controls",
            "layout": "IPY_MODEL_2cb606d0c6eb4be7b8c05034ac1cfda4"
          }
        },
        "b4a7efa319c447339849cee28b246a2e": {
          "model_module": "@jupyter-widgets/controls",
          "model_name": "DescriptionStyleModel",
          "model_module_version": "1.5.0",
          "state": {
            "_view_name": "StyleView",
            "_model_name": "DescriptionStyleModel",
            "description_width": "",
            "_view_module": "@jupyter-widgets/base",
            "_model_module_version": "1.5.0",
            "_view_count": null,
            "_view_module_version": "1.2.0",
            "_model_module": "@jupyter-widgets/controls"
          }
        },
        "0e66d8868f5d4ce980a781862049de61": {
          "model_module": "@jupyter-widgets/base",
          "model_name": "LayoutModel",
          "model_module_version": "1.2.0",
          "state": {
            "_view_name": "LayoutView",
            "grid_template_rows": null,
            "right": null,
            "justify_content": null,
            "_view_module": "@jupyter-widgets/base",
            "overflow": null,
            "_model_module_version": "1.2.0",
            "_view_count": null,
            "flex_flow": null,
            "width": null,
            "min_width": null,
            "border": null,
            "align_items": null,
            "bottom": null,
            "_model_module": "@jupyter-widgets/base",
            "top": null,
            "grid_column": null,
            "overflow_y": null,
            "overflow_x": null,
            "grid_auto_flow": null,
            "grid_area": null,
            "grid_template_columns": null,
            "flex": null,
            "_model_name": "LayoutModel",
            "justify_items": null,
            "grid_row": null,
            "max_height": null,
            "align_content": null,
            "visibility": null,
            "align_self": null,
            "height": null,
            "min_height": null,
            "padding": null,
            "grid_auto_rows": null,
            "grid_gap": null,
            "max_width": null,
            "order": null,
            "_view_module_version": "1.2.0",
            "grid_template_areas": null,
            "object_position": null,
            "object_fit": null,
            "grid_auto_columns": null,
            "margin": null,
            "display": null,
            "left": null
          }
        },
        "b2f3e984cfa34e948f5c52fa05e593ec": {
          "model_module": "@jupyter-widgets/controls",
          "model_name": "ProgressStyleModel",
          "model_module_version": "1.5.0",
          "state": {
            "_view_name": "StyleView",
            "_model_name": "ProgressStyleModel",
            "description_width": "",
            "_view_module": "@jupyter-widgets/base",
            "_model_module_version": "1.5.0",
            "_view_count": null,
            "_view_module_version": "1.2.0",
            "bar_color": null,
            "_model_module": "@jupyter-widgets/controls"
          }
        },
        "1d1b673dbaa04a8c950a7047c7bc805f": {
          "model_module": "@jupyter-widgets/base",
          "model_name": "LayoutModel",
          "model_module_version": "1.2.0",
          "state": {
            "_view_name": "LayoutView",
            "grid_template_rows": null,
            "right": null,
            "justify_content": null,
            "_view_module": "@jupyter-widgets/base",
            "overflow": null,
            "_model_module_version": "1.2.0",
            "_view_count": null,
            "flex_flow": null,
            "width": null,
            "min_width": null,
            "border": null,
            "align_items": null,
            "bottom": null,
            "_model_module": "@jupyter-widgets/base",
            "top": null,
            "grid_column": null,
            "overflow_y": null,
            "overflow_x": null,
            "grid_auto_flow": null,
            "grid_area": null,
            "grid_template_columns": null,
            "flex": null,
            "_model_name": "LayoutModel",
            "justify_items": null,
            "grid_row": null,
            "max_height": null,
            "align_content": null,
            "visibility": null,
            "align_self": null,
            "height": null,
            "min_height": null,
            "padding": null,
            "grid_auto_rows": null,
            "grid_gap": null,
            "max_width": null,
            "order": null,
            "_view_module_version": "1.2.0",
            "grid_template_areas": null,
            "object_position": null,
            "object_fit": null,
            "grid_auto_columns": null,
            "margin": null,
            "display": null,
            "left": null
          }
        },
        "0b6a4590ce21447e9be652fe5552f33d": {
          "model_module": "@jupyter-widgets/controls",
          "model_name": "DescriptionStyleModel",
          "model_module_version": "1.5.0",
          "state": {
            "_view_name": "StyleView",
            "_model_name": "DescriptionStyleModel",
            "description_width": "",
            "_view_module": "@jupyter-widgets/base",
            "_model_module_version": "1.5.0",
            "_view_count": null,
            "_view_module_version": "1.2.0",
            "_model_module": "@jupyter-widgets/controls"
          }
        },
        "2cb606d0c6eb4be7b8c05034ac1cfda4": {
          "model_module": "@jupyter-widgets/base",
          "model_name": "LayoutModel",
          "model_module_version": "1.2.0",
          "state": {
            "_view_name": "LayoutView",
            "grid_template_rows": null,
            "right": null,
            "justify_content": null,
            "_view_module": "@jupyter-widgets/base",
            "overflow": null,
            "_model_module_version": "1.2.0",
            "_view_count": null,
            "flex_flow": null,
            "width": null,
            "min_width": null,
            "border": null,
            "align_items": null,
            "bottom": null,
            "_model_module": "@jupyter-widgets/base",
            "top": null,
            "grid_column": null,
            "overflow_y": null,
            "overflow_x": null,
            "grid_auto_flow": null,
            "grid_area": null,
            "grid_template_columns": null,
            "flex": null,
            "_model_name": "LayoutModel",
            "justify_items": null,
            "grid_row": null,
            "max_height": null,
            "align_content": null,
            "visibility": null,
            "align_self": null,
            "height": null,
            "min_height": null,
            "padding": null,
            "grid_auto_rows": null,
            "grid_gap": null,
            "max_width": null,
            "order": null,
            "_view_module_version": "1.2.0",
            "grid_template_areas": null,
            "object_position": null,
            "object_fit": null,
            "grid_auto_columns": null,
            "margin": null,
            "display": null,
            "left": null
          }
        },
        "eb76b9f03f424356ad32b9d8eb7e51ea": {
          "model_module": "@jupyter-widgets/controls",
          "model_name": "HBoxModel",
          "model_module_version": "1.5.0",
          "state": {
            "_view_name": "HBoxView",
            "_dom_classes": [],
            "_model_name": "HBoxModel",
            "_view_module": "@jupyter-widgets/controls",
            "_model_module_version": "1.5.0",
            "_view_count": null,
            "_view_module_version": "1.5.0",
            "box_style": "",
            "layout": "IPY_MODEL_6a20e60262f4442c88cedd66dec62b80",
            "_model_module": "@jupyter-widgets/controls",
            "children": [
              "IPY_MODEL_78251acd33a345f6983ff79c3f152e21",
              "IPY_MODEL_5ab9b5efbfe949c19ef934d6a9fbd6c7",
              "IPY_MODEL_72f775065cb84f018a99d3ebbd7e40d1"
            ]
          }
        },
        "6a20e60262f4442c88cedd66dec62b80": {
          "model_module": "@jupyter-widgets/base",
          "model_name": "LayoutModel",
          "model_module_version": "1.2.0",
          "state": {
            "_view_name": "LayoutView",
            "grid_template_rows": null,
            "right": null,
            "justify_content": null,
            "_view_module": "@jupyter-widgets/base",
            "overflow": null,
            "_model_module_version": "1.2.0",
            "_view_count": null,
            "flex_flow": null,
            "width": null,
            "min_width": null,
            "border": null,
            "align_items": null,
            "bottom": null,
            "_model_module": "@jupyter-widgets/base",
            "top": null,
            "grid_column": null,
            "overflow_y": null,
            "overflow_x": null,
            "grid_auto_flow": null,
            "grid_area": null,
            "grid_template_columns": null,
            "flex": null,
            "_model_name": "LayoutModel",
            "justify_items": null,
            "grid_row": null,
            "max_height": null,
            "align_content": null,
            "visibility": null,
            "align_self": null,
            "height": null,
            "min_height": null,
            "padding": null,
            "grid_auto_rows": null,
            "grid_gap": null,
            "max_width": null,
            "order": null,
            "_view_module_version": "1.2.0",
            "grid_template_areas": null,
            "object_position": null,
            "object_fit": null,
            "grid_auto_columns": null,
            "margin": null,
            "display": null,
            "left": null
          }
        },
        "78251acd33a345f6983ff79c3f152e21": {
          "model_module": "@jupyter-widgets/controls",
          "model_name": "HTMLModel",
          "model_module_version": "1.5.0",
          "state": {
            "_view_name": "HTMLView",
            "style": "IPY_MODEL_8a7738c9bb1d4440bd0ab7b71eea3570",
            "_dom_classes": [],
            "description": "",
            "_model_name": "HTMLModel",
            "placeholder": "​",
            "_view_module": "@jupyter-widgets/controls",
            "_model_module_version": "1.5.0",
            "value": "Downloading: 100%",
            "_view_count": null,
            "_view_module_version": "1.5.0",
            "description_tooltip": null,
            "_model_module": "@jupyter-widgets/controls",
            "layout": "IPY_MODEL_a602866fba6147908053d05e3b53c531"
          }
        },
        "5ab9b5efbfe949c19ef934d6a9fbd6c7": {
          "model_module": "@jupyter-widgets/controls",
          "model_name": "FloatProgressModel",
          "model_module_version": "1.5.0",
          "state": {
            "_view_name": "ProgressView",
            "style": "IPY_MODEL_492240a6da6c499f8f74d69081decf82",
            "_dom_classes": [],
            "description": "",
            "_model_name": "FloatProgressModel",
            "bar_style": "success",
            "max": 1274,
            "_view_module": "@jupyter-widgets/controls",
            "_model_module_version": "1.5.0",
            "value": 1274,
            "_view_count": null,
            "_view_module_version": "1.5.0",
            "orientation": "horizontal",
            "min": 0,
            "description_tooltip": null,
            "_model_module": "@jupyter-widgets/controls",
            "layout": "IPY_MODEL_5dac94d6e6b7408e9bb352fcb3b3fa01"
          }
        },
        "72f775065cb84f018a99d3ebbd7e40d1": {
          "model_module": "@jupyter-widgets/controls",
          "model_name": "HTMLModel",
          "model_module_version": "1.5.0",
          "state": {
            "_view_name": "HTMLView",
            "style": "IPY_MODEL_dbe480659bea41818fe310c1d6817031",
            "_dom_classes": [],
            "description": "",
            "_model_name": "HTMLModel",
            "placeholder": "​",
            "_view_module": "@jupyter-widgets/controls",
            "_model_module_version": "1.5.0",
            "value": " 1.24k/1.24k [00:00&lt;00:00, 20.7kB/s]",
            "_view_count": null,
            "_view_module_version": "1.5.0",
            "description_tooltip": null,
            "_model_module": "@jupyter-widgets/controls",
            "layout": "IPY_MODEL_7b0df7750c674e0d9d2a727afcdbba62"
          }
        },
        "8a7738c9bb1d4440bd0ab7b71eea3570": {
          "model_module": "@jupyter-widgets/controls",
          "model_name": "DescriptionStyleModel",
          "model_module_version": "1.5.0",
          "state": {
            "_view_name": "StyleView",
            "_model_name": "DescriptionStyleModel",
            "description_width": "",
            "_view_module": "@jupyter-widgets/base",
            "_model_module_version": "1.5.0",
            "_view_count": null,
            "_view_module_version": "1.2.0",
            "_model_module": "@jupyter-widgets/controls"
          }
        },
        "a602866fba6147908053d05e3b53c531": {
          "model_module": "@jupyter-widgets/base",
          "model_name": "LayoutModel",
          "model_module_version": "1.2.0",
          "state": {
            "_view_name": "LayoutView",
            "grid_template_rows": null,
            "right": null,
            "justify_content": null,
            "_view_module": "@jupyter-widgets/base",
            "overflow": null,
            "_model_module_version": "1.2.0",
            "_view_count": null,
            "flex_flow": null,
            "width": null,
            "min_width": null,
            "border": null,
            "align_items": null,
            "bottom": null,
            "_model_module": "@jupyter-widgets/base",
            "top": null,
            "grid_column": null,
            "overflow_y": null,
            "overflow_x": null,
            "grid_auto_flow": null,
            "grid_area": null,
            "grid_template_columns": null,
            "flex": null,
            "_model_name": "LayoutModel",
            "justify_items": null,
            "grid_row": null,
            "max_height": null,
            "align_content": null,
            "visibility": null,
            "align_self": null,
            "height": null,
            "min_height": null,
            "padding": null,
            "grid_auto_rows": null,
            "grid_gap": null,
            "max_width": null,
            "order": null,
            "_view_module_version": "1.2.0",
            "grid_template_areas": null,
            "object_position": null,
            "object_fit": null,
            "grid_auto_columns": null,
            "margin": null,
            "display": null,
            "left": null
          }
        },
        "492240a6da6c499f8f74d69081decf82": {
          "model_module": "@jupyter-widgets/controls",
          "model_name": "ProgressStyleModel",
          "model_module_version": "1.5.0",
          "state": {
            "_view_name": "StyleView",
            "_model_name": "ProgressStyleModel",
            "description_width": "",
            "_view_module": "@jupyter-widgets/base",
            "_model_module_version": "1.5.0",
            "_view_count": null,
            "_view_module_version": "1.2.0",
            "bar_color": null,
            "_model_module": "@jupyter-widgets/controls"
          }
        },
        "5dac94d6e6b7408e9bb352fcb3b3fa01": {
          "model_module": "@jupyter-widgets/base",
          "model_name": "LayoutModel",
          "model_module_version": "1.2.0",
          "state": {
            "_view_name": "LayoutView",
            "grid_template_rows": null,
            "right": null,
            "justify_content": null,
            "_view_module": "@jupyter-widgets/base",
            "overflow": null,
            "_model_module_version": "1.2.0",
            "_view_count": null,
            "flex_flow": null,
            "width": null,
            "min_width": null,
            "border": null,
            "align_items": null,
            "bottom": null,
            "_model_module": "@jupyter-widgets/base",
            "top": null,
            "grid_column": null,
            "overflow_y": null,
            "overflow_x": null,
            "grid_auto_flow": null,
            "grid_area": null,
            "grid_template_columns": null,
            "flex": null,
            "_model_name": "LayoutModel",
            "justify_items": null,
            "grid_row": null,
            "max_height": null,
            "align_content": null,
            "visibility": null,
            "align_self": null,
            "height": null,
            "min_height": null,
            "padding": null,
            "grid_auto_rows": null,
            "grid_gap": null,
            "max_width": null,
            "order": null,
            "_view_module_version": "1.2.0",
            "grid_template_areas": null,
            "object_position": null,
            "object_fit": null,
            "grid_auto_columns": null,
            "margin": null,
            "display": null,
            "left": null
          }
        },
        "dbe480659bea41818fe310c1d6817031": {
          "model_module": "@jupyter-widgets/controls",
          "model_name": "DescriptionStyleModel",
          "model_module_version": "1.5.0",
          "state": {
            "_view_name": "StyleView",
            "_model_name": "DescriptionStyleModel",
            "description_width": "",
            "_view_module": "@jupyter-widgets/base",
            "_model_module_version": "1.5.0",
            "_view_count": null,
            "_view_module_version": "1.2.0",
            "_model_module": "@jupyter-widgets/controls"
          }
        },
        "7b0df7750c674e0d9d2a727afcdbba62": {
          "model_module": "@jupyter-widgets/base",
          "model_name": "LayoutModel",
          "model_module_version": "1.2.0",
          "state": {
            "_view_name": "LayoutView",
            "grid_template_rows": null,
            "right": null,
            "justify_content": null,
            "_view_module": "@jupyter-widgets/base",
            "overflow": null,
            "_model_module_version": "1.2.0",
            "_view_count": null,
            "flex_flow": null,
            "width": null,
            "min_width": null,
            "border": null,
            "align_items": null,
            "bottom": null,
            "_model_module": "@jupyter-widgets/base",
            "top": null,
            "grid_column": null,
            "overflow_y": null,
            "overflow_x": null,
            "grid_auto_flow": null,
            "grid_area": null,
            "grid_template_columns": null,
            "flex": null,
            "_model_name": "LayoutModel",
            "justify_items": null,
            "grid_row": null,
            "max_height": null,
            "align_content": null,
            "visibility": null,
            "align_self": null,
            "height": null,
            "min_height": null,
            "padding": null,
            "grid_auto_rows": null,
            "grid_gap": null,
            "max_width": null,
            "order": null,
            "_view_module_version": "1.2.0",
            "grid_template_areas": null,
            "object_position": null,
            "object_fit": null,
            "grid_auto_columns": null,
            "margin": null,
            "display": null,
            "left": null
          }
        },
        "023fde1bf2cb42d7b8f0be578351e7be": {
          "model_module": "@jupyter-widgets/controls",
          "model_name": "HBoxModel",
          "model_module_version": "1.5.0",
          "state": {
            "_view_name": "HBoxView",
            "_dom_classes": [],
            "_model_name": "HBoxModel",
            "_view_module": "@jupyter-widgets/controls",
            "_model_module_version": "1.5.0",
            "_view_count": null,
            "_view_module_version": "1.5.0",
            "box_style": "",
            "layout": "IPY_MODEL_83865cc7e3774852a6df0a4b59cca9fd",
            "_model_module": "@jupyter-widgets/controls",
            "children": [
              "IPY_MODEL_c9d4f345e8654740aaa06dcbf9e5c39e",
              "IPY_MODEL_6ecfa24f31124ef1aa6c19ad929dd76e",
              "IPY_MODEL_15fed36c20c04fb082f42d52b73134af"
            ]
          }
        },
        "83865cc7e3774852a6df0a4b59cca9fd": {
          "model_module": "@jupyter-widgets/base",
          "model_name": "LayoutModel",
          "model_module_version": "1.2.0",
          "state": {
            "_view_name": "LayoutView",
            "grid_template_rows": null,
            "right": null,
            "justify_content": null,
            "_view_module": "@jupyter-widgets/base",
            "overflow": null,
            "_model_module_version": "1.2.0",
            "_view_count": null,
            "flex_flow": null,
            "width": null,
            "min_width": null,
            "border": null,
            "align_items": null,
            "bottom": null,
            "_model_module": "@jupyter-widgets/base",
            "top": null,
            "grid_column": null,
            "overflow_y": null,
            "overflow_x": null,
            "grid_auto_flow": null,
            "grid_area": null,
            "grid_template_columns": null,
            "flex": null,
            "_model_name": "LayoutModel",
            "justify_items": null,
            "grid_row": null,
            "max_height": null,
            "align_content": null,
            "visibility": null,
            "align_self": null,
            "height": null,
            "min_height": null,
            "padding": null,
            "grid_auto_rows": null,
            "grid_gap": null,
            "max_width": null,
            "order": null,
            "_view_module_version": "1.2.0",
            "grid_template_areas": null,
            "object_position": null,
            "object_fit": null,
            "grid_auto_columns": null,
            "margin": null,
            "display": null,
            "left": null
          }
        },
        "c9d4f345e8654740aaa06dcbf9e5c39e": {
          "model_module": "@jupyter-widgets/controls",
          "model_name": "HTMLModel",
          "model_module_version": "1.5.0",
          "state": {
            "_view_name": "HTMLView",
            "style": "IPY_MODEL_25858fded4ba40ac9eb14d3c67ae7e2b",
            "_dom_classes": [],
            "description": "",
            "_model_name": "HTMLModel",
            "placeholder": "​",
            "_view_module": "@jupyter-widgets/controls",
            "_model_module_version": "1.5.0",
            "value": "Downloading: 100%",
            "_view_count": null,
            "_view_module_version": "1.5.0",
            "description_tooltip": null,
            "_model_module": "@jupyter-widgets/controls",
            "layout": "IPY_MODEL_3ded4f75b6a44011ad9fe1c791fec712"
          }
        },
        "6ecfa24f31124ef1aa6c19ad929dd76e": {
          "model_module": "@jupyter-widgets/controls",
          "model_name": "FloatProgressModel",
          "model_module_version": "1.5.0",
          "state": {
            "_view_name": "ProgressView",
            "style": "IPY_MODEL_806e149ef02c4214b7af2c22a982c35b",
            "_dom_classes": [],
            "description": "",
            "_model_name": "FloatProgressModel",
            "bar_style": "success",
            "max": 2275419259,
            "_view_module": "@jupyter-widgets/controls",
            "_model_module_version": "1.5.0",
            "value": 2275419259,
            "_view_count": null,
            "_view_module_version": "1.5.0",
            "orientation": "horizontal",
            "min": 0,
            "description_tooltip": null,
            "_model_module": "@jupyter-widgets/controls",
            "layout": "IPY_MODEL_f851a67b3e524594b44518bee8f42ad9"
          }
        },
        "15fed36c20c04fb082f42d52b73134af": {
          "model_module": "@jupyter-widgets/controls",
          "model_name": "HTMLModel",
          "model_module_version": "1.5.0",
          "state": {
            "_view_name": "HTMLView",
            "style": "IPY_MODEL_c59768f626014c63a0f7d879e36ea937",
            "_dom_classes": [],
            "description": "",
            "_model_name": "HTMLModel",
            "placeholder": "​",
            "_view_module": "@jupyter-widgets/controls",
            "_model_module_version": "1.5.0",
            "value": " 2.12G/2.12G [01:10&lt;00:00, 33.4MB/s]",
            "_view_count": null,
            "_view_module_version": "1.5.0",
            "description_tooltip": null,
            "_model_module": "@jupyter-widgets/controls",
            "layout": "IPY_MODEL_a5f692adb5f848a8a0fdc322af301e18"
          }
        },
        "25858fded4ba40ac9eb14d3c67ae7e2b": {
          "model_module": "@jupyter-widgets/controls",
          "model_name": "DescriptionStyleModel",
          "model_module_version": "1.5.0",
          "state": {
            "_view_name": "StyleView",
            "_model_name": "DescriptionStyleModel",
            "description_width": "",
            "_view_module": "@jupyter-widgets/base",
            "_model_module_version": "1.5.0",
            "_view_count": null,
            "_view_module_version": "1.2.0",
            "_model_module": "@jupyter-widgets/controls"
          }
        },
        "3ded4f75b6a44011ad9fe1c791fec712": {
          "model_module": "@jupyter-widgets/base",
          "model_name": "LayoutModel",
          "model_module_version": "1.2.0",
          "state": {
            "_view_name": "LayoutView",
            "grid_template_rows": null,
            "right": null,
            "justify_content": null,
            "_view_module": "@jupyter-widgets/base",
            "overflow": null,
            "_model_module_version": "1.2.0",
            "_view_count": null,
            "flex_flow": null,
            "width": null,
            "min_width": null,
            "border": null,
            "align_items": null,
            "bottom": null,
            "_model_module": "@jupyter-widgets/base",
            "top": null,
            "grid_column": null,
            "overflow_y": null,
            "overflow_x": null,
            "grid_auto_flow": null,
            "grid_area": null,
            "grid_template_columns": null,
            "flex": null,
            "_model_name": "LayoutModel",
            "justify_items": null,
            "grid_row": null,
            "max_height": null,
            "align_content": null,
            "visibility": null,
            "align_self": null,
            "height": null,
            "min_height": null,
            "padding": null,
            "grid_auto_rows": null,
            "grid_gap": null,
            "max_width": null,
            "order": null,
            "_view_module_version": "1.2.0",
            "grid_template_areas": null,
            "object_position": null,
            "object_fit": null,
            "grid_auto_columns": null,
            "margin": null,
            "display": null,
            "left": null
          }
        },
        "806e149ef02c4214b7af2c22a982c35b": {
          "model_module": "@jupyter-widgets/controls",
          "model_name": "ProgressStyleModel",
          "model_module_version": "1.5.0",
          "state": {
            "_view_name": "StyleView",
            "_model_name": "ProgressStyleModel",
            "description_width": "",
            "_view_module": "@jupyter-widgets/base",
            "_model_module_version": "1.5.0",
            "_view_count": null,
            "_view_module_version": "1.2.0",
            "bar_color": null,
            "_model_module": "@jupyter-widgets/controls"
          }
        },
        "f851a67b3e524594b44518bee8f42ad9": {
          "model_module": "@jupyter-widgets/base",
          "model_name": "LayoutModel",
          "model_module_version": "1.2.0",
          "state": {
            "_view_name": "LayoutView",
            "grid_template_rows": null,
            "right": null,
            "justify_content": null,
            "_view_module": "@jupyter-widgets/base",
            "overflow": null,
            "_model_module_version": "1.2.0",
            "_view_count": null,
            "flex_flow": null,
            "width": null,
            "min_width": null,
            "border": null,
            "align_items": null,
            "bottom": null,
            "_model_module": "@jupyter-widgets/base",
            "top": null,
            "grid_column": null,
            "overflow_y": null,
            "overflow_x": null,
            "grid_auto_flow": null,
            "grid_area": null,
            "grid_template_columns": null,
            "flex": null,
            "_model_name": "LayoutModel",
            "justify_items": null,
            "grid_row": null,
            "max_height": null,
            "align_content": null,
            "visibility": null,
            "align_self": null,
            "height": null,
            "min_height": null,
            "padding": null,
            "grid_auto_rows": null,
            "grid_gap": null,
            "max_width": null,
            "order": null,
            "_view_module_version": "1.2.0",
            "grid_template_areas": null,
            "object_position": null,
            "object_fit": null,
            "grid_auto_columns": null,
            "margin": null,
            "display": null,
            "left": null
          }
        },
        "c59768f626014c63a0f7d879e36ea937": {
          "model_module": "@jupyter-widgets/controls",
          "model_name": "DescriptionStyleModel",
          "model_module_version": "1.5.0",
          "state": {
            "_view_name": "StyleView",
            "_model_name": "DescriptionStyleModel",
            "description_width": "",
            "_view_module": "@jupyter-widgets/base",
            "_model_module_version": "1.5.0",
            "_view_count": null,
            "_view_module_version": "1.2.0",
            "_model_module": "@jupyter-widgets/controls"
          }
        },
        "a5f692adb5f848a8a0fdc322af301e18": {
          "model_module": "@jupyter-widgets/base",
          "model_name": "LayoutModel",
          "model_module_version": "1.2.0",
          "state": {
            "_view_name": "LayoutView",
            "grid_template_rows": null,
            "right": null,
            "justify_content": null,
            "_view_module": "@jupyter-widgets/base",
            "overflow": null,
            "_model_module_version": "1.2.0",
            "_view_count": null,
            "flex_flow": null,
            "width": null,
            "min_width": null,
            "border": null,
            "align_items": null,
            "bottom": null,
            "_model_module": "@jupyter-widgets/base",
            "top": null,
            "grid_column": null,
            "overflow_y": null,
            "overflow_x": null,
            "grid_auto_flow": null,
            "grid_area": null,
            "grid_template_columns": null,
            "flex": null,
            "_model_name": "LayoutModel",
            "justify_items": null,
            "grid_row": null,
            "max_height": null,
            "align_content": null,
            "visibility": null,
            "align_self": null,
            "height": null,
            "min_height": null,
            "padding": null,
            "grid_auto_rows": null,
            "grid_gap": null,
            "max_width": null,
            "order": null,
            "_view_module_version": "1.2.0",
            "grid_template_areas": null,
            "object_position": null,
            "object_fit": null,
            "grid_auto_columns": null,
            "margin": null,
            "display": null,
            "left": null
          }
        },
        "d10557a19d914fb3b1071d04d970ba54": {
          "model_module": "@jupyter-widgets/controls",
          "model_name": "HBoxModel",
          "model_module_version": "1.5.0",
          "state": {
            "_view_name": "HBoxView",
            "_dom_classes": [],
            "_model_name": "HBoxModel",
            "_view_module": "@jupyter-widgets/controls",
            "_model_module_version": "1.5.0",
            "_view_count": null,
            "_view_module_version": "1.5.0",
            "box_style": "",
            "layout": "IPY_MODEL_60781a93cb754be6a5f7f2450220cfbb",
            "_model_module": "@jupyter-widgets/controls",
            "children": [
              "IPY_MODEL_cb036b5a2c544209a57c1d05903cd5f8",
              "IPY_MODEL_5c057b3e9cb84976a78b067365f756c3",
              "IPY_MODEL_0703d6b9f08d4532a220858b2d23ce3d"
            ]
          }
        },
        "60781a93cb754be6a5f7f2450220cfbb": {
          "model_module": "@jupyter-widgets/base",
          "model_name": "LayoutModel",
          "model_module_version": "1.2.0",
          "state": {
            "_view_name": "LayoutView",
            "grid_template_rows": null,
            "right": null,
            "justify_content": null,
            "_view_module": "@jupyter-widgets/base",
            "overflow": null,
            "_model_module_version": "1.2.0",
            "_view_count": null,
            "flex_flow": null,
            "width": null,
            "min_width": null,
            "border": null,
            "align_items": null,
            "bottom": null,
            "_model_module": "@jupyter-widgets/base",
            "top": null,
            "grid_column": null,
            "overflow_y": null,
            "overflow_x": null,
            "grid_auto_flow": null,
            "grid_area": null,
            "grid_template_columns": null,
            "flex": null,
            "_model_name": "LayoutModel",
            "justify_items": null,
            "grid_row": null,
            "max_height": null,
            "align_content": null,
            "visibility": null,
            "align_self": null,
            "height": null,
            "min_height": null,
            "padding": null,
            "grid_auto_rows": null,
            "grid_gap": null,
            "max_width": null,
            "order": null,
            "_view_module_version": "1.2.0",
            "grid_template_areas": null,
            "object_position": null,
            "object_fit": null,
            "grid_auto_columns": null,
            "margin": null,
            "display": null,
            "left": null
          }
        },
        "cb036b5a2c544209a57c1d05903cd5f8": {
          "model_module": "@jupyter-widgets/controls",
          "model_name": "HTMLModel",
          "model_module_version": "1.5.0",
          "state": {
            "_view_name": "HTMLView",
            "style": "IPY_MODEL_90dffc69053645428f9940daf437331b",
            "_dom_classes": [],
            "description": "",
            "_model_name": "HTMLModel",
            "placeholder": "​",
            "_view_module": "@jupyter-widgets/controls",
            "_model_module_version": "1.5.0",
            "value": "Downloading: 100%",
            "_view_count": null,
            "_view_module_version": "1.5.0",
            "description_tooltip": null,
            "_model_module": "@jupyter-widgets/controls",
            "layout": "IPY_MODEL_04614d8de8ce4416b64d214f0f4ce9e5"
          }
        },
        "5c057b3e9cb84976a78b067365f756c3": {
          "model_module": "@jupyter-widgets/controls",
          "model_name": "FloatProgressModel",
          "model_module_version": "1.5.0",
          "state": {
            "_view_name": "ProgressView",
            "style": "IPY_MODEL_5f27d1b9a737408ea027521fe1f2f2e4",
            "_dom_classes": [],
            "description": "",
            "_model_name": "FloatProgressModel",
            "bar_style": "success",
            "max": 629,
            "_view_module": "@jupyter-widgets/controls",
            "_model_module_version": "1.5.0",
            "value": 629,
            "_view_count": null,
            "_view_module_version": "1.5.0",
            "orientation": "horizontal",
            "min": 0,
            "description_tooltip": null,
            "_model_module": "@jupyter-widgets/controls",
            "layout": "IPY_MODEL_61c3d791efec489f9ad00e00c88309dd"
          }
        },
        "0703d6b9f08d4532a220858b2d23ce3d": {
          "model_module": "@jupyter-widgets/controls",
          "model_name": "HTMLModel",
          "model_module_version": "1.5.0",
          "state": {
            "_view_name": "HTMLView",
            "style": "IPY_MODEL_3259a2327a2e4551ae694339da3ed9a2",
            "_dom_classes": [],
            "description": "",
            "_model_name": "HTMLModel",
            "placeholder": "​",
            "_view_module": "@jupyter-widgets/controls",
            "_model_module_version": "1.5.0",
            "value": " 629/629 [00:00&lt;00:00, 10.7kB/s]",
            "_view_count": null,
            "_view_module_version": "1.5.0",
            "description_tooltip": null,
            "_model_module": "@jupyter-widgets/controls",
            "layout": "IPY_MODEL_2d69c96865f44a30872c94c2cb51007d"
          }
        },
        "90dffc69053645428f9940daf437331b": {
          "model_module": "@jupyter-widgets/controls",
          "model_name": "DescriptionStyleModel",
          "model_module_version": "1.5.0",
          "state": {
            "_view_name": "StyleView",
            "_model_name": "DescriptionStyleModel",
            "description_width": "",
            "_view_module": "@jupyter-widgets/base",
            "_model_module_version": "1.5.0",
            "_view_count": null,
            "_view_module_version": "1.2.0",
            "_model_module": "@jupyter-widgets/controls"
          }
        },
        "04614d8de8ce4416b64d214f0f4ce9e5": {
          "model_module": "@jupyter-widgets/base",
          "model_name": "LayoutModel",
          "model_module_version": "1.2.0",
          "state": {
            "_view_name": "LayoutView",
            "grid_template_rows": null,
            "right": null,
            "justify_content": null,
            "_view_module": "@jupyter-widgets/base",
            "overflow": null,
            "_model_module_version": "1.2.0",
            "_view_count": null,
            "flex_flow": null,
            "width": null,
            "min_width": null,
            "border": null,
            "align_items": null,
            "bottom": null,
            "_model_module": "@jupyter-widgets/base",
            "top": null,
            "grid_column": null,
            "overflow_y": null,
            "overflow_x": null,
            "grid_auto_flow": null,
            "grid_area": null,
            "grid_template_columns": null,
            "flex": null,
            "_model_name": "LayoutModel",
            "justify_items": null,
            "grid_row": null,
            "max_height": null,
            "align_content": null,
            "visibility": null,
            "align_self": null,
            "height": null,
            "min_height": null,
            "padding": null,
            "grid_auto_rows": null,
            "grid_gap": null,
            "max_width": null,
            "order": null,
            "_view_module_version": "1.2.0",
            "grid_template_areas": null,
            "object_position": null,
            "object_fit": null,
            "grid_auto_columns": null,
            "margin": null,
            "display": null,
            "left": null
          }
        },
        "5f27d1b9a737408ea027521fe1f2f2e4": {
          "model_module": "@jupyter-widgets/controls",
          "model_name": "ProgressStyleModel",
          "model_module_version": "1.5.0",
          "state": {
            "_view_name": "StyleView",
            "_model_name": "ProgressStyleModel",
            "description_width": "",
            "_view_module": "@jupyter-widgets/base",
            "_model_module_version": "1.5.0",
            "_view_count": null,
            "_view_module_version": "1.2.0",
            "bar_color": null,
            "_model_module": "@jupyter-widgets/controls"
          }
        },
        "61c3d791efec489f9ad00e00c88309dd": {
          "model_module": "@jupyter-widgets/base",
          "model_name": "LayoutModel",
          "model_module_version": "1.2.0",
          "state": {
            "_view_name": "LayoutView",
            "grid_template_rows": null,
            "right": null,
            "justify_content": null,
            "_view_module": "@jupyter-widgets/base",
            "overflow": null,
            "_model_module_version": "1.2.0",
            "_view_count": null,
            "flex_flow": null,
            "width": null,
            "min_width": null,
            "border": null,
            "align_items": null,
            "bottom": null,
            "_model_module": "@jupyter-widgets/base",
            "top": null,
            "grid_column": null,
            "overflow_y": null,
            "overflow_x": null,
            "grid_auto_flow": null,
            "grid_area": null,
            "grid_template_columns": null,
            "flex": null,
            "_model_name": "LayoutModel",
            "justify_items": null,
            "grid_row": null,
            "max_height": null,
            "align_content": null,
            "visibility": null,
            "align_self": null,
            "height": null,
            "min_height": null,
            "padding": null,
            "grid_auto_rows": null,
            "grid_gap": null,
            "max_width": null,
            "order": null,
            "_view_module_version": "1.2.0",
            "grid_template_areas": null,
            "object_position": null,
            "object_fit": null,
            "grid_auto_columns": null,
            "margin": null,
            "display": null,
            "left": null
          }
        },
        "3259a2327a2e4551ae694339da3ed9a2": {
          "model_module": "@jupyter-widgets/controls",
          "model_name": "DescriptionStyleModel",
          "model_module_version": "1.5.0",
          "state": {
            "_view_name": "StyleView",
            "_model_name": "DescriptionStyleModel",
            "description_width": "",
            "_view_module": "@jupyter-widgets/base",
            "_model_module_version": "1.5.0",
            "_view_count": null,
            "_view_module_version": "1.2.0",
            "_model_module": "@jupyter-widgets/controls"
          }
        },
        "2d69c96865f44a30872c94c2cb51007d": {
          "model_module": "@jupyter-widgets/base",
          "model_name": "LayoutModel",
          "model_module_version": "1.2.0",
          "state": {
            "_view_name": "LayoutView",
            "grid_template_rows": null,
            "right": null,
            "justify_content": null,
            "_view_module": "@jupyter-widgets/base",
            "overflow": null,
            "_model_module_version": "1.2.0",
            "_view_count": null,
            "flex_flow": null,
            "width": null,
            "min_width": null,
            "border": null,
            "align_items": null,
            "bottom": null,
            "_model_module": "@jupyter-widgets/base",
            "top": null,
            "grid_column": null,
            "overflow_y": null,
            "overflow_x": null,
            "grid_auto_flow": null,
            "grid_area": null,
            "grid_template_columns": null,
            "flex": null,
            "_model_name": "LayoutModel",
            "justify_items": null,
            "grid_row": null,
            "max_height": null,
            "align_content": null,
            "visibility": null,
            "align_self": null,
            "height": null,
            "min_height": null,
            "padding": null,
            "grid_auto_rows": null,
            "grid_gap": null,
            "max_width": null,
            "order": null,
            "_view_module_version": "1.2.0",
            "grid_template_areas": null,
            "object_position": null,
            "object_fit": null,
            "grid_auto_columns": null,
            "margin": null,
            "display": null,
            "left": null
          }
        },
        "23b3f718ef254f3da70cece1dc46caf4": {
          "model_module": "@jupyter-widgets/controls",
          "model_name": "HBoxModel",
          "model_module_version": "1.5.0",
          "state": {
            "_view_name": "HBoxView",
            "_dom_classes": [],
            "_model_name": "HBoxModel",
            "_view_module": "@jupyter-widgets/controls",
            "_model_module_version": "1.5.0",
            "_view_count": null,
            "_view_module_version": "1.5.0",
            "box_style": "",
            "layout": "IPY_MODEL_3b93969e31c2403a9410f2f45f13c0e5",
            "_model_module": "@jupyter-widgets/controls",
            "children": [
              "IPY_MODEL_eaa6c2310fad44ac9d7749ebcc9f5d1c",
              "IPY_MODEL_fbf1af293a39480f84c499d90507fdbf",
              "IPY_MODEL_5a2a71593cd140e7885cea9c375f6a72"
            ]
          }
        },
        "3b93969e31c2403a9410f2f45f13c0e5": {
          "model_module": "@jupyter-widgets/base",
          "model_name": "LayoutModel",
          "model_module_version": "1.2.0",
          "state": {
            "_view_name": "LayoutView",
            "grid_template_rows": null,
            "right": null,
            "justify_content": null,
            "_view_module": "@jupyter-widgets/base",
            "overflow": null,
            "_model_module_version": "1.2.0",
            "_view_count": null,
            "flex_flow": null,
            "width": null,
            "min_width": null,
            "border": null,
            "align_items": null,
            "bottom": null,
            "_model_module": "@jupyter-widgets/base",
            "top": null,
            "grid_column": null,
            "overflow_y": null,
            "overflow_x": null,
            "grid_auto_flow": null,
            "grid_area": null,
            "grid_template_columns": null,
            "flex": null,
            "_model_name": "LayoutModel",
            "justify_items": null,
            "grid_row": null,
            "max_height": null,
            "align_content": null,
            "visibility": null,
            "align_self": null,
            "height": null,
            "min_height": null,
            "padding": null,
            "grid_auto_rows": null,
            "grid_gap": null,
            "max_width": null,
            "order": null,
            "_view_module_version": "1.2.0",
            "grid_template_areas": null,
            "object_position": null,
            "object_fit": null,
            "grid_auto_columns": null,
            "margin": null,
            "display": null,
            "left": null
          }
        },
        "eaa6c2310fad44ac9d7749ebcc9f5d1c": {
          "model_module": "@jupyter-widgets/controls",
          "model_name": "HTMLModel",
          "model_module_version": "1.5.0",
          "state": {
            "_view_name": "HTMLView",
            "style": "IPY_MODEL_b2b2670e92db4d839fca0c459d2ca8ae",
            "_dom_classes": [],
            "description": "",
            "_model_name": "HTMLModel",
            "placeholder": "​",
            "_view_module": "@jupyter-widgets/controls",
            "_model_module_version": "1.5.0",
            "value": "Downloading: 100%",
            "_view_count": null,
            "_view_module_version": "1.5.0",
            "description_tooltip": null,
            "_model_module": "@jupyter-widgets/controls",
            "layout": "IPY_MODEL_31f01bcea22b4a2b86c4169a95d5c625"
          }
        },
        "fbf1af293a39480f84c499d90507fdbf": {
          "model_module": "@jupyter-widgets/controls",
          "model_name": "FloatProgressModel",
          "model_module_version": "1.5.0",
          "state": {
            "_view_name": "ProgressView",
            "style": "IPY_MODEL_f240bea6887b48b48a55482da4e02836",
            "_dom_classes": [],
            "description": "",
            "_model_name": "FloatProgressModel",
            "bar_style": "success",
            "max": 267844284,
            "_view_module": "@jupyter-widgets/controls",
            "_model_module_version": "1.5.0",
            "value": 267844284,
            "_view_count": null,
            "_view_module_version": "1.5.0",
            "orientation": "horizontal",
            "min": 0,
            "description_tooltip": null,
            "_model_module": "@jupyter-widgets/controls",
            "layout": "IPY_MODEL_0aeec5b311dc4544ae28f7ce65da9cba"
          }
        },
        "5a2a71593cd140e7885cea9c375f6a72": {
          "model_module": "@jupyter-widgets/controls",
          "model_name": "HTMLModel",
          "model_module_version": "1.5.0",
          "state": {
            "_view_name": "HTMLView",
            "style": "IPY_MODEL_35a9c210be3b493f92676024434ffadc",
            "_dom_classes": [],
            "description": "",
            "_model_name": "HTMLModel",
            "placeholder": "​",
            "_view_module": "@jupyter-widgets/controls",
            "_model_module_version": "1.5.0",
            "value": " 255M/255M [00:08&lt;00:00, 32.1MB/s]",
            "_view_count": null,
            "_view_module_version": "1.5.0",
            "description_tooltip": null,
            "_model_module": "@jupyter-widgets/controls",
            "layout": "IPY_MODEL_53c8fed407a744b482291b590980c052"
          }
        },
        "b2b2670e92db4d839fca0c459d2ca8ae": {
          "model_module": "@jupyter-widgets/controls",
          "model_name": "DescriptionStyleModel",
          "model_module_version": "1.5.0",
          "state": {
            "_view_name": "StyleView",
            "_model_name": "DescriptionStyleModel",
            "description_width": "",
            "_view_module": "@jupyter-widgets/base",
            "_model_module_version": "1.5.0",
            "_view_count": null,
            "_view_module_version": "1.2.0",
            "_model_module": "@jupyter-widgets/controls"
          }
        },
        "31f01bcea22b4a2b86c4169a95d5c625": {
          "model_module": "@jupyter-widgets/base",
          "model_name": "LayoutModel",
          "model_module_version": "1.2.0",
          "state": {
            "_view_name": "LayoutView",
            "grid_template_rows": null,
            "right": null,
            "justify_content": null,
            "_view_module": "@jupyter-widgets/base",
            "overflow": null,
            "_model_module_version": "1.2.0",
            "_view_count": null,
            "flex_flow": null,
            "width": null,
            "min_width": null,
            "border": null,
            "align_items": null,
            "bottom": null,
            "_model_module": "@jupyter-widgets/base",
            "top": null,
            "grid_column": null,
            "overflow_y": null,
            "overflow_x": null,
            "grid_auto_flow": null,
            "grid_area": null,
            "grid_template_columns": null,
            "flex": null,
            "_model_name": "LayoutModel",
            "justify_items": null,
            "grid_row": null,
            "max_height": null,
            "align_content": null,
            "visibility": null,
            "align_self": null,
            "height": null,
            "min_height": null,
            "padding": null,
            "grid_auto_rows": null,
            "grid_gap": null,
            "max_width": null,
            "order": null,
            "_view_module_version": "1.2.0",
            "grid_template_areas": null,
            "object_position": null,
            "object_fit": null,
            "grid_auto_columns": null,
            "margin": null,
            "display": null,
            "left": null
          }
        },
        "f240bea6887b48b48a55482da4e02836": {
          "model_module": "@jupyter-widgets/controls",
          "model_name": "ProgressStyleModel",
          "model_module_version": "1.5.0",
          "state": {
            "_view_name": "StyleView",
            "_model_name": "ProgressStyleModel",
            "description_width": "",
            "_view_module": "@jupyter-widgets/base",
            "_model_module_version": "1.5.0",
            "_view_count": null,
            "_view_module_version": "1.2.0",
            "bar_color": null,
            "_model_module": "@jupyter-widgets/controls"
          }
        },
        "0aeec5b311dc4544ae28f7ce65da9cba": {
          "model_module": "@jupyter-widgets/base",
          "model_name": "LayoutModel",
          "model_module_version": "1.2.0",
          "state": {
            "_view_name": "LayoutView",
            "grid_template_rows": null,
            "right": null,
            "justify_content": null,
            "_view_module": "@jupyter-widgets/base",
            "overflow": null,
            "_model_module_version": "1.2.0",
            "_view_count": null,
            "flex_flow": null,
            "width": null,
            "min_width": null,
            "border": null,
            "align_items": null,
            "bottom": null,
            "_model_module": "@jupyter-widgets/base",
            "top": null,
            "grid_column": null,
            "overflow_y": null,
            "overflow_x": null,
            "grid_auto_flow": null,
            "grid_area": null,
            "grid_template_columns": null,
            "flex": null,
            "_model_name": "LayoutModel",
            "justify_items": null,
            "grid_row": null,
            "max_height": null,
            "align_content": null,
            "visibility": null,
            "align_self": null,
            "height": null,
            "min_height": null,
            "padding": null,
            "grid_auto_rows": null,
            "grid_gap": null,
            "max_width": null,
            "order": null,
            "_view_module_version": "1.2.0",
            "grid_template_areas": null,
            "object_position": null,
            "object_fit": null,
            "grid_auto_columns": null,
            "margin": null,
            "display": null,
            "left": null
          }
        },
        "35a9c210be3b493f92676024434ffadc": {
          "model_module": "@jupyter-widgets/controls",
          "model_name": "DescriptionStyleModel",
          "model_module_version": "1.5.0",
          "state": {
            "_view_name": "StyleView",
            "_model_name": "DescriptionStyleModel",
            "description_width": "",
            "_view_module": "@jupyter-widgets/base",
            "_model_module_version": "1.5.0",
            "_view_count": null,
            "_view_module_version": "1.2.0",
            "_model_module": "@jupyter-widgets/controls"
          }
        },
        "53c8fed407a744b482291b590980c052": {
          "model_module": "@jupyter-widgets/base",
          "model_name": "LayoutModel",
          "model_module_version": "1.2.0",
          "state": {
            "_view_name": "LayoutView",
            "grid_template_rows": null,
            "right": null,
            "justify_content": null,
            "_view_module": "@jupyter-widgets/base",
            "overflow": null,
            "_model_module_version": "1.2.0",
            "_view_count": null,
            "flex_flow": null,
            "width": null,
            "min_width": null,
            "border": null,
            "align_items": null,
            "bottom": null,
            "_model_module": "@jupyter-widgets/base",
            "top": null,
            "grid_column": null,
            "overflow_y": null,
            "overflow_x": null,
            "grid_auto_flow": null,
            "grid_area": null,
            "grid_template_columns": null,
            "flex": null,
            "_model_name": "LayoutModel",
            "justify_items": null,
            "grid_row": null,
            "max_height": null,
            "align_content": null,
            "visibility": null,
            "align_self": null,
            "height": null,
            "min_height": null,
            "padding": null,
            "grid_auto_rows": null,
            "grid_gap": null,
            "max_width": null,
            "order": null,
            "_view_module_version": "1.2.0",
            "grid_template_areas": null,
            "object_position": null,
            "object_fit": null,
            "grid_auto_columns": null,
            "margin": null,
            "display": null,
            "left": null
          }
        },
        "77521e632e094ab792b66be2c2d9bf85": {
          "model_module": "@jupyter-widgets/controls",
          "model_name": "HBoxModel",
          "model_module_version": "1.5.0",
          "state": {
            "_view_name": "HBoxView",
            "_dom_classes": [],
            "_model_name": "HBoxModel",
            "_view_module": "@jupyter-widgets/controls",
            "_model_module_version": "1.5.0",
            "_view_count": null,
            "_view_module_version": "1.5.0",
            "box_style": "",
            "layout": "IPY_MODEL_0dab89d3c473437fb7b3bf0d284ffa71",
            "_model_module": "@jupyter-widgets/controls",
            "children": [
              "IPY_MODEL_20217c3bc38044ecb4f8c3983994c31e",
              "IPY_MODEL_001ca2bc100448d1b43eef906e2d0911",
              "IPY_MODEL_4d1741aa4e954b1098fcdde4b592e213"
            ]
          }
        },
        "0dab89d3c473437fb7b3bf0d284ffa71": {
          "model_module": "@jupyter-widgets/base",
          "model_name": "LayoutModel",
          "model_module_version": "1.2.0",
          "state": {
            "_view_name": "LayoutView",
            "grid_template_rows": null,
            "right": null,
            "justify_content": null,
            "_view_module": "@jupyter-widgets/base",
            "overflow": null,
            "_model_module_version": "1.2.0",
            "_view_count": null,
            "flex_flow": null,
            "width": null,
            "min_width": null,
            "border": null,
            "align_items": null,
            "bottom": null,
            "_model_module": "@jupyter-widgets/base",
            "top": null,
            "grid_column": null,
            "overflow_y": null,
            "overflow_x": null,
            "grid_auto_flow": null,
            "grid_area": null,
            "grid_template_columns": null,
            "flex": null,
            "_model_name": "LayoutModel",
            "justify_items": null,
            "grid_row": null,
            "max_height": null,
            "align_content": null,
            "visibility": null,
            "align_self": null,
            "height": null,
            "min_height": null,
            "padding": null,
            "grid_auto_rows": null,
            "grid_gap": null,
            "max_width": null,
            "order": null,
            "_view_module_version": "1.2.0",
            "grid_template_areas": null,
            "object_position": null,
            "object_fit": null,
            "grid_auto_columns": null,
            "margin": null,
            "display": null,
            "left": null
          }
        },
        "20217c3bc38044ecb4f8c3983994c31e": {
          "model_module": "@jupyter-widgets/controls",
          "model_name": "HTMLModel",
          "model_module_version": "1.5.0",
          "state": {
            "_view_name": "HTMLView",
            "style": "IPY_MODEL_32a7341e44cf4fb6bad43fc830d56015",
            "_dom_classes": [],
            "description": "",
            "_model_name": "HTMLModel",
            "placeholder": "​",
            "_view_module": "@jupyter-widgets/controls",
            "_model_module_version": "1.5.0",
            "value": "Downloading: 100%",
            "_view_count": null,
            "_view_module_version": "1.5.0",
            "description_tooltip": null,
            "_model_module": "@jupyter-widgets/controls",
            "layout": "IPY_MODEL_d6ce10f980dc41e69c592634b7b33b61"
          }
        },
        "001ca2bc100448d1b43eef906e2d0911": {
          "model_module": "@jupyter-widgets/controls",
          "model_name": "FloatProgressModel",
          "model_module_version": "1.5.0",
          "state": {
            "_view_name": "ProgressView",
            "style": "IPY_MODEL_93d558a47cd149b7bd8b34d0bff214da",
            "_dom_classes": [],
            "description": "",
            "_model_name": "FloatProgressModel",
            "bar_style": "success",
            "max": 48,
            "_view_module": "@jupyter-widgets/controls",
            "_model_module_version": "1.5.0",
            "value": 48,
            "_view_count": null,
            "_view_module_version": "1.5.0",
            "orientation": "horizontal",
            "min": 0,
            "description_tooltip": null,
            "_model_module": "@jupyter-widgets/controls",
            "layout": "IPY_MODEL_f0f71cbdb9e64322a2251e7c99f337eb"
          }
        },
        "4d1741aa4e954b1098fcdde4b592e213": {
          "model_module": "@jupyter-widgets/controls",
          "model_name": "HTMLModel",
          "model_module_version": "1.5.0",
          "state": {
            "_view_name": "HTMLView",
            "style": "IPY_MODEL_9b6776d2d4804b5a96650fba5c950d21",
            "_dom_classes": [],
            "description": "",
            "_model_name": "HTMLModel",
            "placeholder": "​",
            "_view_module": "@jupyter-widgets/controls",
            "_model_module_version": "1.5.0",
            "value": " 48.0/48.0 [00:00&lt;00:00, 674B/s]",
            "_view_count": null,
            "_view_module_version": "1.5.0",
            "description_tooltip": null,
            "_model_module": "@jupyter-widgets/controls",
            "layout": "IPY_MODEL_054a36634fca486dbf68fa15987b5cef"
          }
        },
        "32a7341e44cf4fb6bad43fc830d56015": {
          "model_module": "@jupyter-widgets/controls",
          "model_name": "DescriptionStyleModel",
          "model_module_version": "1.5.0",
          "state": {
            "_view_name": "StyleView",
            "_model_name": "DescriptionStyleModel",
            "description_width": "",
            "_view_module": "@jupyter-widgets/base",
            "_model_module_version": "1.5.0",
            "_view_count": null,
            "_view_module_version": "1.2.0",
            "_model_module": "@jupyter-widgets/controls"
          }
        },
        "d6ce10f980dc41e69c592634b7b33b61": {
          "model_module": "@jupyter-widgets/base",
          "model_name": "LayoutModel",
          "model_module_version": "1.2.0",
          "state": {
            "_view_name": "LayoutView",
            "grid_template_rows": null,
            "right": null,
            "justify_content": null,
            "_view_module": "@jupyter-widgets/base",
            "overflow": null,
            "_model_module_version": "1.2.0",
            "_view_count": null,
            "flex_flow": null,
            "width": null,
            "min_width": null,
            "border": null,
            "align_items": null,
            "bottom": null,
            "_model_module": "@jupyter-widgets/base",
            "top": null,
            "grid_column": null,
            "overflow_y": null,
            "overflow_x": null,
            "grid_auto_flow": null,
            "grid_area": null,
            "grid_template_columns": null,
            "flex": null,
            "_model_name": "LayoutModel",
            "justify_items": null,
            "grid_row": null,
            "max_height": null,
            "align_content": null,
            "visibility": null,
            "align_self": null,
            "height": null,
            "min_height": null,
            "padding": null,
            "grid_auto_rows": null,
            "grid_gap": null,
            "max_width": null,
            "order": null,
            "_view_module_version": "1.2.0",
            "grid_template_areas": null,
            "object_position": null,
            "object_fit": null,
            "grid_auto_columns": null,
            "margin": null,
            "display": null,
            "left": null
          }
        },
        "93d558a47cd149b7bd8b34d0bff214da": {
          "model_module": "@jupyter-widgets/controls",
          "model_name": "ProgressStyleModel",
          "model_module_version": "1.5.0",
          "state": {
            "_view_name": "StyleView",
            "_model_name": "ProgressStyleModel",
            "description_width": "",
            "_view_module": "@jupyter-widgets/base",
            "_model_module_version": "1.5.0",
            "_view_count": null,
            "_view_module_version": "1.2.0",
            "bar_color": null,
            "_model_module": "@jupyter-widgets/controls"
          }
        },
        "f0f71cbdb9e64322a2251e7c99f337eb": {
          "model_module": "@jupyter-widgets/base",
          "model_name": "LayoutModel",
          "model_module_version": "1.2.0",
          "state": {
            "_view_name": "LayoutView",
            "grid_template_rows": null,
            "right": null,
            "justify_content": null,
            "_view_module": "@jupyter-widgets/base",
            "overflow": null,
            "_model_module_version": "1.2.0",
            "_view_count": null,
            "flex_flow": null,
            "width": null,
            "min_width": null,
            "border": null,
            "align_items": null,
            "bottom": null,
            "_model_module": "@jupyter-widgets/base",
            "top": null,
            "grid_column": null,
            "overflow_y": null,
            "overflow_x": null,
            "grid_auto_flow": null,
            "grid_area": null,
            "grid_template_columns": null,
            "flex": null,
            "_model_name": "LayoutModel",
            "justify_items": null,
            "grid_row": null,
            "max_height": null,
            "align_content": null,
            "visibility": null,
            "align_self": null,
            "height": null,
            "min_height": null,
            "padding": null,
            "grid_auto_rows": null,
            "grid_gap": null,
            "max_width": null,
            "order": null,
            "_view_module_version": "1.2.0",
            "grid_template_areas": null,
            "object_position": null,
            "object_fit": null,
            "grid_auto_columns": null,
            "margin": null,
            "display": null,
            "left": null
          }
        },
        "9b6776d2d4804b5a96650fba5c950d21": {
          "model_module": "@jupyter-widgets/controls",
          "model_name": "DescriptionStyleModel",
          "model_module_version": "1.5.0",
          "state": {
            "_view_name": "StyleView",
            "_model_name": "DescriptionStyleModel",
            "description_width": "",
            "_view_module": "@jupyter-widgets/base",
            "_model_module_version": "1.5.0",
            "_view_count": null,
            "_view_module_version": "1.2.0",
            "_model_module": "@jupyter-widgets/controls"
          }
        },
        "054a36634fca486dbf68fa15987b5cef": {
          "model_module": "@jupyter-widgets/base",
          "model_name": "LayoutModel",
          "model_module_version": "1.2.0",
          "state": {
            "_view_name": "LayoutView",
            "grid_template_rows": null,
            "right": null,
            "justify_content": null,
            "_view_module": "@jupyter-widgets/base",
            "overflow": null,
            "_model_module_version": "1.2.0",
            "_view_count": null,
            "flex_flow": null,
            "width": null,
            "min_width": null,
            "border": null,
            "align_items": null,
            "bottom": null,
            "_model_module": "@jupyter-widgets/base",
            "top": null,
            "grid_column": null,
            "overflow_y": null,
            "overflow_x": null,
            "grid_auto_flow": null,
            "grid_area": null,
            "grid_template_columns": null,
            "flex": null,
            "_model_name": "LayoutModel",
            "justify_items": null,
            "grid_row": null,
            "max_height": null,
            "align_content": null,
            "visibility": null,
            "align_self": null,
            "height": null,
            "min_height": null,
            "padding": null,
            "grid_auto_rows": null,
            "grid_gap": null,
            "max_width": null,
            "order": null,
            "_view_module_version": "1.2.0",
            "grid_template_areas": null,
            "object_position": null,
            "object_fit": null,
            "grid_auto_columns": null,
            "margin": null,
            "display": null,
            "left": null
          }
        },
        "ecd56a376d4043308f1af7d891338b54": {
          "model_module": "@jupyter-widgets/controls",
          "model_name": "HBoxModel",
          "model_module_version": "1.5.0",
          "state": {
            "_view_name": "HBoxView",
            "_dom_classes": [],
            "_model_name": "HBoxModel",
            "_view_module": "@jupyter-widgets/controls",
            "_model_module_version": "1.5.0",
            "_view_count": null,
            "_view_module_version": "1.5.0",
            "box_style": "",
            "layout": "IPY_MODEL_c8acfc962b564f89b29abdc10540252d",
            "_model_module": "@jupyter-widgets/controls",
            "children": [
              "IPY_MODEL_0527d977fd8b42198da8788dc616106f",
              "IPY_MODEL_e071639dc26246d884c6a0c784a0f10f",
              "IPY_MODEL_09be77f9eada4f4a9e61710ddb45a562"
            ]
          }
        },
        "c8acfc962b564f89b29abdc10540252d": {
          "model_module": "@jupyter-widgets/base",
          "model_name": "LayoutModel",
          "model_module_version": "1.2.0",
          "state": {
            "_view_name": "LayoutView",
            "grid_template_rows": null,
            "right": null,
            "justify_content": null,
            "_view_module": "@jupyter-widgets/base",
            "overflow": null,
            "_model_module_version": "1.2.0",
            "_view_count": null,
            "flex_flow": null,
            "width": null,
            "min_width": null,
            "border": null,
            "align_items": null,
            "bottom": null,
            "_model_module": "@jupyter-widgets/base",
            "top": null,
            "grid_column": null,
            "overflow_y": null,
            "overflow_x": null,
            "grid_auto_flow": null,
            "grid_area": null,
            "grid_template_columns": null,
            "flex": null,
            "_model_name": "LayoutModel",
            "justify_items": null,
            "grid_row": null,
            "max_height": null,
            "align_content": null,
            "visibility": null,
            "align_self": null,
            "height": null,
            "min_height": null,
            "padding": null,
            "grid_auto_rows": null,
            "grid_gap": null,
            "max_width": null,
            "order": null,
            "_view_module_version": "1.2.0",
            "grid_template_areas": null,
            "object_position": null,
            "object_fit": null,
            "grid_auto_columns": null,
            "margin": null,
            "display": null,
            "left": null
          }
        },
        "0527d977fd8b42198da8788dc616106f": {
          "model_module": "@jupyter-widgets/controls",
          "model_name": "HTMLModel",
          "model_module_version": "1.5.0",
          "state": {
            "_view_name": "HTMLView",
            "style": "IPY_MODEL_39c9b5f7ca7b4ade90d63ed43d9fecd8",
            "_dom_classes": [],
            "description": "",
            "_model_name": "HTMLModel",
            "placeholder": "​",
            "_view_module": "@jupyter-widgets/controls",
            "_model_module_version": "1.5.0",
            "value": "Downloading: 100%",
            "_view_count": null,
            "_view_module_version": "1.5.0",
            "description_tooltip": null,
            "_model_module": "@jupyter-widgets/controls",
            "layout": "IPY_MODEL_84cb1ddd22284723889db3226e467f87"
          }
        },
        "e071639dc26246d884c6a0c784a0f10f": {
          "model_module": "@jupyter-widgets/controls",
          "model_name": "FloatProgressModel",
          "model_module_version": "1.5.0",
          "state": {
            "_view_name": "ProgressView",
            "style": "IPY_MODEL_154395bf37cf4acf85920ac1a83f476d",
            "_dom_classes": [],
            "description": "",
            "_model_name": "FloatProgressModel",
            "bar_style": "success",
            "max": 231508,
            "_view_module": "@jupyter-widgets/controls",
            "_model_module_version": "1.5.0",
            "value": 231508,
            "_view_count": null,
            "_view_module_version": "1.5.0",
            "orientation": "horizontal",
            "min": 0,
            "description_tooltip": null,
            "_model_module": "@jupyter-widgets/controls",
            "layout": "IPY_MODEL_dba5a4e45f1c4096830f6d8c588da6d2"
          }
        },
        "09be77f9eada4f4a9e61710ddb45a562": {
          "model_module": "@jupyter-widgets/controls",
          "model_name": "HTMLModel",
          "model_module_version": "1.5.0",
          "state": {
            "_view_name": "HTMLView",
            "style": "IPY_MODEL_c5c421fad693491fb89d0a3a393cad72",
            "_dom_classes": [],
            "description": "",
            "_model_name": "HTMLModel",
            "placeholder": "​",
            "_view_module": "@jupyter-widgets/controls",
            "_model_module_version": "1.5.0",
            "value": " 226k/226k [00:00&lt;00:00, 997kB/s]",
            "_view_count": null,
            "_view_module_version": "1.5.0",
            "description_tooltip": null,
            "_model_module": "@jupyter-widgets/controls",
            "layout": "IPY_MODEL_d011418788344e54839ebd27dabcb190"
          }
        },
        "39c9b5f7ca7b4ade90d63ed43d9fecd8": {
          "model_module": "@jupyter-widgets/controls",
          "model_name": "DescriptionStyleModel",
          "model_module_version": "1.5.0",
          "state": {
            "_view_name": "StyleView",
            "_model_name": "DescriptionStyleModel",
            "description_width": "",
            "_view_module": "@jupyter-widgets/base",
            "_model_module_version": "1.5.0",
            "_view_count": null,
            "_view_module_version": "1.2.0",
            "_model_module": "@jupyter-widgets/controls"
          }
        },
        "84cb1ddd22284723889db3226e467f87": {
          "model_module": "@jupyter-widgets/base",
          "model_name": "LayoutModel",
          "model_module_version": "1.2.0",
          "state": {
            "_view_name": "LayoutView",
            "grid_template_rows": null,
            "right": null,
            "justify_content": null,
            "_view_module": "@jupyter-widgets/base",
            "overflow": null,
            "_model_module_version": "1.2.0",
            "_view_count": null,
            "flex_flow": null,
            "width": null,
            "min_width": null,
            "border": null,
            "align_items": null,
            "bottom": null,
            "_model_module": "@jupyter-widgets/base",
            "top": null,
            "grid_column": null,
            "overflow_y": null,
            "overflow_x": null,
            "grid_auto_flow": null,
            "grid_area": null,
            "grid_template_columns": null,
            "flex": null,
            "_model_name": "LayoutModel",
            "justify_items": null,
            "grid_row": null,
            "max_height": null,
            "align_content": null,
            "visibility": null,
            "align_self": null,
            "height": null,
            "min_height": null,
            "padding": null,
            "grid_auto_rows": null,
            "grid_gap": null,
            "max_width": null,
            "order": null,
            "_view_module_version": "1.2.0",
            "grid_template_areas": null,
            "object_position": null,
            "object_fit": null,
            "grid_auto_columns": null,
            "margin": null,
            "display": null,
            "left": null
          }
        },
        "154395bf37cf4acf85920ac1a83f476d": {
          "model_module": "@jupyter-widgets/controls",
          "model_name": "ProgressStyleModel",
          "model_module_version": "1.5.0",
          "state": {
            "_view_name": "StyleView",
            "_model_name": "ProgressStyleModel",
            "description_width": "",
            "_view_module": "@jupyter-widgets/base",
            "_model_module_version": "1.5.0",
            "_view_count": null,
            "_view_module_version": "1.2.0",
            "bar_color": null,
            "_model_module": "@jupyter-widgets/controls"
          }
        },
        "dba5a4e45f1c4096830f6d8c588da6d2": {
          "model_module": "@jupyter-widgets/base",
          "model_name": "LayoutModel",
          "model_module_version": "1.2.0",
          "state": {
            "_view_name": "LayoutView",
            "grid_template_rows": null,
            "right": null,
            "justify_content": null,
            "_view_module": "@jupyter-widgets/base",
            "overflow": null,
            "_model_module_version": "1.2.0",
            "_view_count": null,
            "flex_flow": null,
            "width": null,
            "min_width": null,
            "border": null,
            "align_items": null,
            "bottom": null,
            "_model_module": "@jupyter-widgets/base",
            "top": null,
            "grid_column": null,
            "overflow_y": null,
            "overflow_x": null,
            "grid_auto_flow": null,
            "grid_area": null,
            "grid_template_columns": null,
            "flex": null,
            "_model_name": "LayoutModel",
            "justify_items": null,
            "grid_row": null,
            "max_height": null,
            "align_content": null,
            "visibility": null,
            "align_self": null,
            "height": null,
            "min_height": null,
            "padding": null,
            "grid_auto_rows": null,
            "grid_gap": null,
            "max_width": null,
            "order": null,
            "_view_module_version": "1.2.0",
            "grid_template_areas": null,
            "object_position": null,
            "object_fit": null,
            "grid_auto_columns": null,
            "margin": null,
            "display": null,
            "left": null
          }
        },
        "c5c421fad693491fb89d0a3a393cad72": {
          "model_module": "@jupyter-widgets/controls",
          "model_name": "DescriptionStyleModel",
          "model_module_version": "1.5.0",
          "state": {
            "_view_name": "StyleView",
            "_model_name": "DescriptionStyleModel",
            "description_width": "",
            "_view_module": "@jupyter-widgets/base",
            "_model_module_version": "1.5.0",
            "_view_count": null,
            "_view_module_version": "1.2.0",
            "_model_module": "@jupyter-widgets/controls"
          }
        },
        "d011418788344e54839ebd27dabcb190": {
          "model_module": "@jupyter-widgets/base",
          "model_name": "LayoutModel",
          "model_module_version": "1.2.0",
          "state": {
            "_view_name": "LayoutView",
            "grid_template_rows": null,
            "right": null,
            "justify_content": null,
            "_view_module": "@jupyter-widgets/base",
            "overflow": null,
            "_model_module_version": "1.2.0",
            "_view_count": null,
            "flex_flow": null,
            "width": null,
            "min_width": null,
            "border": null,
            "align_items": null,
            "bottom": null,
            "_model_module": "@jupyter-widgets/base",
            "top": null,
            "grid_column": null,
            "overflow_y": null,
            "overflow_x": null,
            "grid_auto_flow": null,
            "grid_area": null,
            "grid_template_columns": null,
            "flex": null,
            "_model_name": "LayoutModel",
            "justify_items": null,
            "grid_row": null,
            "max_height": null,
            "align_content": null,
            "visibility": null,
            "align_self": null,
            "height": null,
            "min_height": null,
            "padding": null,
            "grid_auto_rows": null,
            "grid_gap": null,
            "max_width": null,
            "order": null,
            "_view_module_version": "1.2.0",
            "grid_template_areas": null,
            "object_position": null,
            "object_fit": null,
            "grid_auto_columns": null,
            "margin": null,
            "display": null,
            "left": null
          }
        }
      }
    }
  },
  "cells": [
    {
      "cell_type": "markdown",
      "metadata": {
        "id": "HMYURTFJB39x"
      },
      "source": [
        "## Overview"
      ]
    },
    {
      "cell_type": "markdown",
      "metadata": {
        "id": "ytvmG6dD408N"
      },
      "source": [
        "Objective :\n",
        "* Build a stock news summarization model (pre-trained Transformer-based) focusing on financial topics.  \n",
        "\n",
        "Motivation :\n",
        "* How does a pre-trained Transformer-based summarization model works?\n",
        "\n",
        "Dataset :\n",
        "* Yahoo! Finance web-scraping.\n",
        "\n",
        "Sources :\n",
        "* https://huggingface.co/transformers/model_doc/pegasus.html\n",
        "* https://huggingface.co/human-centered-summarization/financial-summarization-pegasus\n",
        "* T. Passali, A. Gidiotis, E. Chatzikyriakidis and G. Tsoumakas. 2021. Towards Human-Centered Summarization: A Case Study on Financial News. In Proceedings of the First Workshop on Bridging Human-Computer Interaction and Natural Language Processing(pp. 21–27). Association for Computational Linguistics."
      ]
    },
    {
      "cell_type": "markdown",
      "metadata": {
        "id": "ZFFJN8TmmgTg"
      },
      "source": [
        "Please use Google Colab for a more convenience navigation to any section (through Table of Contents) in this notebook."
      ]
    },
    {
      "cell_type": "markdown",
      "metadata": {
        "id": "4SbhaL3eb0XQ"
      },
      "source": [
        "## **Google Colab**"
      ]
    },
    {
      "cell_type": "markdown",
      "metadata": {
        "id": "q1tgpo3vbrOr"
      },
      "source": [
        "<td>\n",
        "<a target=\"_blank\" href=\"https://colab.research.google.com/github/amdhiqal/ML/blob/main/Text%20Analytics/Stocks%20News%20Scraping%20and%20its%20Sentiment/1.%20Stock_News_Scraping_and_its_Sentiment.ipynb\"><img src=\"https://www.tensorflow.org/images/colab_logo_32px.png\" />Run in Google Colab</a>\n",
        "</td>"
      ]
    },
    {
      "cell_type": "markdown",
      "metadata": {
        "id": "VlEtEn-Ojgs4"
      },
      "source": [
        "## Package Installations"
      ]
    },
    {
      "cell_type": "code",
      "metadata": {
        "colab": {
          "base_uri": "https://localhost:8080/"
        },
        "id": "dbJL2iT04Ism",
        "outputId": "31bae64b-2a31-4dd7-868b-cb00755d62ba"
      },
      "source": [
        "!pip3 install transformers\n",
        "!pip3 install sentencepiece"
      ],
      "execution_count": null,
      "outputs": [
        {
          "output_type": "stream",
          "name": "stdout",
          "text": [
            "Collecting transformers\n",
            "  Downloading transformers-4.11.0-py3-none-any.whl (2.9 MB)\n",
            "\u001b[K     |████████████████████████████████| 2.9 MB 5.6 MB/s \n",
            "\u001b[?25hRequirement already satisfied: tqdm>=4.27 in /usr/local/lib/python3.7/dist-packages (from transformers) (4.62.3)\n",
            "Requirement already satisfied: importlib-metadata in /usr/local/lib/python3.7/dist-packages (from transformers) (4.8.1)\n",
            "Collecting pyyaml>=5.1\n",
            "  Downloading PyYAML-5.4.1-cp37-cp37m-manylinux1_x86_64.whl (636 kB)\n",
            "\u001b[K     |████████████████████████████████| 636 kB 56.3 MB/s \n",
            "\u001b[?25hRequirement already satisfied: requests in /usr/local/lib/python3.7/dist-packages (from transformers) (2.23.0)\n",
            "Collecting huggingface-hub>=0.0.17\n",
            "  Downloading huggingface_hub-0.0.17-py3-none-any.whl (52 kB)\n",
            "\u001b[K     |████████████████████████████████| 52 kB 1.2 MB/s \n",
            "\u001b[?25hRequirement already satisfied: packaging>=20.0 in /usr/local/lib/python3.7/dist-packages (from transformers) (21.0)\n",
            "Requirement already satisfied: filelock in /usr/local/lib/python3.7/dist-packages (from transformers) (3.0.12)\n",
            "Requirement already satisfied: regex!=2019.12.17 in /usr/local/lib/python3.7/dist-packages (from transformers) (2019.12.20)\n",
            "Collecting tokenizers<0.11,>=0.10.1\n",
            "  Downloading tokenizers-0.10.3-cp37-cp37m-manylinux_2_5_x86_64.manylinux1_x86_64.manylinux_2_12_x86_64.manylinux2010_x86_64.whl (3.3 MB)\n",
            "\u001b[K     |████████████████████████████████| 3.3 MB 34.7 MB/s \n",
            "\u001b[?25hRequirement already satisfied: numpy>=1.17 in /usr/local/lib/python3.7/dist-packages (from transformers) (1.19.5)\n",
            "Collecting sacremoses\n",
            "  Downloading sacremoses-0.0.46-py3-none-any.whl (895 kB)\n",
            "\u001b[K     |████████████████████████████████| 895 kB 35.3 MB/s \n",
            "\u001b[?25hRequirement already satisfied: typing-extensions in /usr/local/lib/python3.7/dist-packages (from huggingface-hub>=0.0.17->transformers) (3.7.4.3)\n",
            "Requirement already satisfied: pyparsing>=2.0.2 in /usr/local/lib/python3.7/dist-packages (from packaging>=20.0->transformers) (2.4.7)\n",
            "Requirement already satisfied: zipp>=0.5 in /usr/local/lib/python3.7/dist-packages (from importlib-metadata->transformers) (3.5.0)\n",
            "Requirement already satisfied: certifi>=2017.4.17 in /usr/local/lib/python3.7/dist-packages (from requests->transformers) (2021.5.30)\n",
            "Requirement already satisfied: idna<3,>=2.5 in /usr/local/lib/python3.7/dist-packages (from requests->transformers) (2.10)\n",
            "Requirement already satisfied: urllib3!=1.25.0,!=1.25.1,<1.26,>=1.21.1 in /usr/local/lib/python3.7/dist-packages (from requests->transformers) (1.24.3)\n",
            "Requirement already satisfied: chardet<4,>=3.0.2 in /usr/local/lib/python3.7/dist-packages (from requests->transformers) (3.0.4)\n",
            "Requirement already satisfied: joblib in /usr/local/lib/python3.7/dist-packages (from sacremoses->transformers) (1.0.1)\n",
            "Requirement already satisfied: click in /usr/local/lib/python3.7/dist-packages (from sacremoses->transformers) (7.1.2)\n",
            "Requirement already satisfied: six in /usr/local/lib/python3.7/dist-packages (from sacremoses->transformers) (1.15.0)\n",
            "Installing collected packages: tokenizers, sacremoses, pyyaml, huggingface-hub, transformers\n",
            "  Attempting uninstall: pyyaml\n",
            "    Found existing installation: PyYAML 3.13\n",
            "    Uninstalling PyYAML-3.13:\n",
            "      Successfully uninstalled PyYAML-3.13\n",
            "Successfully installed huggingface-hub-0.0.17 pyyaml-5.4.1 sacremoses-0.0.46 tokenizers-0.10.3 transformers-4.11.0\n",
            "Collecting sentencepiece\n",
            "  Downloading sentencepiece-0.1.96-cp37-cp37m-manylinux_2_17_x86_64.manylinux2014_x86_64.whl (1.2 MB)\n",
            "\u001b[K     |████████████████████████████████| 1.2 MB 5.2 MB/s \n",
            "\u001b[?25hInstalling collected packages: sentencepiece\n",
            "Successfully installed sentencepiece-0.1.96\n"
          ]
        }
      ]
    },
    {
      "cell_type": "markdown",
      "metadata": {
        "id": "xkWag-pkjjlx"
      },
      "source": [
        "## Imports"
      ]
    },
    {
      "cell_type": "code",
      "metadata": {
        "id": "ekmnxYWk4QNg"
      },
      "source": [
        "import requests\n",
        "import re\n",
        "import pandas as pd\n",
        "\n",
        "from transformers import PegasusTokenizer, PegasusForConditionalGeneration, pipeline\n",
        "from bs4 import BeautifulSoup"
      ],
      "execution_count": null,
      "outputs": []
    },
    {
      "cell_type": "markdown",
      "metadata": {
        "id": "Y6nv52t5kFNr"
      },
      "source": [
        "## Data Collection"
      ]
    },
    {
      "cell_type": "code",
      "metadata": {
        "id": "q31hqFMI58Ai"
      },
      "source": [
        "url = \"https://finance.yahoo.com/news/u-retail-industry-seeks-90-152903788.html\"\n",
        "r = requests.get(url)\n",
        "soup = BeautifulSoup(r.text, 'html.parser')\n",
        "paragraphs = soup.find_all('p')"
      ],
      "execution_count": null,
      "outputs": []
    },
    {
      "cell_type": "markdown",
      "metadata": {
        "id": "xr1G9W2pngjy"
      },
      "source": [
        "Checking the response."
      ]
    },
    {
      "cell_type": "code",
      "metadata": {
        "colab": {
          "base_uri": "https://localhost:8080/"
        },
        "id": "gtevxn0yLYJU",
        "outputId": "da0905ab-513c-4f78-e79d-7e3e835ebbac"
      },
      "source": [
        "r"
      ],
      "execution_count": null,
      "outputs": [
        {
          "output_type": "execute_result",
          "data": {
            "text/plain": [
              "<Response [200]>"
            ]
          },
          "metadata": {},
          "execution_count": 4
        }
      ]
    },
    {
      "cell_type": "code",
      "metadata": {
        "id": "cWn5pcPiFSXH"
      },
      "source": [
        "# r.text"
      ],
      "execution_count": null,
      "outputs": []
    },
    {
      "cell_type": "code",
      "metadata": {
        "id": "jQgYF4ZiFalK"
      },
      "source": [
        "# paragraphs"
      ],
      "execution_count": null,
      "outputs": []
    },
    {
      "cell_type": "markdown",
      "metadata": {
        "id": "1560i2iLnmZb"
      },
      "source": [
        "Checking the paragraphs."
      ]
    },
    {
      "cell_type": "code",
      "metadata": {
        "colab": {
          "base_uri": "https://localhost:8080/"
        },
        "id": "5-tlWLXGEoyO",
        "outputId": "d2b29287-5266-46dd-cfd9-91c55ecc141f"
      },
      "source": [
        "paragraphs[0:8]"
      ],
      "execution_count": null,
      "outputs": [
        {
          "output_type": "execute_result",
          "data": {
            "text/plain": [
              "[<p>By David Shepardson</p>,\n",
              " <p>WASHINGTON (Reuters) - Two major U.S. retail industry groups on Tuesday asked the Biden administration for at least 90 days before imposing new rules that will require employees at larger firms to be vaccinated against COVID-19 or submit to regular testing.</p>,\n",
              " <p>On Sept. 9, the White House said the Occupational Safety and Health Administration (OSHA) is developing an emergency temporary standard that will require all employers with 100 or more employees to ensure their workforce is fully vaccinated, or require any workers who remain unvaccinated to produce a negative COVID-19 test once a week.</p>,\n",
              " <p>The White House has said those rules will apply to more than 80 million private sector employees.</p>,\n",
              " <p>The Retail Industry Leaders Association and the National Retail Federation strongly encouraged OSHA \"to provide a 90-day implementation timeline to allow retailers and other employers to create the systems necessary.\"</p>,\n",
              " <p>The retail groups, which represent companies including Walmart, CVS Best Buy, Target, Kroger and Home Depot, asked how the administration will ensure adequate COVID-19 testing capacity to satisfy the \"significant increase in demand.\"</p>,\n",
              " <p>The groups said \"there could be as many as 4 million retail workers who may need to be tested on a weekly basis.\" They also asked other detailed questions like \"what remedial actions can be taken in situations in which employees refuse vaccinations and testing?\"</p>,\n",
              " <p>U.S. Commerce Secretary Gina Raimondo told travel executives last week that the OSHA order is expected in \"a matter of weeks. ... We have been told in October.\"</p>]"
            ]
          },
          "metadata": {},
          "execution_count": 7
        }
      ]
    },
    {
      "cell_type": "code",
      "metadata": {
        "id": "v73l-VWm5_GE"
      },
      "source": [
        "text = [paragraph.text for paragraph in paragraphs]\n",
        "words = ' '.join(text).split(' ')[:400]\n",
        "article_ = ' '.join(words)\n",
        "df_article =  pd.DataFrame([article_], columns = ['article'])"
      ],
      "execution_count": null,
      "outputs": []
    },
    {
      "cell_type": "code",
      "metadata": {
        "colab": {
          "base_uri": "https://localhost:8080/",
          "height": 244
        },
        "id": "FHWV9NG1-1xr",
        "outputId": "c068c6c6-175d-42cc-ea1f-e75eb0e78e62"
      },
      "source": [
        "article_"
      ],
      "execution_count": null,
      "outputs": [
        {
          "output_type": "execute_result",
          "data": {
            "application/vnd.google.colaboratory.intrinsic+json": {
              "type": "string"
            },
            "text/plain": [
              "'By David Shepardson WASHINGTON (Reuters) - Two major U.S. retail industry groups on Tuesday asked the Biden administration for at least 90 days before imposing new rules that will require employees at larger firms to be vaccinated against COVID-19 or submit to regular testing. On Sept. 9, the White House said the Occupational Safety and Health Administration (OSHA) is developing an emergency temporary standard that will require all employers with 100 or more employees to ensure their workforce is fully vaccinated, or require any workers who remain unvaccinated to produce a negative COVID-19 test once a week. The White House has said those rules will apply to more than 80 million private sector employees. The Retail Industry Leaders Association and the National Retail Federation strongly encouraged OSHA \"to provide a 90-day implementation timeline to allow retailers and other employers to create the systems necessary.\" The retail groups, which represent companies including Walmart, CVS Best Buy, Target, Kroger and Home Depot, asked how the administration will ensure adequate COVID-19 testing capacity to satisfy the \"significant increase in demand.\" The groups said \"there could be as many as 4 million retail workers who may need to be tested on a weekly basis.\" They also asked other detailed questions like \"what remedial actions can be taken in situations in which employees refuse vaccinations and testing?\" U.S. Commerce Secretary Gina Raimondo told travel executives last week that the OSHA order is expected in \"a matter of weeks. ... We have been told in October.\" (Reporting by David Shepardson; Editing by Andrea Ricci) (Bloomberg) -- The British Soft Drinks Association said manufacturers have “only a few days” of carbon dioxide left in reserve to produce beverages and can’t import supplies from the European Union due to Brexit. Most Read from BloombergThe Global Housing Market Is Broken, and It’s Dividing Entire CountriesMerkel’s Legacy Comes to Life on Berlin’s ‘Arab Street’Is There Room for E-Scooters in New York City?Amazon, Microsoft Swoop In on $24 Billion India Farm-Data TrovePalm Oil Giant’s Industry-Be Shares of Google parent  Alphabet  rose slightly Tuesday after the tech giant unveiled plans to purchase a $2.1 billion office building in Manhattan.  Google already leases the 1.3 million square-foot-building located on Manhattan’s bustling West Side, known as St. John’s Terminal.  The company has the option to purchase the building, which it plans to exercise by the first quarter of 2022, said'"
            ]
          },
          "metadata": {},
          "execution_count": 9
        }
      ]
    },
    {
      "cell_type": "code",
      "metadata": {
        "colab": {
          "base_uri": "https://localhost:8080/",
          "height": 81
        },
        "id": "2XUMbQ-eebli",
        "outputId": "b5e37663-2a99-405f-d084-602ff3a3f446"
      },
      "source": [
        "df_article"
      ],
      "execution_count": null,
      "outputs": [
        {
          "output_type": "execute_result",
          "data": {
            "text/html": [
              "<div>\n",
              "<style scoped>\n",
              "    .dataframe tbody tr th:only-of-type {\n",
              "        vertical-align: middle;\n",
              "    }\n",
              "\n",
              "    .dataframe tbody tr th {\n",
              "        vertical-align: top;\n",
              "    }\n",
              "\n",
              "    .dataframe thead th {\n",
              "        text-align: right;\n",
              "    }\n",
              "</style>\n",
              "<table border=\"1\" class=\"dataframe\">\n",
              "  <thead>\n",
              "    <tr style=\"text-align: right;\">\n",
              "      <th></th>\n",
              "      <th>article</th>\n",
              "    </tr>\n",
              "  </thead>\n",
              "  <tbody>\n",
              "    <tr>\n",
              "      <th>0</th>\n",
              "      <td>By David Shepardson WASHINGTON (Reuters) - Two...</td>\n",
              "    </tr>\n",
              "  </tbody>\n",
              "</table>\n",
              "</div>"
            ],
            "text/plain": [
              "                                             article\n",
              "0  By David Shepardson WASHINGTON (Reuters) - Two..."
            ]
          },
          "metadata": {},
          "execution_count": 10
        }
      ]
    },
    {
      "cell_type": "markdown",
      "metadata": {
        "id": "BzyVGXs3kCMv"
      },
      "source": [
        "## Model\n"
      ]
    },
    {
      "cell_type": "markdown",
      "metadata": {
        "id": "FkFg0dCXlJoH"
      },
      "source": [
        "The used model is based on PEGASUS model and fined-tuned on financial news datasets that covers on stock, market, currencies, rate and crytocurrencies topics."
      ]
    },
    {
      "cell_type": "code",
      "metadata": {
        "colab": {
          "base_uri": "https://localhost:8080/",
          "height": 372,
          "referenced_widgets": [
            "45941d037dd5430db74a74d2eb6e8e88",
            "26625e57d1c34bccb1a3bc27462d11b0",
            "18d28a588da541cf88b87147eebd380a",
            "6ef38b49e1d14809ad25895f5db96fa8",
            "44d489d5830b42b1940b8ab8e50e8e2e",
            "2e1da43b3d6842adb7a7082260330eb7",
            "761f557e0bcd41cebd0b2978887f8530",
            "d3b47fdab8964b6c96e3efcc44147f8f",
            "5fad328148a0453ab0a798ee155f6e83",
            "84d29a5a7ed74d999dc4408566f36a62",
            "0eec9f0b8935486795402fb522ec5631",
            "4315635ced3e4df9aea7766dc102659c",
            "d3ec128bd3bf4903844f4fabd9d5ebe5",
            "b653e47875c54cd783bf6c5efabe45d5",
            "395ec75d321444599405c7022b71dfab",
            "3c65888cd54f4a08ac12449c8561ac83",
            "ab76e69d19d94a08ae7cd3f33c2478a2",
            "397f51657e1646f99c66b2c23fc2100e",
            "01dc59fb2cff455f9d276b2ac9178b80",
            "2db769031eed42908ede4ce2cc398134",
            "1ea6cbe40e5d43188db63cb3143816ff",
            "1425e5449f804217b730d043e9ef5b71",
            "3ca059bedd5941009b277e661002a497",
            "30ff1ca460f14fbaad9bb8b87f23892c",
            "8d44001889f2423fa70ae596cfa11417",
            "9585d6253524476db2381914575a26a3",
            "c5bbb8620670476ab26866f6b2049e1b",
            "b4a7efa319c447339849cee28b246a2e",
            "0e66d8868f5d4ce980a781862049de61",
            "b2f3e984cfa34e948f5c52fa05e593ec",
            "1d1b673dbaa04a8c950a7047c7bc805f",
            "0b6a4590ce21447e9be652fe5552f33d",
            "2cb606d0c6eb4be7b8c05034ac1cfda4",
            "eb76b9f03f424356ad32b9d8eb7e51ea",
            "6a20e60262f4442c88cedd66dec62b80",
            "78251acd33a345f6983ff79c3f152e21",
            "5ab9b5efbfe949c19ef934d6a9fbd6c7",
            "72f775065cb84f018a99d3ebbd7e40d1",
            "8a7738c9bb1d4440bd0ab7b71eea3570",
            "a602866fba6147908053d05e3b53c531",
            "492240a6da6c499f8f74d69081decf82",
            "5dac94d6e6b7408e9bb352fcb3b3fa01",
            "dbe480659bea41818fe310c1d6817031",
            "7b0df7750c674e0d9d2a727afcdbba62",
            "023fde1bf2cb42d7b8f0be578351e7be",
            "83865cc7e3774852a6df0a4b59cca9fd",
            "c9d4f345e8654740aaa06dcbf9e5c39e",
            "6ecfa24f31124ef1aa6c19ad929dd76e",
            "15fed36c20c04fb082f42d52b73134af",
            "25858fded4ba40ac9eb14d3c67ae7e2b",
            "3ded4f75b6a44011ad9fe1c791fec712",
            "806e149ef02c4214b7af2c22a982c35b",
            "f851a67b3e524594b44518bee8f42ad9",
            "c59768f626014c63a0f7d879e36ea937",
            "a5f692adb5f848a8a0fdc322af301e18"
          ]
        },
        "id": "yb1kDm4a4mMN",
        "outputId": "f2b6f826-f0d8-4bd9-e729-3cac460aaba4"
      },
      "source": [
        "model_name = \"human-centered-summarization/financial-summarization-pegasus\"\n",
        "# model_name = \"google/pegasus-xsum\"\n",
        "tokenizer = PegasusTokenizer.from_pretrained(model_name)\n",
        "model = PegasusForConditionalGeneration.from_pretrained(model_name)"
      ],
      "execution_count": null,
      "outputs": [
        {
          "output_type": "display_data",
          "data": {
            "application/vnd.jupyter.widget-view+json": {
              "model_id": "45941d037dd5430db74a74d2eb6e8e88",
              "version_minor": 0,
              "version_major": 2
            },
            "text/plain": [
              "Downloading:   0%|          | 0.00/1.82M [00:00<?, ?B/s]"
            ]
          },
          "metadata": {}
        },
        {
          "output_type": "display_data",
          "data": {
            "application/vnd.jupyter.widget-view+json": {
              "model_id": "4315635ced3e4df9aea7766dc102659c",
              "version_minor": 0,
              "version_major": 2
            },
            "text/plain": [
              "Downloading:   0%|          | 0.00/1.31k [00:00<?, ?B/s]"
            ]
          },
          "metadata": {}
        },
        {
          "output_type": "display_data",
          "data": {
            "application/vnd.jupyter.widget-view+json": {
              "model_id": "3ca059bedd5941009b277e661002a497",
              "version_minor": 0,
              "version_major": 2
            },
            "text/plain": [
              "Downloading:   0%|          | 0.00/1.40k [00:00<?, ?B/s]"
            ]
          },
          "metadata": {}
        },
        {
          "output_type": "display_data",
          "data": {
            "application/vnd.jupyter.widget-view+json": {
              "model_id": "eb76b9f03f424356ad32b9d8eb7e51ea",
              "version_minor": 0,
              "version_major": 2
            },
            "text/plain": [
              "Downloading:   0%|          | 0.00/1.24k [00:00<?, ?B/s]"
            ]
          },
          "metadata": {}
        },
        {
          "output_type": "stream",
          "name": "stderr",
          "text": [
            "/usr/local/lib/python3.7/dist-packages/transformers/configuration_utils.py:337: UserWarning: Passing `gradient_checkpointing` to a config initialization is deprecated and will be removed in v5 Transformers. Using `model.gradient_checkpointing_enable()` instead, or if you are using the `Trainer` API, pass `gradient_checkpointing=True` in your `TrainingArguments`.\n",
            "  \"Passing `gradient_checkpointing` to a config initialization is deprecated and will be removed in v5 \"\n"
          ]
        },
        {
          "output_type": "display_data",
          "data": {
            "application/vnd.jupyter.widget-view+json": {
              "model_id": "023fde1bf2cb42d7b8f0be578351e7be",
              "version_minor": 0,
              "version_major": 2
            },
            "text/plain": [
              "Downloading:   0%|          | 0.00/2.12G [00:00<?, ?B/s]"
            ]
          },
          "metadata": {}
        }
      ]
    },
    {
      "cell_type": "code",
      "metadata": {
        "id": "bX5aB2E5GsD9"
      },
      "source": [
        "input_ids = tokenizer.encode(article_, return_tensors='pt')\n",
        "# input_ids = tokenizer(article_, return_tensors=\"pt\").input_ids\n",
        "\n",
        "output = model.generate(input_ids, \n",
        "                        max_length=55, \n",
        "                        num_beams=5, \n",
        "                        early_stopping=True)\n",
        "\n",
        "summarization = tokenizer.decode(output[0], skip_special_tokens=True)"
      ],
      "execution_count": null,
      "outputs": []
    },
    {
      "cell_type": "code",
      "metadata": {
        "colab": {
          "base_uri": "https://localhost:8080/",
          "height": 53
        },
        "id": "B6I3G7ogrlPR",
        "outputId": "82391308-6974-4aa2-f27f-bcb2331b0b80"
      },
      "source": [
        "summarization"
      ],
      "execution_count": null,
      "outputs": [
        {
          "output_type": "execute_result",
          "data": {
            "application/vnd.google.colaboratory.intrinsic+json": {
              "type": "string"
            },
            "text/plain": [
              "'Groups say as many as 4 million workers may need to be vaccinated. British Soft Drinks Association says manufacturers have ‘only a few days’ left'"
            ]
          },
          "metadata": {},
          "execution_count": 13
        }
      ]
    },
    {
      "cell_type": "code",
      "metadata": {
        "id": "RGS5FltIiP7I"
      },
      "source": [
        "def summarize_an_article(article_):\n",
        "    \n",
        "  input_ids = tokenizer.encode(article_, return_tensors='pt')\n",
        "  # input_ids = tokenizer(article_, return_tensors=\"pt\").input_ids\n",
        "\n",
        "  output = model.generate(input_ids, \n",
        "                          max_length=55, \n",
        "                          num_beams=5, \n",
        "                          early_stopping=True)\n",
        "\n",
        "  summarization = tokenizer.decode(output[0], skip_special_tokens=True)\n",
        "\n",
        "  return summarization"
      ],
      "execution_count": null,
      "outputs": []
    },
    {
      "cell_type": "markdown",
      "metadata": {
        "id": "raRn4tjjn77j"
      },
      "source": [
        "### Summarization testing"
      ]
    },
    {
      "cell_type": "code",
      "metadata": {
        "colab": {
          "base_uri": "https://localhost:8080/",
          "height": 53
        },
        "id": "OaRP35vzieLr",
        "outputId": "5f431e4d-bc78-4972-ffaf-27386a4861d0"
      },
      "source": [
        "summarize_an_article(article_)"
      ],
      "execution_count": null,
      "outputs": [
        {
          "output_type": "execute_result",
          "data": {
            "application/vnd.google.colaboratory.intrinsic+json": {
              "type": "string"
            },
            "text/plain": [
              "'Groups say as many as 4 million workers may need to be vaccinated. British Soft Drinks Association says manufacturers have ‘only a few days’ left'"
            ]
          },
          "metadata": {},
          "execution_count": 15
        }
      ]
    },
    {
      "cell_type": "markdown",
      "metadata": {
        "id": "ZvI-LHurcM-0"
      },
      "source": [
        "### Summarization testing (in a DataFrame)"
      ]
    },
    {
      "cell_type": "code",
      "metadata": {
        "id": "jhcq0un-iDZ4"
      },
      "source": [
        "df_article['summarize'] = df_article['article'].apply(summarize_an_article)"
      ],
      "execution_count": null,
      "outputs": []
    },
    {
      "cell_type": "code",
      "metadata": {
        "colab": {
          "base_uri": "https://localhost:8080/",
          "height": 688
        },
        "id": "ZptfJDC-jASb",
        "outputId": "af62785e-69d7-4f92-ba9b-4a8a7aa9b914"
      },
      "source": [
        "with pd.option_context('display.max_colwidth', None):\n",
        "  display(df_article)"
      ],
      "execution_count": null,
      "outputs": [
        {
          "output_type": "display_data",
          "data": {
            "text/html": [
              "<div>\n",
              "<style scoped>\n",
              "    .dataframe tbody tr th:only-of-type {\n",
              "        vertical-align: middle;\n",
              "    }\n",
              "\n",
              "    .dataframe tbody tr th {\n",
              "        vertical-align: top;\n",
              "    }\n",
              "\n",
              "    .dataframe thead th {\n",
              "        text-align: right;\n",
              "    }\n",
              "</style>\n",
              "<table border=\"1\" class=\"dataframe\">\n",
              "  <thead>\n",
              "    <tr style=\"text-align: right;\">\n",
              "      <th></th>\n",
              "      <th>article</th>\n",
              "      <th>summarize</th>\n",
              "    </tr>\n",
              "  </thead>\n",
              "  <tbody>\n",
              "    <tr>\n",
              "      <th>0</th>\n",
              "      <td>By David Shepardson WASHINGTON (Reuters) - Two major U.S. retail industry groups on Tuesday asked the Biden administration for at least 90 days before imposing new rules that will require employees at larger firms to be vaccinated against COVID-19 or submit to regular testing. On Sept. 9, the White House said the Occupational Safety and Health Administration (OSHA) is developing an emergency temporary standard that will require all employers with 100 or more employees to ensure their workforce is fully vaccinated, or require any workers who remain unvaccinated to produce a negative COVID-19 test once a week. The White House has said those rules will apply to more than 80 million private sector employees. The Retail Industry Leaders Association and the National Retail Federation strongly encouraged OSHA \"to provide a 90-day implementation timeline to allow retailers and other employers to create the systems necessary.\" The retail groups, which represent companies including Walmart, CVS Best Buy, Target, Kroger and Home Depot, asked how the administration will ensure adequate COVID-19 testing capacity to satisfy the \"significant increase in demand.\" The groups said \"there could be as many as 4 million retail workers who may need to be tested on a weekly basis.\" They also asked other detailed questions like \"what remedial actions can be taken in situations in which employees refuse vaccinations and testing?\" U.S. Commerce Secretary Gina Raimondo told travel executives last week that the OSHA order is expected in \"a matter of weeks. ... We have been told in October.\" (Reporting by David Shepardson; Editing by Andrea Ricci) (Bloomberg) -- The British Soft Drinks Association said manufacturers have “only a few days” of carbon dioxide left in reserve to produce beverages and can’t import supplies from the European Union due to Brexit. Most Read from BloombergThe Global Housing Market Is Broken, and It’s Dividing Entire CountriesMerkel’s Legacy Comes to Life on Berlin’s ‘Arab Street’Is There Room for E-Scooters in New York City?Amazon, Microsoft Swoop In on $24 Billion India Farm-Data TrovePalm Oil Giant’s Industry-Be Shares of Google parent  Alphabet  rose slightly Tuesday after the tech giant unveiled plans to purchase a $2.1 billion office building in Manhattan.  Google already leases the 1.3 million square-foot-building located on Manhattan’s bustling West Side, known as St. John’s Terminal.  The company has the option to purchase the building, which it plans to exercise by the first quarter of 2022, said</td>\n",
              "      <td>Groups say as many as 4 million workers may need to be vaccinated. British Soft Drinks Association says manufacturers have ‘only a few days’ left</td>\n",
              "    </tr>\n",
              "  </tbody>\n",
              "</table>\n",
              "</div>"
            ],
            "text/plain": [
              "                                                                                                                                                                                                                                                                                                                                                                                                                                                                                                                                                                                                                                                                                                                                                                                                                                                                                                                                                                                                                                                                                                                                                                                                                                                                                                                                                                                                                                                                                                                                                                                                                                                                                                                                                                                                                                                                                                                                                                                                                                                                                                                                                                                                                                                                                                                                                                                                                                                                                                                                                                                                                                              article                                                                                                                                          summarize\n",
              "0  By David Shepardson WASHINGTON (Reuters) - Two major U.S. retail industry groups on Tuesday asked the Biden administration for at least 90 days before imposing new rules that will require employees at larger firms to be vaccinated against COVID-19 or submit to regular testing. On Sept. 9, the White House said the Occupational Safety and Health Administration (OSHA) is developing an emergency temporary standard that will require all employers with 100 or more employees to ensure their workforce is fully vaccinated, or require any workers who remain unvaccinated to produce a negative COVID-19 test once a week. The White House has said those rules will apply to more than 80 million private sector employees. The Retail Industry Leaders Association and the National Retail Federation strongly encouraged OSHA \"to provide a 90-day implementation timeline to allow retailers and other employers to create the systems necessary.\" The retail groups, which represent companies including Walmart, CVS Best Buy, Target, Kroger and Home Depot, asked how the administration will ensure adequate COVID-19 testing capacity to satisfy the \"significant increase in demand.\" The groups said \"there could be as many as 4 million retail workers who may need to be tested on a weekly basis.\" They also asked other detailed questions like \"what remedial actions can be taken in situations in which employees refuse vaccinations and testing?\" U.S. Commerce Secretary Gina Raimondo told travel executives last week that the OSHA order is expected in \"a matter of weeks. ... We have been told in October.\" (Reporting by David Shepardson; Editing by Andrea Ricci) (Bloomberg) -- The British Soft Drinks Association said manufacturers have “only a few days” of carbon dioxide left in reserve to produce beverages and can’t import supplies from the European Union due to Brexit. Most Read from BloombergThe Global Housing Market Is Broken, and It’s Dividing Entire CountriesMerkel’s Legacy Comes to Life on Berlin’s ‘Arab Street’Is There Room for E-Scooters in New York City?Amazon, Microsoft Swoop In on $24 Billion India Farm-Data TrovePalm Oil Giant’s Industry-Be Shares of Google parent  Alphabet  rose slightly Tuesday after the tech giant unveiled plans to purchase a $2.1 billion office building in Manhattan.  Google already leases the 1.3 million square-foot-building located on Manhattan’s bustling West Side, known as St. John’s Terminal.  The company has the option to purchase the building, which it plans to exercise by the first quarter of 2022, said  Groups say as many as 4 million workers may need to be vaccinated. British Soft Drinks Association says manufacturers have ‘only a few days’ left"
            ]
          },
          "metadata": {}
        }
      ]
    },
    {
      "cell_type": "markdown",
      "metadata": {
        "id": "cRNTSJzAup_m"
      },
      "source": [
        "## News and Sentiments"
      ]
    },
    {
      "cell_type": "markdown",
      "metadata": {
        "id": "3qX2ihwM5yEd"
      },
      "source": [
        "### Raw data"
      ]
    },
    {
      "cell_type": "markdown",
      "metadata": {
        "id": "SdAwxz6qr7Xc"
      },
      "source": [
        "Selecting few interested stocks (daily)."
      ]
    },
    {
      "cell_type": "code",
      "metadata": {
        "id": "UJl6ox0But_U"
      },
      "source": [
        "stock_list = ['MSFT', 'AMD']"
      ],
      "execution_count": null,
      "outputs": []
    },
    {
      "cell_type": "code",
      "metadata": {
        "id": "3jqLUcIMvwg7"
      },
      "source": [
        "def url_finder_stock_news(stock):\n",
        "  '''\n",
        "  Scrape url link from Google Search for every interested stocks\n",
        "  '''\n",
        "  url_finder = \"https://www.google.com/search?q=yahoo+finance+{}&tbm=nws\".format(stock)\n",
        "  r = requests.get(url_finder)\n",
        "  soup = BeautifulSoup(r.text, 'html.parser')\n",
        "  tags_a = soup.find_all('a')\n",
        "  hrefs = [link['href'] for link in tags_a]\n",
        "  \n",
        "  return hrefs"
      ],
      "execution_count": null,
      "outputs": []
    },
    {
      "cell_type": "code",
      "metadata": {
        "id": "MVRY3DVsx4os"
      },
      "source": [
        "raw_urls = {stock : url_finder_stock_news(stock) for stock in stock_list}"
      ],
      "execution_count": null,
      "outputs": []
    },
    {
      "cell_type": "markdown",
      "metadata": {
        "id": "HDjBMhimsgbh"
      },
      "source": [
        "All raw URLs (for every interested stocks)."
      ]
    },
    {
      "cell_type": "code",
      "metadata": {
        "colab": {
          "base_uri": "https://localhost:8080/"
        },
        "id": "wjqYqf9bdonZ",
        "outputId": "fa805861-a646-4ae1-c957-8991fd7581e1"
      },
      "source": [
        "raw_urls"
      ],
      "execution_count": null,
      "outputs": [
        {
          "output_type": "execute_result",
          "data": {
            "text/plain": [
              "{'AMD': ['/?sa=X&ved=0ahUKEwiVyu2EwqTzAhXSXc0KHfpiDYcQOwgC',\n",
              "  '/?output=search&ie=UTF-8&tbm=nws&sa=X&ved=0ahUKEwiVyu2EwqTzAhXSXc0KHfpiDYcQPAgE',\n",
              "  '/search?q=yahoo+finance+AMD&tbm=nws&ie=UTF-8&gbv=1&sei=jYhUYdXPB9K7tQb6xbW4CA',\n",
              "  '/search?q=yahoo+finance+AMD&ie=UTF-8&source=lnms&sa=X&ved=0ahUKEwiVyu2EwqTzAhXSXc0KHfpiDYcQ_AUIBygA',\n",
              "  '/search?q=yahoo+finance+AMD&ie=UTF-8&tbm=shop&source=lnms&sa=X&ved=0ahUKEwiVyu2EwqTzAhXSXc0KHfpiDYcQ_AUICSgC',\n",
              "  '/search?q=yahoo+finance+AMD&ie=UTF-8&tbm=vid&source=lnms&sa=X&ved=0ahUKEwiVyu2EwqTzAhXSXc0KHfpiDYcQ_AUICigD',\n",
              "  '/search?q=yahoo+finance+AMD&ie=UTF-8&tbm=isch&source=lnms&sa=X&ved=0ahUKEwiVyu2EwqTzAhXSXc0KHfpiDYcQ_AUICygE',\n",
              "  'https://maps.google.com/maps?q=yahoo+finance+AMD&um=1&ie=UTF-8&sa=X&ved=0ahUKEwiVyu2EwqTzAhXSXc0KHfpiDYcQ_AUIDCgF',\n",
              "  '/search?q=yahoo+finance+AMD&ie=UTF-8&tbm=bks&source=lnms&sa=X&ved=0ahUKEwiVyu2EwqTzAhXSXc0KHfpiDYcQ_AUIDSgG',\n",
              "  '/advanced_search',\n",
              "  '/search?q=yahoo+finance+AMD&ie=UTF-8&tbm=nws&source=lnt&tbs=qdr:h&sa=X&ved=0ahUKEwiVyu2EwqTzAhXSXc0KHfpiDYcQpwUIDw',\n",
              "  '/search?q=yahoo+finance+AMD&ie=UTF-8&tbm=nws&source=lnt&tbs=qdr:d&sa=X&ved=0ahUKEwiVyu2EwqTzAhXSXc0KHfpiDYcQpwUIEA',\n",
              "  '/search?q=yahoo+finance+AMD&ie=UTF-8&tbm=nws&source=lnt&tbs=qdr:w&sa=X&ved=0ahUKEwiVyu2EwqTzAhXSXc0KHfpiDYcQpwUIEQ',\n",
              "  '/search?q=yahoo+finance+AMD&ie=UTF-8&tbm=nws&source=lnt&tbs=qdr:m&sa=X&ved=0ahUKEwiVyu2EwqTzAhXSXc0KHfpiDYcQpwUIEg',\n",
              "  '/search?q=yahoo+finance+AMD&ie=UTF-8&tbm=nws&source=lnt&tbs=qdr:y&sa=X&ved=0ahUKEwiVyu2EwqTzAhXSXc0KHfpiDYcQpwUIEw',\n",
              "  '/search?q=yahoo+finance+AMD&ie=UTF-8&tbm=nws&source=lnt&tbs=ar:1&sa=X&ved=0ahUKEwiVyu2EwqTzAhXSXc0KHfpiDYcQpwUIFA',\n",
              "  '/search?q=yahoo+finance+AMD&ie=UTF-8&tbm=nws&source=lnt&tbs=sbd:1&sa=X&ved=0ahUKEwiVyu2EwqTzAhXSXc0KHfpiDYcQpwUIFg',\n",
              "  '/url?q=https://finance.yahoo.com/news/why-amd-shares-falling-171753939.html&sa=U&ved=2ahUKEwiVyu2EwqTzAhXSXc0KHfpiDYcQxfQBegQIAhAB&usg=AOvVaw1zNSqrWgxltudnNdVr1IuM',\n",
              "  '/url?q=https://finance.yahoo.com/news/why-amd-shares-falling-171753939.html&sa=U&ved=2ahUKEwiVyu2EwqTzAhXSXc0KHfpiDYcQ0Y8FegQIAhAC&usg=AOvVaw3oDelgjW-5fL7L8tO8k2it',\n",
              "  '/url?q=https://finance.yahoo.com/news/daniel-patrick-gibson-sylebra-capital-172113336.html&sa=U&ved=2ahUKEwiVyu2EwqTzAhXSXc0KHfpiDYcQxfQBegQICBAB&usg=AOvVaw3HbXs8ryvbBvpkNkDNeMrd',\n",
              "  '/url?q=https://finance.yahoo.com/news/daniel-patrick-gibson-sylebra-capital-172113336.html&sa=U&ved=2ahUKEwiVyu2EwqTzAhXSXc0KHfpiDYcQ0Y8FegQICBAC&usg=AOvVaw214cpFHOYzRzWDgHQvW5eO',\n",
              "  '/url?q=https://finance.yahoo.com/news/where-hedge-funds-stand-advanced-140015738.html&sa=U&ved=2ahUKEwiVyu2EwqTzAhXSXc0KHfpiDYcQxfQBegQIBxAB&usg=AOvVaw3aSfH8kPMaqiH3FcfbUbjW',\n",
              "  '/url?q=https://finance.yahoo.com/news/where-hedge-funds-stand-advanced-140015738.html&sa=U&ved=2ahUKEwiVyu2EwqTzAhXSXc0KHfpiDYcQ0Y8FegQIBxAC&usg=AOvVaw1uIuIRbFDhz__jdy3U0bmz',\n",
              "  '/url?q=https://finance.yahoo.com/news/advanced-micro-devices-inc-nasdaq-185204606.html&sa=U&ved=2ahUKEwiVyu2EwqTzAhXSXc0KHfpiDYcQxfQBegQICRAB&usg=AOvVaw1tvyy3fLAmrAb5nXjW9DaS',\n",
              "  '/url?q=https://finance.yahoo.com/news/advanced-micro-devices-inc-nasdaq-185204606.html&sa=U&ved=2ahUKEwiVyu2EwqTzAhXSXc0KHfpiDYcQ0Y8FegQICRAC&usg=AOvVaw2nxtuqv_Wrn0j5nP3NC_rq',\n",
              "  '/url?q=https://finance.yahoo.com/news/synamedia-delivers-industry-first-zero-130100869.html&sa=U&ved=2ahUKEwiVyu2EwqTzAhXSXc0KHfpiDYcQxfQBegQIBhAB&usg=AOvVaw20Q_A38nBrTK6bwNqvrRqB',\n",
              "  '/url?q=https://finance.yahoo.com/news/synamedia-delivers-industry-first-zero-130100869.html&sa=U&ved=2ahUKEwiVyu2EwqTzAhXSXc0KHfpiDYcQ0Y8FegQIBhAC&usg=AOvVaw2pu_fi5uWWJE54ZvO05e8P',\n",
              "  '/url?q=https://finance.yahoo.com/news/bull-day-amd-amd-110011826.html&sa=U&ved=2ahUKEwiVyu2EwqTzAhXSXc0KHfpiDYcQxfQBegQIABAB&usg=AOvVaw3-lLPn0lDmPrVHxTXSGWXJ',\n",
              "  '/url?q=https://finance.yahoo.com/news/bull-day-amd-amd-110011826.html&sa=U&ved=2ahUKEwiVyu2EwqTzAhXSXc0KHfpiDYcQ0Y8FegQIABAC&usg=AOvVaw38uJ8ts-tNHpQGuGS723Zr',\n",
              "  '/url?q=https://finance.yahoo.com/news/russia-fines-google-failing-delete-140214969.html&sa=U&ved=2ahUKEwiVyu2EwqTzAhXSXc0KHfpiDYcQxfQBegQIARAB&usg=AOvVaw2Jvys_Jp79qYEDPCQnjPIA',\n",
              "  '/url?q=https://finance.yahoo.com/news/russia-fines-google-failing-delete-140214969.html&sa=U&ved=2ahUKEwiVyu2EwqTzAhXSXc0KHfpiDYcQ0Y8FegQIARAC&usg=AOvVaw3tbL4e8PhMONdj35vA6dki',\n",
              "  '/url?q=https://finance.yahoo.com/news/canada-stocks-toronto-market-rebounds-141240603.html&sa=U&ved=2ahUKEwiVyu2EwqTzAhXSXc0KHfpiDYcQxfQBegQIBRAB&usg=AOvVaw2DDTZpsjIiMDPq6oooXIJS',\n",
              "  '/url?q=https://finance.yahoo.com/news/canada-stocks-toronto-market-rebounds-141240603.html&sa=U&ved=2ahUKEwiVyu2EwqTzAhXSXc0KHfpiDYcQ0Y8FegQIBRAC&usg=AOvVaw2xttMlXINMzd3EIMHWHhmG',\n",
              "  '/url?q=https://finance.yahoo.com/news/amd-captures-historic-best-16-181700779.html&sa=U&ved=2ahUKEwiVyu2EwqTzAhXSXc0KHfpiDYcQxfQBegQIAxAB&usg=AOvVaw3FK5dNDYfYcj-cCAep7QCb',\n",
              "  '/url?q=https://finance.yahoo.com/news/amd-captures-historic-best-16-181700779.html&sa=U&ved=2ahUKEwiVyu2EwqTzAhXSXc0KHfpiDYcQ0Y8FegQIAxAC&usg=AOvVaw3DH18kLeX4TLvh8t2i8gfr',\n",
              "  '/url?q=https://finance.yahoo.com/news/nigeria-become-first-country-africa-114543801.html&sa=U&ved=2ahUKEwiVyu2EwqTzAhXSXc0KHfpiDYcQxfQBegQIBBAB&usg=AOvVaw3F7onm5yzy6-vANQvzqcGD',\n",
              "  '/url?q=https://finance.yahoo.com/news/nigeria-become-first-country-africa-114543801.html&sa=U&ved=2ahUKEwiVyu2EwqTzAhXSXc0KHfpiDYcQ0Y8FegQIBBAC&usg=AOvVaw3ePVRKyqyIz4IBNSOLR6PM',\n",
              "  '/search?q=yahoo+finance+AMD&ie=UTF-8&tbm=nws&ei=jYhUYdXPB9K7tQb6xbW4CA&start=10&sa=N',\n",
              "  '/url?q=https://support.google.com/websearch%3Fp%3Dws_settings_location%26hl%3Den&sa=U&ved=0ahUKEwiVyu2EwqTzAhXSXc0KHfpiDYcQty4IVQ&usg=AOvVaw3a8qnwiAVk-uZ6R6e9MLrv',\n",
              "  '/url?q=https://accounts.google.com/ServiceLogin%3Fcontinue%3Dhttps://www.google.com/search%253Fq%253Dyahoo%252Bfinance%252BAMD%2526tbm%253Dnws%26hl%3Den&sa=U&ved=0ahUKEwiVyu2EwqTzAhXSXc0KHfpiDYcQxs8CCFY&usg=AOvVaw1YgDVLINs9Xws3mUXU7W1C',\n",
              "  'https://www.google.com/preferences?hl=en&fg=1&sa=X&ved=0ahUKEwiVyu2EwqTzAhXSXc0KHfpiDYcQ5fUCCFc',\n",
              "  'https://policies.google.com/privacy?hl=en&fg=1',\n",
              "  'https://policies.google.com/terms?hl=en&fg=1'],\n",
              " 'MSFT': ['/?sa=X&ved=0ahUKEwjuy9OEwqTzAhXSQc0KHTQyA_wQOwgC',\n",
              "  '/?output=search&ie=UTF-8&tbm=nws&sa=X&ved=0ahUKEwjuy9OEwqTzAhXSQc0KHTQyA_wQPAgE',\n",
              "  '/search?q=yahoo+finance+MSFT&tbm=nws&ie=UTF-8&gbv=1&sei=jIhUYe7VKtKDtQa05IzgDw',\n",
              "  '/search?q=yahoo+finance+MSFT&ie=UTF-8&source=lnms&sa=X&ved=0ahUKEwjuy9OEwqTzAhXSQc0KHTQyA_wQ_AUIBygA',\n",
              "  '/search?q=yahoo+finance+MSFT&ie=UTF-8&tbm=shop&source=lnms&sa=X&ved=0ahUKEwjuy9OEwqTzAhXSQc0KHTQyA_wQ_AUICSgC',\n",
              "  '/search?q=yahoo+finance+MSFT&ie=UTF-8&tbm=vid&source=lnms&sa=X&ved=0ahUKEwjuy9OEwqTzAhXSQc0KHTQyA_wQ_AUICigD',\n",
              "  '/search?q=yahoo+finance+MSFT&ie=UTF-8&tbm=isch&source=lnms&sa=X&ved=0ahUKEwjuy9OEwqTzAhXSQc0KHTQyA_wQ_AUICygE',\n",
              "  'https://maps.google.com/maps?q=yahoo+finance+MSFT&um=1&ie=UTF-8&sa=X&ved=0ahUKEwjuy9OEwqTzAhXSQc0KHTQyA_wQ_AUIDCgF',\n",
              "  '/search?q=yahoo+finance+MSFT&ie=UTF-8&tbm=bks&source=lnms&sa=X&ved=0ahUKEwjuy9OEwqTzAhXSQc0KHTQyA_wQ_AUIDSgG',\n",
              "  '/advanced_search',\n",
              "  '/search?q=yahoo+finance+MSFT&ie=UTF-8&tbm=nws&source=lnt&tbs=qdr:h&sa=X&ved=0ahUKEwjuy9OEwqTzAhXSQc0KHTQyA_wQpwUIDw',\n",
              "  '/search?q=yahoo+finance+MSFT&ie=UTF-8&tbm=nws&source=lnt&tbs=qdr:d&sa=X&ved=0ahUKEwjuy9OEwqTzAhXSQc0KHTQyA_wQpwUIEA',\n",
              "  '/search?q=yahoo+finance+MSFT&ie=UTF-8&tbm=nws&source=lnt&tbs=qdr:w&sa=X&ved=0ahUKEwjuy9OEwqTzAhXSQc0KHTQyA_wQpwUIEQ',\n",
              "  '/search?q=yahoo+finance+MSFT&ie=UTF-8&tbm=nws&source=lnt&tbs=qdr:m&sa=X&ved=0ahUKEwjuy9OEwqTzAhXSQc0KHTQyA_wQpwUIEg',\n",
              "  '/search?q=yahoo+finance+MSFT&ie=UTF-8&tbm=nws&source=lnt&tbs=qdr:y&sa=X&ved=0ahUKEwjuy9OEwqTzAhXSQc0KHTQyA_wQpwUIEw',\n",
              "  '/search?q=yahoo+finance+MSFT&ie=UTF-8&tbm=nws&source=lnt&tbs=ar:1&sa=X&ved=0ahUKEwjuy9OEwqTzAhXSQc0KHTQyA_wQpwUIFA',\n",
              "  '/search?q=yahoo+finance+MSFT&ie=UTF-8&tbm=nws&source=lnt&tbs=sbd:1&sa=X&ved=0ahUKEwjuy9OEwqTzAhXSQc0KHTQyA_wQpwUIFg',\n",
              "  '/url?q=https://finance.yahoo.com/news/early-facebook-investor-says-3-164750369.html&sa=U&ved=2ahUKEwjuy9OEwqTzAhXSQc0KHTQyA_wQxfQBegQIAxAB&usg=AOvVaw1tZRz1lX2gU-V1ncZlfpum',\n",
              "  '/url?q=https://finance.yahoo.com/news/early-facebook-investor-says-3-164750369.html&sa=U&ved=2ahUKEwjuy9OEwqTzAhXSQc0KHTQyA_wQ0Y8FegQIAxAC&usg=AOvVaw1KzyUBb_x_Qddj7P0b0ltw',\n",
              "  '/url?q=https://finance.yahoo.com/news/microsoft-allow-epic-games-amazon-202005837.html&sa=U&ved=2ahUKEwjuy9OEwqTzAhXSQc0KHTQyA_wQxfQBegQIBxAB&usg=AOvVaw0OcG8VOKofrUY2jTj8FryX',\n",
              "  '/url?q=https://finance.yahoo.com/news/microsoft-allow-epic-games-amazon-202005837.html&sa=U&ved=2ahUKEwjuy9OEwqTzAhXSQc0KHTQyA_wQ0Y8FegQIBxAC&usg=AOvVaw0qotOSkhSzSSuKh84LfBEP',\n",
              "  '/url?q=https://finance.yahoo.com/video/tech-sector-leads-selloff-amazon-190316655.html&sa=U&ved=2ahUKEwjuy9OEwqTzAhXSQc0KHTQyA_wQxfQBegQICRAB&usg=AOvVaw0Co0JzWRiw3DQXJEto38WS',\n",
              "  '/url?q=https://finance.yahoo.com/video/tech-sector-leads-selloff-amazon-190316655.html&sa=U&ved=2ahUKEwjuy9OEwqTzAhXSQc0KHTQyA_wQ0Y8FegQICRAC&usg=AOvVaw29XfNCOqovxbuR1W0uLOcY',\n",
              "  '/url?q=https://finance.yahoo.com/news/why-10-stocks-move-tuesday-184643704.html&sa=U&ved=2ahUKEwjuy9OEwqTzAhXSQc0KHTQyA_wQxfQBegQICBAB&usg=AOvVaw2g2MHoVwF99Slr06PZ-pLw',\n",
              "  '/url?q=https://finance.yahoo.com/news/why-10-stocks-move-tuesday-184643704.html&sa=U&ved=2ahUKEwjuy9OEwqTzAhXSQc0KHTQyA_wQ0Y8FegQICBAC&usg=AOvVaw1RWK4aejr0WiXIlSQZ5LvC',\n",
              "  '/url?q=https://finance.yahoo.com/news/3-stocks-tap-trending-cloud-122512733.html&sa=U&ved=2ahUKEwjuy9OEwqTzAhXSQc0KHTQyA_wQxfQBegQIBhAB&usg=AOvVaw3MEGVbP7p59L8bNQwvqUdh',\n",
              "  '/url?q=https://finance.yahoo.com/news/3-stocks-tap-trending-cloud-122512733.html&sa=U&ved=2ahUKEwjuy9OEwqTzAhXSQc0KHTQyA_wQ0Y8FegQIBhAC&usg=AOvVaw2JBi0ENfJEcZ9RzamZRMTl',\n",
              "  '/url?q=https://finance.yahoo.com/news/why-10-stocks-were-spotlight-183007081.html&sa=U&ved=2ahUKEwjuy9OEwqTzAhXSQc0KHTQyA_wQxfQBegQIABAB&usg=AOvVaw0dY4NI9nOtcB1mZenVXeA6',\n",
              "  '/url?q=https://finance.yahoo.com/news/why-10-stocks-were-spotlight-183007081.html&sa=U&ved=2ahUKEwjuy9OEwqTzAhXSQc0KHTQyA_wQ0Y8FegQIABAC&usg=AOvVaw3NlW2QEhCo2ybGWXvv5NNx',\n",
              "  '/url?q=https://finance.yahoo.com/news/hedge-funds-selling-microsoft-msft-154508147.html&sa=U&ved=2ahUKEwjuy9OEwqTzAhXSQc0KHTQyA_wQxfQBegQIAhAB&usg=AOvVaw0ZJtkh7f7PnUZculShWMZ8',\n",
              "  '/url?q=https://finance.yahoo.com/news/hedge-funds-selling-microsoft-msft-154508147.html&sa=U&ved=2ahUKEwjuy9OEwqTzAhXSQc0KHTQyA_wQ0Y8FegQIAhAC&usg=AOvVaw3GDAkl1aBnSQgtW_fXPaXg',\n",
              "  '/url?q=https://finance.yahoo.com/news/top-10-stocks-buy-according-202414503.html&sa=U&ved=2ahUKEwjuy9OEwqTzAhXSQc0KHTQyA_wQxfQBegQIBBAB&usg=AOvVaw3H97SsAaEhqDPvfmLB6vv-',\n",
              "  '/url?q=https://finance.yahoo.com/news/top-10-stocks-buy-according-202414503.html&sa=U&ved=2ahUKEwjuy9OEwqTzAhXSQc0KHTQyA_wQ0Y8FegQIBBAC&usg=AOvVaw2o242CDu1qB04DSxwTZ34t',\n",
              "  '/url?q=https://finance.yahoo.com/news/hedge-funds-think-microsoft-corporation-183639396.html&sa=U&ved=2ahUKEwjuy9OEwqTzAhXSQc0KHTQyA_wQxfQBegQIBRAB&usg=AOvVaw0dmrRhysCbW1bP0Dkaoqov',\n",
              "  '/url?q=https://finance.yahoo.com/news/hedge-funds-think-microsoft-corporation-183639396.html&sa=U&ved=2ahUKEwjuy9OEwqTzAhXSQc0KHTQyA_wQ0Y8FegQIBRAC&usg=AOvVaw3PFg0_6uUP3gqBWP9sP8lz',\n",
              "  '/url?q=https://finance.yahoo.com/news/microsoft-plans-buy-back-60-113633398.html&sa=U&ved=2ahUKEwjuy9OEwqTzAhXSQc0KHTQyA_wQxfQBegQIARAB&usg=AOvVaw0uyJYObLCXK_fvLICYmIvj',\n",
              "  '/url?q=https://finance.yahoo.com/news/microsoft-plans-buy-back-60-113633398.html&sa=U&ved=2ahUKEwjuy9OEwqTzAhXSQc0KHTQyA_wQ0Y8FegQIARAC&usg=AOvVaw1ItjND_8dkEYt0XP0MkLA1',\n",
              "  '/search?q=yahoo+finance+MSFT&ie=UTF-8&tbm=nws&ei=jIhUYe7VKtKDtQa05IzgDw&start=10&sa=N',\n",
              "  '/url?q=https://support.google.com/websearch%3Fp%3Dws_settings_location%26hl%3Den&sa=U&ved=0ahUKEwjuy9OEwqTzAhXSQc0KHTQyA_wQty4IVQ&usg=AOvVaw301hGEK-V-BsC5EWq9N7gf',\n",
              "  '/url?q=https://accounts.google.com/ServiceLogin%3Fcontinue%3Dhttps://www.google.com/search%253Fq%253Dyahoo%252Bfinance%252BMSFT%2526tbm%253Dnws%26hl%3Den&sa=U&ved=0ahUKEwjuy9OEwqTzAhXSQc0KHTQyA_wQxs8CCFY&usg=AOvVaw3OWZfpKY_sXsbPQWV-LtPs',\n",
              "  'https://www.google.com/preferences?hl=en&fg=1&sa=X&ved=0ahUKEwjuy9OEwqTzAhXSQc0KHTQyA_wQ5fUCCFc',\n",
              "  'https://policies.google.com/privacy?hl=en&fg=1',\n",
              "  'https://policies.google.com/terms?hl=en&fg=1']}"
            ]
          },
          "metadata": {},
          "execution_count": 22
        }
      ]
    },
    {
      "cell_type": "markdown",
      "metadata": {
        "id": "B2BjGUO4saWr"
      },
      "source": [
        "Raw URLs for 'MSFT' only."
      ]
    },
    {
      "cell_type": "code",
      "metadata": {
        "colab": {
          "base_uri": "https://localhost:8080/"
        },
        "id": "6yxc5RnjzqC8",
        "outputId": "ae4db574-a884-405f-ab6f-e12aa6e7cde8"
      },
      "source": [
        "raw_urls['MSFT'][:5]"
      ],
      "execution_count": null,
      "outputs": [
        {
          "output_type": "execute_result",
          "data": {
            "text/plain": [
              "['/?sa=X&ved=0ahUKEwjuy9OEwqTzAhXSQc0KHTQyA_wQOwgC',\n",
              " '/?output=search&ie=UTF-8&tbm=nws&sa=X&ved=0ahUKEwjuy9OEwqTzAhXSQc0KHTQyA_wQPAgE',\n",
              " '/search?q=yahoo+finance+MSFT&tbm=nws&ie=UTF-8&gbv=1&sei=jIhUYe7VKtKDtQa05IzgDw',\n",
              " '/search?q=yahoo+finance+MSFT&ie=UTF-8&source=lnms&sa=X&ved=0ahUKEwjuy9OEwqTzAhXSQc0KHTQyA_wQ_AUIBygA',\n",
              " '/search?q=yahoo+finance+MSFT&ie=UTF-8&tbm=shop&source=lnms&sa=X&ved=0ahUKEwjuy9OEwqTzAhXSQc0KHTQyA_wQ_AUICSgC']"
            ]
          },
          "metadata": {},
          "execution_count": 23
        }
      ]
    },
    {
      "cell_type": "markdown",
      "metadata": {
        "id": "MZfDPxZb54QQ"
      },
      "source": [
        "### Preprocessing"
      ]
    },
    {
      "cell_type": "markdown",
      "metadata": {
        "id": "EmMFGDYosoYf"
      },
      "source": [
        "Filtering out unrelated matters."
      ]
    },
    {
      "cell_type": "code",
      "metadata": {
        "id": "WsoglxSC2Mlj"
      },
      "source": [
        "filter_out_list = ['account', 'support', 'preferences', 'policies', 'maps']"
      ],
      "execution_count": null,
      "outputs": []
    },
    {
      "cell_type": "code",
      "metadata": {
        "id": "Yb3_UFs72iDx"
      },
      "source": [
        "def filtering_out_urls(urls, filter_out_list):\n",
        "  '''\n",
        "  Filtering out unrelated matters\n",
        "  '''\n",
        "\n",
        "  val = []\n",
        "  \n",
        "  for url in urls:\n",
        "\n",
        "    if 'https://' in url and not any(filtered_word in url for filtered_word in filter_out_list):\n",
        "      \n",
        "      re_ = re.findall(r'(https?://\\S+)', url)[0].split('&')[0]\n",
        "      val.append(re_)\n",
        "    \n",
        "  return list(set(val))"
      ],
      "execution_count": null,
      "outputs": []
    },
    {
      "cell_type": "markdown",
      "metadata": {
        "id": "OfoDPUKAtGTN"
      },
      "source": [
        "Cleaned URLs."
      ]
    },
    {
      "cell_type": "code",
      "metadata": {
        "colab": {
          "base_uri": "https://localhost:8080/"
        },
        "id": "OURlVdjg4qHr",
        "outputId": "743fe4e3-a786-4299-e231-e0ed5679829b"
      },
      "source": [
        "cleaned_urls = {stock : filtering_out_urls(raw_urls[stock], filter_out_list) for stock in stock_list}\n",
        "cleaned_urls"
      ],
      "execution_count": null,
      "outputs": [
        {
          "output_type": "execute_result",
          "data": {
            "text/plain": [
              "{'AMD': ['https://finance.yahoo.com/news/amd-captures-historic-best-16-181700779.html',\n",
              "  'https://finance.yahoo.com/news/why-amd-shares-falling-171753939.html',\n",
              "  'https://finance.yahoo.com/news/synamedia-delivers-industry-first-zero-130100869.html',\n",
              "  'https://finance.yahoo.com/news/bull-day-amd-amd-110011826.html',\n",
              "  'https://finance.yahoo.com/news/russia-fines-google-failing-delete-140214969.html',\n",
              "  'https://finance.yahoo.com/news/daniel-patrick-gibson-sylebra-capital-172113336.html',\n",
              "  'https://finance.yahoo.com/news/advanced-micro-devices-inc-nasdaq-185204606.html',\n",
              "  'https://finance.yahoo.com/news/where-hedge-funds-stand-advanced-140015738.html',\n",
              "  'https://finance.yahoo.com/news/nigeria-become-first-country-africa-114543801.html',\n",
              "  'https://finance.yahoo.com/news/canada-stocks-toronto-market-rebounds-141240603.html'],\n",
              " 'MSFT': ['https://finance.yahoo.com/news/why-10-stocks-were-spotlight-183007081.html',\n",
              "  'https://finance.yahoo.com/news/hedge-funds-think-microsoft-corporation-183639396.html',\n",
              "  'https://finance.yahoo.com/news/top-10-stocks-buy-according-202414503.html',\n",
              "  'https://finance.yahoo.com/video/tech-sector-leads-selloff-amazon-190316655.html',\n",
              "  'https://finance.yahoo.com/news/microsoft-plans-buy-back-60-113633398.html',\n",
              "  'https://finance.yahoo.com/news/why-10-stocks-move-tuesday-184643704.html',\n",
              "  'https://finance.yahoo.com/news/3-stocks-tap-trending-cloud-122512733.html',\n",
              "  'https://finance.yahoo.com/news/microsoft-allow-epic-games-amazon-202005837.html',\n",
              "  'https://finance.yahoo.com/news/hedge-funds-selling-microsoft-msft-154508147.html',\n",
              "  'https://finance.yahoo.com/news/early-facebook-investor-says-3-164750369.html']}"
            ]
          },
          "metadata": {},
          "execution_count": 26
        }
      ]
    },
    {
      "cell_type": "markdown",
      "metadata": {
        "id": "zhblXGlUtii4"
      },
      "source": [
        "### News scraping"
      ]
    },
    {
      "cell_type": "markdown",
      "metadata": {
        "id": "rkAHhGtRtTJe"
      },
      "source": [
        "Scraping interested stock news."
      ]
    },
    {
      "cell_type": "code",
      "metadata": {
        "id": "Y7hg-Hnn5BNy"
      },
      "source": [
        "def scraping_(urls):\n",
        "  '''\n",
        "  Scraping interested stock news\n",
        "  '''\n",
        "  \n",
        "  articles_ = []\n",
        "\n",
        "  for url in urls:\n",
        "     \n",
        "     r = requests.get(url)\n",
        "     soup = BeautifulSoup(r.text, 'html.parser')\n",
        "     paragraphs = soup.find_all('p')\n",
        "     text = [paragraph.text for paragraph in paragraphs]\n",
        "     words = ' '.join(text).split(' ')[:350]\n",
        "     article_ = ' '.join(words)\n",
        "     articles_.append(article_)\n",
        "  \n",
        "  return articles_"
      ],
      "execution_count": null,
      "outputs": []
    },
    {
      "cell_type": "code",
      "metadata": {
        "colab": {
          "base_uri": "https://localhost:8080/"
        },
        "id": "c57TcMf5DN9k",
        "outputId": "ddfe7150-a4ad-4517-945e-06e84fa0310f"
      },
      "source": [
        "articles_ = {stock : scraping_(cleaned_urls[stock]) for stock in stock_list}\n",
        "articles_"
      ],
      "execution_count": null,
      "outputs": [
        {
          "output_type": "execute_result",
          "data": {
            "text/plain": [
              "{'AMD': ['Another 351,000 individuals filed, 320,000 was estimated LONDON, September 23, 2021--(BUSINESS WIRE)--Third paragraph, third sentence and fourth paragraph, first sentence of release dated September 22, 2021, should read: \"$21.5 billion\" and \"$92 billion\" (instead of \"$21.5 million\" and \"$92 million\"). The updated release reads: AMD CAPTURES HISTORIC-BEST 16% OF SERVER CPU MARKET ACCORDING TO OMDIA DATA CENTER SERVER MARKET TRACKER Competition in the market for high-performance semiconductors targeting data center workloads is red hot according to the latest Data Center Server Market Tracker from research group Omdia. In the server CPU market, AMD scored its best-ever quarter from a market share and sales perspective with demand from hyperscale cloud service providers, and Google in particular, being a big contributing factor to AMD’s strong performance. The demand for servers across all market segments remained strong in the second quarter of 2021 amidst concerns about order fulfillment due to component constraints. The industry saw 3.4 million servers shipped in the second quarter of 2021, the same amount as during the record second quarter of 2020. This was in line with Omdia’s forecast for the quarter and resulted in a total of $21.5 billion dollars of vendor revenue. Full year server revenue is on track to grow 11 percent, reaching $92 billion. The strong revenue growth is boosted by a steady increase in server prices. Omdia continues to see servers optimized for compute- and data-intensive workloads like artificial intelligence and analytics take higher share of the annual shipments. These are configured with a pool of co-processors, more memory and faster storage. Component shortage puts second half of 2021 shipments at riskThere is a dire shortage of some critical components like power management integrated circuits (PMICs) which could impact server shipments, particularly in the backend of the year. Server vendors have increased their component inventory levels to mitigate the shortage and limit the impact of long lead times. This short-term resolution is putting extra strain on the already stressed server component supply chain and is pushing prices up. \"Demands for semiconductors related to power management, have gone up exponentially due to proliferation of smartphones,',\n",
              "  \" Shares of large technology companies, including Advanced Micro Devices, Inc. (NASDAQ: AMD), are trading lower amid a rise in bond yields, which has weighed on growth stock valuations. The 10-year Treasury yield hit an intraday high of 1.567% Tuesday morning before dipping to around the 1.544% level. The spike in the 10-year note this week comes after the Federal Reserve last week spoke on winding down its ongoing asset purchasing program. AMD designs microprocessors for the computer and consumer electronics industries. The majority of the firm's sales are in the personal computer and data center markets via CPUs and GPUs. AMD is trading lower by 5.3% at $102.42. AMD has a 52-week high of $122.49 and a 52-week low of $72.50. See more from Benzinga Click here for options trades from Benzinga Tesla And AMD Lead The Nasdaq-100 Why AMD Shares Are Falling © 2021 Benzinga.com. Benzinga does not provide investment advice. All rights reserved. Related Quotes This isn't shaping up to be a good week for the stocks of leading COVID-19 vaccine makers.  Shares of Pfizer (NYSE: PFE) were down 1.6% at 11:27 a.m. BioNTech (NASDAQ: BNTX) stock had fallen 9.4%.  Moderna's (NASDAQ: MRNA) shares were 6.2% lower. The market news today is that stocks overall are down and growth stocks are being hit harder than most.  One of the biggest reasons the market is down today is because interest rates are on the rise.  Higher interest rates can mean slower growth for the economy overall, which is why markets react when rates rise. RV Capital Management, an investment management firm, published its second-quarter 2021 investor letter – a copy of which can be downloaded here. The NAV of the Business Owner Fund was €994.14 as of the end of the second quarter. The NAV increased 14.0% since the start of the year and 901.9% since its inception on […] Markets are up this year – that’s no news, the gains have been substantial and sustained – but recent weeks have made investors nervous. The resurgence of COVID, rising inflation and stubbornly high unemployment\",\n",
              "  'Synamedia unveils 8K encoding without compromising video quality, thanks to its AI-based video compression and AMD EPYC™ processors LONDON, Sept. 29, 2021 /PRNewswire/ -- Synamedia, the world\\'s largest independent video software provider, today announced it has achieved 8K real-time encoding and streaming with \\'zero compromise\\' on its VIVID Compression platform powered by AMD EPYC™ 7763 processors, the world\\'s highest performing x86 server CPUi. Leveraging these AMD processors, Synamedia\\'s industry milestone eliminates the need for screen splitting and other technology tricks which compromise video quality. Synamedia\\'s global team of experts built these compression algorithms specifically to remove the need for technology trade-offs. This is achieved by leveraging the full codec toolset, powered by AMD EPYC™ 7763 processors. There is no need to split the 8K signal into 4K quadrants, nor for dedicated GPU memory or other hardware acceleration. This eliminates issues with memory communication and throughput, as well as local video quality variations. These advancements, combined with Synamedia VIVID-AI Artificial Intelligence technology, produce true, breakthrough 8K video. Synamedia has also extended its cloud-based video quality analysis solution, Video-Quality-as-a-Service (VQaaS), with 8K resolution. Synamedia\\'s VQaaS provides both objective measurement and subjective visualization analysis, resulting in a simplified way to measure improvements of 8K video quality. Harnessing the power of 3rd Gen AMD EPYC™ processors, Synamedia\\'s advanced compression algorithms offer operators and multiple video programming distributors (MVPDs) significant savings of capital and operational costs by reducing footprints and power consumption, while creating consumption-based business models based on VIVID Video Workflows-as-a-Service. \"We are experiencing a technology shift here, combining our unique and one-of-a-kind compression algorithms, advanced video analytics, and proven expertise with the incredible speeds of the AMD EPYC™ 7763 processors. The flexibility of using one CPU without a single technological compromise allows us to provide our customers with the high-quality video content they expect from us. By combining our team\\'s expertise with the performance of AMD EPYC processors, we are able to bring more 8K content to the market at an affordable price to enable the 8K economy,\" said Elke Hungenaert, Vice President, Product Management, Synamedia. \"Synamedia turning to 3rd Gen EPYC processors',\n",
              "  'Thank you for your patience. Our engineers are working quickly to resolve the issue.',\n",
              "  \" MOSCOW (Reuters) - A Moscow court on Wednesday fined Alphabet Inc.'s Google 6.5 million roubles ($89,535) for not deleting content that Russia deems illegal, part of a wider dispute between Moscow and the U.S. tech giant. Google did not immediately respond to a request for comment. Russia threatened to block YouTube earlier on Wednesday after Russian state-backed broadcaster RT's German-language channels were deleted. ($1 = 72.5975 roubles) (Reporting by Alexander Marrow and Maria Vasilyeva; editing by Tom Balmforth) Related Quotes On Sept. 28, Lucid Motors opened its doors to visitors for the first time to mark its official start of production. The company plans to make its first vehicle deliveries late next month. If you were planning to do a “Roth IRA” conversion to keep your retirement savings permanently out of the hands of the IRS, you might want to get on it.  The new tax bill on Capitol Hill is going to scrap these conversions for everybody after the end of the year—and, no, not just for those earning more than $400,000 a year.  The bill “prohibits all employee after-tax contributions in qualified plans and prohibits after-tax IRA contributions from being converted to Roth regardless of income level, effective for distributions, transfers, and contributions made after Dec. 31, 2021,” reports the House Ways & Means Committee. Shares of\\xa0Camber Energy (NYSEMKT: CEI) jumped 18.4% on Tuesday, as investors on social media sites ramped up their bets on the power solutions company.  Camber's majority-owned subsidiary, Viking Energy Group, owns interests in oil and gas fields in Texas, Louisiana, and Mississippi that collectively contain more than 145 active wells.  Camber is also expanding into sustainable energy solutions to diversify its business and profit from the growth of alternative fuel sources. The stock price of Advanced Micro Devices (NASDAQ:AMD) has been going through a correction for the last two months. There has been a lot of attention on the stock recently in anticipation of a resumption of the bullish trend - although an initial breakout was derailed by yesterday’s market wide selloff. This AI-powered loan underwriter and fintech\",\n",
              "  \" In this article, we discuss Daniel Patrick Gibson’s Sylebra Capital Management's top picks. If you want to skip our detailed analysis of Gibson’s history, investment philosophy, and hedge fund performance, go directly to the Top 5 Stocks Daniel Patrick Gibson’s Sylebra Capital Management is Buying.  Daniel Patrick Gibson is the founder and chief investment officer at Sylebra Capital Management, managing a portfolio worth more than $4.03 billion. The portfolio has grown by 1.04% this quarter under Gibson’s investment strategies. Before founding Sylebra Capital Management, Gibson was an associate at Calera Capital, principal at UBS AG New York, and partner at Coatue Management LLC. Gibson manages the capital of sophisticated institutions worldwide, including leading sovereign wealth and pension funds, pre-eminent endowments, and charitable foundations. His hedge fund contains information technology, real estate, communications, consumer staples, energy, finance, and consumer discretionary stocks. In the second quarter of 2021, technology stocks made up about 80% of Gibson's portfolio. This shows the hedge fund's immense interest in the tech sector. Some of the notable tech stocks in Sylebra Capital's 2021 Q2 portfolio include Chegg Inc. (NYSE:CHGG), DocuSign Inc. (NASDAQ:DOCU), and Pinduoduo Inc. (NASDAQ:PDD), among others. In the second quarter, Chegg posted an EPS of $0.43, beating the estimates by $0.06. Revenue in the period jumped about 30% to $198.48 million, beating the estimates by $8.37 million. Keeping in mind its strong earnings report, Morgan Stanley assigned an Overweight rating to Chegg Inc. (NYSE:CHGG) on June 17. Similarly, on September 3, Dan Springer, the CEO of DocuSign Inc. (NASDAQ:DOCU), reported that despite the COVID-19 pandemic impacting the company revenues, high growth is still forecasted for the upcoming years. Currently, the company has penetrated only 5% of the addressable market with its $2 billion annual revenue. In addition to that, Pinduoduo Inc. (NASDAQ:PDD), which makes up 1.54% of the investment portfolio of Sylebra Capital Management, is also gaining the attention of Wall Street as China begins to pass new data privacy laws. Reports suggest that China might ban e-commerce companies who do not comply with intellectual property laws. Photo by Stephen Dawson on Unsplash\",\n",
              "  ' This article first appeared on Simply Wall St News. After a parabolic jump in July, Advanced Micro Devices (NASDAQ: AMD) stock had an uneventful rest of the summer, as the stock retraced toward the key psychologic level of U$100. With the stock making a clean lower high, in addition to the broad market pullback, it would not be surprising to see it overshoot toward the key level at US$95. This sets an opportunity for those waiting for the next opportunity to get in or increase their long positions. Check out our latest analysis for Advanced Micro Devices Xilinx\\'s (NASDAQ: XLNX) acquisition remains in the spotlight amid the Chinese regulatory pressures. The US$35b strategic acquisition is still waiting for approval for China, with the positive initial rumors. The company has already secured antitrust approvals from Europe and the U.S. Meanwhile, AMD is looking to expand its server CPU market share, as it will deliver its EPYC 7532 and EPYC 7543 processors for the new Polaris supercomputer at the Department of Energy (DOE). Along with AMD\\'s processors, the supercomputer will use Nvidia\\'s GPUs.  In addition, Cloudflare is pushing for AMD\\'s products as well, as they stated that the power consumption was significantly lower compared to Intel\\'s alternatives. While retail clients might have brand preferences, when it comes to large-scale server operations, power consumption is a significant variable in the overall profitability equation. Return on equity or ROE is a key measure used to assess how efficiently a company\\'s management is utilizing the company\\'s capital. Simply put, it is used to assess a company\\'s profitability concerning its equity capital. The formula for return on equity is: Return on Equity = Net Profit (from continuing operations) ÷ Shareholders\\' Equity So, based on the above formula, the ROE for Advanced Micro Devices is: 49% = US$3.4b ÷ US$7.1b (Based on the trailing twelve months to June 2021). The \"return\" is the yearly profit. So, this means that for every $1 of its shareholder\\'s investments, the company generates a profit of $0.49. We have already established that ROE serves as an efficient profit-generating gauge',\n",
              "  \" Before we spend countless hours researching a company, we like to analyze what insiders, hedge funds and billionaire investors think of the stock first. This is a necessary first step in our investment process because our research has shown that the elite investors' consensus returns have been exceptional. In the following paragraphs, we find out what the billionaire investors and hedge funds think of Advanced Micro Devices, Inc. (NASDAQ:AMD). Advanced Micro Devices, Inc. (NASDAQ:AMD) shareholders have witnessed an increase in hedge fund sentiment lately. Advanced Micro Devices, Inc. (NASDAQ:AMD) was in 63 hedge funds' portfolios at the end of June. The all time high for this statistic is 74. There were 62 hedge funds in our database with AMD positions at the end of the first quarter. Our calculations also showed that AMD isn't among the 30 most popular stocks among hedge funds (click for Q2 rankings). So, why do we pay attention to hedge fund sentiment before making any investment decisions? Our research has shown that hedge funds' small-cap stock picks managed to beat the market by double digits annually between 1999 and 2016, but the margin of outperformance has been declining in recent years. Nevertheless, we were still able to identify in advance a select group of hedge fund holdings that outperformed the S&P 500 ETFs by more than 79 percentage points since March 2017 (see the details here). We have been able to outperform the passive index funds by tracking the moves of corporate insiders and hedge funds, and we believe small investors can benefit a lot from reading hedge fund investor letters and 13F filings. Mark Kingdon of Kingdon Capital At Insider Monkey, we scour multiple sources to uncover the next great investment idea. For example, lithium mining is one of the fastest growing industries right now, so we are checking out stock pitches like this emerging lithium stock. We go through lists like the 10 best EV stocks to pick the next Tesla that will deliver a 10x return. Even though we recommend positions in only a tiny fraction of the companies we analyze,\",\n",
              "  'The Central Bank of Nigeria’s eNaira website has gone live ahead of schedule. And, in the 24 hours following the launch, it received more than a million hits. The CBN stated that eNaira – a central bank-issued digital currency that provides a unique form of money denominated in Naira – would serve as both a medium of exchange and a store of value, offering better payment prospects in retail transactions when compared to cash payments. eNaira presents itself as the digital form of cash and is a direct liability on the Central Bank of Nigeria while the customer deposits are direct liabilities on the financial institutions. However, it seems that a lot of its future users in Nigeria are still arguing whether or not it is actually a cryptocurrency. Olumide Adesina, a CEO of Nigerian analyst firm TM Analytics believes the eNaira can’t replace the crypto market or fight and win Bitcoin. However, he stressed it could complement the crypto market and provide leverage for a growing number of people from Nigeria. Some praise eNaira’s benefits for financial inclusion, while others are concerned it would give central banks more control over citizens’ financial rights through the removal of intermediaries. Still, the official website says the eNaira will “cultivate economic growth, provide cheaper remittances, limit fraudulent behaviour, and is secure, among other benefits for its use”. Rakiya Mohammed, the bank’s director of information technology, recently explained eNaira could make remittance transfers easier for Nigerians working abroad. South Africa also recently announced a trial of central bank digital currencies (CBDCs) for cross-border payments. The central bank said it could motivate other financial institutions around the world to work towards using the technology. Founder and CEO of cryptocurrency and digital asset exchange platform Botmecash, Oluwasegun Kosemani, said there was a rising interest in the use cases and value Bitcoin offers in Lagos, Ibadan, Abuja, Kaduna, Abeokuta, and among the Igbo tribe traders who import and export from China and Turkey. “This will blow up soon when the eNaira launches in Nigeria,” he said, adding that eNaira “is the beginning and pathway to the',\n",
              "  '(Updates prices, adds comment) Sept 29 (Reuters) - Canada\\'s main stock index bounced back from a one-week low touched in the previous session on Wednesday, boosted by consumer staple and industrial stocks. At 9:59 a.m. ET (1359 GMT), the Toronto Stock Exchange\\'s S&P/TSX composite index was up 57.26 points, or 0.28%, at 20,231.4. \"Stock markets around the world have been trying to bounce back from yesterday\\'s selloff but have only been able to claw back some of their losses,\" said Colin Cieszynski, chief market strategist at SIA Wealth Management. Technology stocks gained 0.3%, after marking their worst session since November, tracking the Nasdaq index. Limiting gains on the main index, healthcare stocks fell 1.2%, with pot producers Aurora Cannabis Inc and Canopy Growth Corp leading declines. Canadian equities have come under pressure in September, after seven straight months of gains, as fears of a slowing economic recovery rattled investors\\' appetite for risky assets. Energy shares fell 0.2% and are set to snap a five-day winning streak on weaker crude. Domestic producer prices fell by 0.3% in August from July on lower prices for softwood lumber, Statistics Canada said. HIGHLIGHTS Teck Resources Ltd and Converge Technology Solutions Corp were the largest percentage gainers on the TSX. Across all Canadian issues there were three new 52-week highs and 18 new lows, with total volume of 50.51 million shares. (Reporting by Amal S in Bengaluru; Editing by Amy Caren Daniel) On Sept. 28, Lucid Motors opened its doors to visitors for the first time to mark its official start of production. The company plans to make its first vehicle deliveries late next month. If you were planning to do a “Roth IRA” conversion to keep your retirement savings permanently out of the hands of the IRS, you might want to get on it.  The new tax bill on Capitol Hill is going to scrap these conversions for everybody after the end of the year—and, no, not just for those earning more than $400,000 a year.  The bill “prohibits all employee after-tax contributions in qualified plans and prohibits after-tax IRA contributions from'],\n",
              " 'MSFT': [' In this article we will take a look at some notable stocks that were in the spotlight this week. You can skip our detailed analysis of these stocks and go to read Why These 5 Stocks Were in the Spotlight This Week. Some stocks that were in the spotlight this week included Intel Corporation (NASDAQ:INTC), Tesla, Inc. (NASDAQ:TSLA), Alphabet Inc. (NASDAQ:GOOGL), Amazon.com, Inc. (NASDAQ:AMZN), Microsoft Corporation (NASDAQ:MSFT), Bank of America Corporation (NYSE:BAC), and Citigroup Inc. (NYSE:C). Let\\'s find out why each stock made the news and how elite funds were positioned among them according to the latest 13F data. Why do we care about hedge fund fund activity? Insider Monkey’s research was able to identify in advance a select group of hedge fund holdings that outperformed the S&P 500 ETFs by more than 86 percentage points since March 2017. Between March 2017 and July 2021 our monthly newsletter’s stock picks returned 186.1%, vs. 100.1% for the SPY. Our stock picks outperformed the market by 86 percentage points (see the details here). That’s why we believe hedge fund sentiment is an extremely useful indicator that investors should pay attention to. You can subscribe to our free newsletter on our homepage to receive our stories in your inbox. Warren Buffett of Berkshire Hathaway #10 Alphabet Inc. (NASDAQ:GOOGL) is trending after after CNBC reported that the web giant is lowering the amount it keeps from certain revenue from its cloud marketplace. According to CNBC from its sources, \"Google is reducing the amount of revenue it keeps when customers buy software from other vendors on its cloud marketplace\". Although taking less revenue might be a headwind short term, Alphabet Inc. (NASDAQ:GOOGL) could potentially win more long term from the extra business and more competitiveness. By lowering its fees, Alphabet Inc. (NASDAQ:GOOGL) could potentially grow faster in the huge cloud market. By the end of the second quarter this year, 190 of the 873 hedge funds analyzed by Insider Monkey had owned GOOGL shares, which was equal to $26.8 billion. #9 Amazon.com, Inc. (NASDAQ:AMZN) is trending due to the Google news. Currently, Amazon.com, Inc.',\n",
              "  \" In this article we are going to use hedge fund sentiment as a tool and determine whether Microsoft Corporation (NASDAQ:MSFT) is a good investment right now. We like to analyze hedge fund sentiment before conducting days of in-depth research. We do so because hedge funds and other elite investors have numerous Ivy League graduates, expert network advisers, and supply chain tipsters working or consulting for them. There is not a shortage of news stories covering failed hedge fund investments and it is a fact that hedge funds' picks don't beat the market 100% of the time, but their consensus picks have historically done very well and have outperformed the market after adjusting for risk. Microsoft Corporation (NASDAQ:MSFT) shareholders have witnessed a decrease in activity from the world's largest hedge funds in recent months. Microsoft Corporation (NASDAQ:MSFT) was in 238 hedge funds' portfolios at the end of the second quarter of 2021. The all time high for this statistic is 258. Our calculations also showed that MSFT ranked #3 among the 30 most popular stocks among hedge funds (click for Q2 rankings). Hedge funds' reputation as shrewd investors has been tarnished in the last decade as their hedged returns couldn't keep up with the unhedged returns of the market indices. Our research has shown that hedge funds' small-cap stock picks managed to beat the market by double digits annually between 1999 and 2016, but the margin of outperformance has been declining in recent years. Nevertheless, we were still able to identify in advance a select group of hedge fund holdings that outperformed the S&P 500 ETFs by 79 percentage points since March 2017 (see the details here). We were also able to identify in advance a select group of hedge fund holdings that underperformed the market by 10 percentage points annually between 2006 and 2017. Interestingly the margin of underperformance of these stocks has been increasing in recent years. Investors who are long the market and short these stocks would have returned more than 27% annually between 2015 and 2017. We have been tracking and sharing the list of these\",\n",
              "  \" In this article, we discuss the top 10 stocks to buy according to Charles Pollnow’s Triple Frond Partners. If you want to skip our detailed analysis of Pollnow’s history, investment philosophy, and hedge fund performance, go directly to the Top 5 Stocks to Buy According to Charles Pollnow’s Triple Frond Partners. Charles Pollnow is the manager of Triple Frond Partners LLC, a Seattle-based hedge fund. As of the second quarter of 2021, Triple Frond Partners LLC manages a portfolio of 11 stocks with a value of $921.93 million in 13F securities. The portfolio has increased in its value from $806.31 million as of Q1 of 2021. Some of the notable stocks in Triple Frond Partners' Q2 portfolio are Visa Inc. (NYSE:V), Alphabet Inc. (NASDAQ:GOOG), and Moody’s Corporation (NYSE:MCO). Visa Inc. (NYSE:V), a San Francisco-based company, provides digital payment services. Triple Frond Partners holds 453,500 shares in Visa Inc. (NYSE:V), valued at $106 million. In September, JPMorgan Chase & Co. raised its price target on Visa Inc. (NYSE:V) to $267 from $249, keeping an ‘Overweight’ rating on the shares. Triple Frond has a major stake in Moody’s Corporation (NYSE:MCO). In September 2021, Oppenheimer raised its price target on Moody’s Corporation (NYSE:MCO) to $418 from $406, keeping an ‘Outperform’ rating on the shares. Clearly, Pollnow's focus has been on the tech sector in the second quarter, and justifiably so. The technology industry and communication companies have benefitted the most from the COVID-19 as Nasdaq Composite delivered a 43.64% return in 2020, the highest since 2009 and beating the S&P’s 16.26% gain. In March 20201, Forbes reported that tech-based hedge funds are predominant in the market. The Custom Eurekahedge Tech-Focused Hedge Fund Index has delivered a return of 12.22% per annum since 2012, beating returns from value funds at 4.72%, long and short equities funds at 6.24%, and average international hedge funds with 5.89%. Our Methodology We analyzed the second-quarter portfolio of Triple Frond Partners and picked the top 10 stocks for this article. The value of stakes of Triple Frond Partner in each company is also mentioned. We have also added\",\n",
              "  'Thank you for your patience. Our engineers are working quickly to resolve the issue.',\n",
              "  ' (Bloomberg) -- Microsoft Corp., the world’s largest software maker, announced its largest ever stock-repurchase program of as much as $60 billion, at a time when U.S. lawmakers are considering a tax on buybacks. The company’s recent resurgence has given it a market value north of $2.2 trillion, making it the second-most valuable publicly traded company after a 35% rise in its shares over 2021. Its previous buyback plan, unveiled in September 2019, was for $40 billion. Microsoft’s latest purchase scheme comes after two senior Democratic senators proposed a 2% tax on corporate stock buybacks as part of a bid to help fund a $3.5 trillion U.S. budget bill. The potential tax, announced on Friday, was released by Senate Finance Committee Chairman Ron Wyden of Oregon and Senate Banking Committee Chairman Sherrod Brown of Ohio, in a bid to boost company investment and reduce tax avoidance. Although Microsoft did not say in its statement Tuesday how it would fund its buyback, it’s currently sitting on a cash pile of more than $130 billion that it has used to fund acquisitions and to boost dividends and buybacks. The current buyback has no expiration date, and may be terminated at any time. Microsoft also increased its quarterly dividend by 6 cents to 62 cents a share. Its shares were up 1% as the market opened in New York on Wednesday. Microsoft also appointed President and Chief Legal Officer Brad Smith as vice chair. Smith, who joined Microsoft in 1993 and became general counsel in 2002, will continue to report to Chairman and Chief Executive Officer Satya Nadella, the Redmond, Washington-based company said Tuesday in a statement. Smith’s new role makes him vice chair of the company, not the board, and he won’t become a director, Microsoft said. In recent years, Smith has taken on oversight of an expanding list of policy, government and legal issues at Microsoft, including relations with foreign governments like China, political giving, and programs to expand rural broadband service and access to job skills. He also has been a vocal representative of Microsoft’s views on sustainability, immigration, voting',\n",
              "  \" In this article we will take a look at the some of notable stocks on the move today. You can skip our detailed analysis of these stocks and go to read Why These 5 Stocks Are on the Move on Tuesday. On Tuesday, all three major indexes are down with the U.S. consumer confidence index falling 5.9 points to a seven month low of 109.3 in September. Among the stocks also on the move include Alphabet Inc. (NASDAQ:GOOG), Moderna, Inc. (NASDAQ:MRNA), Amazon.com Inc. (NASDAQ:AMZN), Facebook Inc. (NASDAQ:FB), Microsoft Corporation (NASDAQ:MSFT), The Walt Disney Company (NYSE:DIS), and Tesla, Inc. (NASDAQ:TSLA). Let's find out why each stock is moving and how elite funds are positioned among them. Why do we care about hedge fund fund activity? Insider Monkey’s research was able to identify in advance a select group of hedge fund holdings that outperformed the S&P 500 ETFs by more than 86 percentage points since March 2017. Between March 2017 and July 2021 our monthly newsletter’s stock picks returned 186.1%, vs. 100.1% for the SPY. Our stock picks outperformed the market by 86 percentage points (see the details here). That’s why we believe hedge fund sentiment is an extremely useful indicator that investors should pay attention to. You can subscribe to our free newsletter on our homepage to receive our stories in your inbox. Jeff Bezos of Amazon 10. Amazon.com, Inc. (NASDAQ:AMZN) is down 3% due to the broader market weakness. Amazon.com, Inc. (NASDAQ:AMZN) is also in the news because it introduced a new smart thermostat and the Astro home robot at its annual hardware event. Although the new products could generate substantial profits in the future if they are successful, Amazon is simply too big for the products to make much of a difference in the near term. Amazon.com, Inc. (NASDAQ:AMZN) was the most widely held smart money stock at the end of Q2 according to our database of 873 elite funds, with 271 funds we track owning shares of Amazon. Billionaire Jeff Bezos is a big holder of Amazon as well. 9. Facebook, Inc. (NASDAQ:FB) is off around 3.5%\",\n",
              "  ' Gamers around the world are rapidly adopting cloud gaming, thanks to the many advantages it offers over traditional gaming on personal computers (PCs) or gaming consoles. In cloud gaming, the games are hosted on remote servers which means that users don’t have to purchase expensive gaming hardware to play their favorite games or graphic-intensive titles. Users can simply opt for a suitable subscription model and play on their PCs, laptops or even smartphones, with the help of a stable Internet connection. With the advancement in graphics and overall gaming technology, the sizes of games are expanding, thereby increasing the download time. This acts as a hindrance for those who wish to immediately start playing a game because even with fast Internet, a sizeable game takes time to download. Developers also provide regular updates to their games, calling for further downloads. Cloud gaming, however, solves this problem as the games are streamed directly on devices without requiring any downloads. The rollout of 5G services is sure to provide a leg up to cloud gaming. Factors like faster data transfer speeds and lower latency, at least when compared to 4G, make 5G more suitable for cloud gaming. A faster Internet connection can lead to a reduction in response time for any action taken in the game and hence, improves the gaming experience. Gamers can also play cloud games across multiple platforms, especially on smartphones which allow them to play wherever and whenever they want. Thanks to these conveniences, gaming analytics provider Newzoo expects cloud gaming adoption to grow going forward. Per a report by Newzoo published on Aug 26, the worldwide spending on cloud gaming is set to reach $1.6 billion by the end of 2021, up from $669 million in 2020. What’s more, the report stated that global cloud gaming revenues are expected to reach $6.5 billion by 2024. The fact that users are becoming more interested in cloud gaming can be understood from a survey conducted by Newzoo. As mentioned in the report, about 94% of the respondents were aware of cloud gaming, 50% have already tried it and',\n",
              "  ' (Reuters) - Microsoft Corp said on Tuesday it will allow Epic Games Inc, Amazon.com Inc and other firms to integrate their app stores into the technology giant\\'s marketplace, giving more options to third-party developers. The Redmond, Washington-based company also said it would not take a cut from app developers\\' revenue, when the apps manage their own in-app payment systems. \"Microsoft is again leading the industry forward with Windows, now an open platform with an open store,\" Epic Games Chief Executive Officer Tim Sweeney tweeted. The move comes as Epic Games and Apple Inc have been locked in a legal dispute since last year when the \"Fortnite\" creator tried to get around Apple\\'s 30% fee on some in-app purchases on the App Store by launching its own in-app payment system. Developers have long criticized Apple\\'s commissions of between 15% and 30% on many App Store purchases, what some developers see as an opaque and unpredictable app-vetting process. (Reporting by Niket Nishant and Subrat Patnaik in Bengaluru; Editing by Shinjini Ganguli) Related Quotes Shares of Apple (NASDAQ: AAPL) stock dipped 1.5% in noonday trading, EDT, Monday, and the slip appears tied to some news out of Europe that broke late last week.  As The Verge reported Thursday, the European Commission, the executive arm of the European Union, is considering mandating that all cellphones sold in the EU use a standard USB-C power cord.  It could be a big problem for Apple, however, which uses, and sells, proprietary Lightning cables to charge its iPhones. It’s been a mixed morning for the majors this morning. A Bitcoin move through to $43,000 levels would be needed to support a breakout… These tech companies are trading at lofty valuations but their forecasts imply they might be fairly valued. Amazon announced its first-ever in-home robot called Astro during its virtual product event Tuesday. Photo by cottonbro from Pexels Doesn’t it seem like our technology always knows exactly what we are thinking? We wonder if we should purchase something, and suddenly it shows up in an advertisement on our phones without warning. Artificial intelligence (AI)',\n",
              "  ' In this article, we discuss the 10 tech stocks hedge funds are buying instead of Microsoft. If you want to skip our detailed analysis of these stocks, go directly to Hedge Funds are Selling Microsoft and Buying These 5 Tech Stocks Instead. Microsoft Corporation (NASDAQ:MSFT) crossed $2 trillion in market capitalization in late June this year, becoming the second company on the S&P 500 to achieve that milestone. The five top firms on the benchmark index, all from the technology industry, now comprise over 20% of the value of the whole index. Coupled with the incredible rally in the share prices of growth stocks over the past year and a half - the NASDAQ Composite has a one-year return of 40% - this has led to several theories about a tech bubble that is primed to explode over the marketplace.  It would appear that hedge funds have also given heed to these theories. At the end of the second quarter of 2021, 238 hedge funds tracked by Insider Monkey held stakes worth more than $62 billion in Microsoft Corporation (NASDAQ:MSFT), down from 251 funds in the preceding quarter with stakes worth over $58 billion. Two top hedge funds, Chicago-based Citadel Investment Group and New York-based Millennium Management, own PUT options against 10.5 million and 8.9 million shares of the firm respectively, worth $5.2 billion. Some of the technology stocks that hedge funds are buying instead of Microsoft Corporation (NASDAQ:MSFT) include Amazon.com, Inc. (NASDAQ:AMZN), Facebook, Inc. (NASDAQ:FB), and Apple Inc. (NASDAQ: AAPL), among others discussed in detail below. According to Jeff Mills, the Chief Investment Officer at Bryn Mawr Trust, increased taxes and tightening regulation around big tech firms like Microsoft are likely to lead to the end of the dominance of these firms atop the S&P 500.  The entire hedge fund industry is feeling the reverberations of the changing financial landscape. Its reputation has been tarnished in the last decade, during which its hedged returns couldn’t keep up with the unhedged returns of the market indices. On the other hand, Insider Monkey’s research was able to identify',\n",
              "  ' Jim Breyer, founder and CEO of Breyer Capital, would be a buyer of mega cap tech on pullbacks because he expects most of the FAANG stocks to lead the way in terms of next generation technology, he said Tuesday on CNBC\\'s \"TechCheck.\" Breyer told CNBC he has been buying Alphabet Inc (NASDAQ: GOOG) (NASDAQ: GOOGL), Microsoft Corp (NASDAQ: MSFT) and Apple Inc (NASDAQ: AAPL) over the last two years during pullbacks. \"For the last two years, when the mega-cap tech stocks sold off significantly, I\\'m a buyer. And the reason is they are also the leaders in the next generation technologies.\" Next generation technologies include artificial intelligence, augmented and virtual reality and quantum communications and computing, he said. \"Alphabet, Microsoft, Apple: These are the best companies in the world and so I continue to believe that over the next three to five years they will continue to outperform.\" These companies are recruiting the best talent in the world in order to continue to drive innovation in next generation technologies, Breyer said. See Also: Microsoft CEO Says Working On Acquiring This Company Was The \\'Strangest Thing\\' Ever GOOG, MSFT, AAPL Price Action: Class C Google shares were down 3.85% at $2,721 midday Tuesday, while Microsoft shares were down 3.14% at $284.93 and Apple shares were down 2.14% at $142.26. See more from Benzinga Click here for options trades from Benzinga Wedbush Analyst Provides Outlook On Apple Stock Given Strong Early Demand For iPhones Najarian Sees Massive Put Buying In Facebook—Here\\'s How He\\'s Playing The Stock © 2021 Benzinga.com. Benzinga does not provide investment advice. All rights reserved. Related Quotes Markets are up this year – that’s no news, the gains have been substantial and sustained – but recent weeks have made investors nervous. The resurgence of COVID, rising inflation and stubbornly high unemployment have already made headlines, but new problems are coming up overseas. In China, for example, a developing debt crisis in the giant Evergrande Group threatens to upend that country’s lending system. So, after a full nine months of gains this year, the stock markets are looking at']}"
            ]
          },
          "metadata": {},
          "execution_count": 28
        }
      ]
    },
    {
      "cell_type": "markdown",
      "metadata": {
        "id": "QzixsQ93tspG"
      },
      "source": [
        "### Summarization"
      ]
    },
    {
      "cell_type": "code",
      "metadata": {
        "id": "sUz4e3T-Dk1H"
      },
      "source": [
        "def summarize(articles_):\n",
        "  '''\n",
        "  Summarizing articles\n",
        "  '''\n",
        "  summaries = []\n",
        "\n",
        "  for article in articles_:\n",
        "\n",
        "    input_ids = tokenizer.encode(article, return_tensors = 'pt')\n",
        "    output = model.generate(input_ids, \n",
        "                            max_length = 55,\n",
        "                            num_beams = 5,\n",
        "                            early_stopping = True)\n",
        "    summary = tokenizer.decode(output[0], skip_special_tokens = True)\n",
        "    summaries.append(summary)\n",
        "\n",
        "  return summaries"
      ],
      "execution_count": null,
      "outputs": []
    },
    {
      "cell_type": "code",
      "metadata": {
        "colab": {
          "base_uri": "https://localhost:8080/"
        },
        "id": "4hzoUcIvFHN7",
        "outputId": "925cecee-2f01-42a5-a6c1-c722af57cddf"
      },
      "source": [
        "summarizations = {stock : summarize(articles_[stock]) for stock in stock_list}\n",
        "summarizations"
      ],
      "execution_count": null,
      "outputs": [
        {
          "output_type": "execute_result",
          "data": {
            "text/plain": [
              "{'AMD': ['Competition in the market for high-performance semiconductors red hot',\n",
              "  'The 10-year Treasury yield hit an intraday high of 1.567% Tuesday. Pfizer, BioNTech, Moderna all fall on Tuesday',\n",
              "  \"Synamedia's platform powered by 3rd Gen AMD EPYCTM processors achieves breakthrough 8K quality.\",\n",
              "  'We are aware of the issue and are working to resolve it.',\n",
              "  'Moscow court fines Google for not deleting content. Lucid Motors to make first vehicle deliveries next month',\n",
              "  'Chegg, DocuSign, Pinduoduoduo among top 5 stocks in Sylebra Capital’s portfolio.',\n",
              "  'Xilinx acquisition still in the spotlight amid Chinese regulatory pressures.',\n",
              "  \"AMD was in 63 of the hedge funds' portfolios at the end of June.\",\n",
              "  'Central bank’s eNaira website has gone live ahead of schedule. Central bank says digital currency will ‘cultivate economic growth’.',\n",
              "  'Consumer staple, industrial stocks lead gains. Technology stocks have come under pressure as fears of a slowing economic recovery'],\n",
              " 'MSFT': ['Intel, Tesla, Amazon, BofA among stocks in the spotlight. Below are the 5 stocks that were in the spotlight this week.',\n",
              "  \"Microsoft Corporation has seen a decrease in activity from the world's largest hedge funds.\",\n",
              "  'Charles Pollnow’s Triple Frond Partners owns 11 stocks with a value of $921 million.',\n",
              "  'We are aware of the issue and are working to resolve it.',\n",
              "  'The world’s largest software maker has a cash pile of more than $130 billion. Brad Smith named vice chair of the company',\n",
              "  'Consumer confidence index falls to a seven-month low. Alphabet, Facebook, Microsoft, Tesla, Moderna, Disney all on the move',\n",
              "  '5G will provide a leg up to cloud gaming adoption. Newzoo expects cloud gaming revenues to grow to $6.5 billion by 2024',\n",
              "  'Epic Games and Apple have been locked in a legal dispute. Microsoft says it will not take a cut from app developers’ revenue',\n",
              "  'Hedge funds are selling Microsoft and buying other tech stocks. Amazon, Facebook, Apple, Alphabet, Twitter among top 10 holdings',\n",
              "  'Most of the FAANG stocks are leaders in next generation technology, he says.']}"
            ]
          },
          "metadata": {},
          "execution_count": 30
        }
      ]
    },
    {
      "cell_type": "markdown",
      "metadata": {
        "id": "Zc-MP0g2RXOg"
      },
      "source": [
        "### Sentiment"
      ]
    },
    {
      "cell_type": "code",
      "metadata": {
        "id": "UeVeuAxMaCBU"
      },
      "source": [
        "from transformers import pipeline"
      ],
      "execution_count": null,
      "outputs": []
    },
    {
      "cell_type": "code",
      "metadata": {
        "colab": {
          "base_uri": "https://localhost:8080/",
          "height": 245,
          "referenced_widgets": [
            "d10557a19d914fb3b1071d04d970ba54",
            "60781a93cb754be6a5f7f2450220cfbb",
            "cb036b5a2c544209a57c1d05903cd5f8",
            "5c057b3e9cb84976a78b067365f756c3",
            "0703d6b9f08d4532a220858b2d23ce3d",
            "90dffc69053645428f9940daf437331b",
            "04614d8de8ce4416b64d214f0f4ce9e5",
            "5f27d1b9a737408ea027521fe1f2f2e4",
            "61c3d791efec489f9ad00e00c88309dd",
            "3259a2327a2e4551ae694339da3ed9a2",
            "2d69c96865f44a30872c94c2cb51007d",
            "23b3f718ef254f3da70cece1dc46caf4",
            "3b93969e31c2403a9410f2f45f13c0e5",
            "eaa6c2310fad44ac9d7749ebcc9f5d1c",
            "fbf1af293a39480f84c499d90507fdbf",
            "5a2a71593cd140e7885cea9c375f6a72",
            "b2b2670e92db4d839fca0c459d2ca8ae",
            "31f01bcea22b4a2b86c4169a95d5c625",
            "f240bea6887b48b48a55482da4e02836",
            "0aeec5b311dc4544ae28f7ce65da9cba",
            "35a9c210be3b493f92676024434ffadc",
            "53c8fed407a744b482291b590980c052",
            "77521e632e094ab792b66be2c2d9bf85",
            "0dab89d3c473437fb7b3bf0d284ffa71",
            "20217c3bc38044ecb4f8c3983994c31e",
            "001ca2bc100448d1b43eef906e2d0911",
            "4d1741aa4e954b1098fcdde4b592e213",
            "32a7341e44cf4fb6bad43fc830d56015",
            "d6ce10f980dc41e69c592634b7b33b61",
            "93d558a47cd149b7bd8b34d0bff214da",
            "f0f71cbdb9e64322a2251e7c99f337eb",
            "9b6776d2d4804b5a96650fba5c950d21",
            "054a36634fca486dbf68fa15987b5cef",
            "ecd56a376d4043308f1af7d891338b54",
            "c8acfc962b564f89b29abdc10540252d",
            "0527d977fd8b42198da8788dc616106f",
            "e071639dc26246d884c6a0c784a0f10f",
            "09be77f9eada4f4a9e61710ddb45a562",
            "39c9b5f7ca7b4ade90d63ed43d9fecd8",
            "84cb1ddd22284723889db3226e467f87",
            "154395bf37cf4acf85920ac1a83f476d",
            "dba5a4e45f1c4096830f6d8c588da6d2",
            "c5c421fad693491fb89d0a3a393cad72",
            "d011418788344e54839ebd27dabcb190"
          ]
        },
        "id": "rvT9gxyVaEIN",
        "outputId": "a75c8bc4-21d6-4530-ec93-57d8cc783ed1"
      },
      "source": [
        "sentiment = pipeline('sentiment-analysis')"
      ],
      "execution_count": null,
      "outputs": [
        {
          "output_type": "stream",
          "name": "stderr",
          "text": [
            "No model was supplied, defaulted to distilbert-base-uncased-finetuned-sst-2-english (https://huggingface.co/distilbert-base-uncased-finetuned-sst-2-english)\n"
          ]
        },
        {
          "output_type": "display_data",
          "data": {
            "application/vnd.jupyter.widget-view+json": {
              "model_id": "d10557a19d914fb3b1071d04d970ba54",
              "version_minor": 0,
              "version_major": 2
            },
            "text/plain": [
              "Downloading:   0%|          | 0.00/629 [00:00<?, ?B/s]"
            ]
          },
          "metadata": {}
        },
        {
          "output_type": "stream",
          "name": "stderr",
          "text": [
            "/usr/local/lib/python3.7/dist-packages/transformers/configuration_utils.py:337: UserWarning: Passing `gradient_checkpointing` to a config initialization is deprecated and will be removed in v5 Transformers. Using `model.gradient_checkpointing_enable()` instead, or if you are using the `Trainer` API, pass `gradient_checkpointing=True` in your `TrainingArguments`.\n",
            "  \"Passing `gradient_checkpointing` to a config initialization is deprecated and will be removed in v5 \"\n"
          ]
        },
        {
          "output_type": "display_data",
          "data": {
            "application/vnd.jupyter.widget-view+json": {
              "model_id": "23b3f718ef254f3da70cece1dc46caf4",
              "version_minor": 0,
              "version_major": 2
            },
            "text/plain": [
              "Downloading:   0%|          | 0.00/255M [00:00<?, ?B/s]"
            ]
          },
          "metadata": {}
        },
        {
          "output_type": "display_data",
          "data": {
            "application/vnd.jupyter.widget-view+json": {
              "model_id": "77521e632e094ab792b66be2c2d9bf85",
              "version_minor": 0,
              "version_major": 2
            },
            "text/plain": [
              "Downloading:   0%|          | 0.00/48.0 [00:00<?, ?B/s]"
            ]
          },
          "metadata": {}
        },
        {
          "output_type": "display_data",
          "data": {
            "application/vnd.jupyter.widget-view+json": {
              "model_id": "ecd56a376d4043308f1af7d891338b54",
              "version_minor": 0,
              "version_major": 2
            },
            "text/plain": [
              "Downloading:   0%|          | 0.00/226k [00:00<?, ?B/s]"
            ]
          },
          "metadata": {}
        }
      ]
    },
    {
      "cell_type": "markdown",
      "metadata": {
        "id": "E2Cv-xrjRLPt"
      },
      "source": [
        "## Summarization and its Sentiment"
      ]
    },
    {
      "cell_type": "code",
      "metadata": {
        "id": "oOnqQeCnM1QR"
      },
      "source": [
        "def summarization_and_sentiment(stock = stock_list[0]):\n",
        "  \"\"\"\n",
        "  Summarization and sentiment of a selected stock from list of interested stocks\n",
        "  \"\"\"\n",
        "  for i, x in zip(sentiment(summarizations[stock]), summarizations[stock]):\n",
        "    print(i, x) "
      ],
      "execution_count": null,
      "outputs": []
    },
    {
      "cell_type": "code",
      "metadata": {
        "colab": {
          "base_uri": "https://localhost:8080/"
        },
        "id": "4Fc6aBtgNSI_",
        "outputId": "2c767145-4c9f-4e8c-deba-cb4e115c76fb"
      },
      "source": [
        "summarization_and_sentiment('AMD')"
      ],
      "execution_count": null,
      "outputs": [
        {
          "output_type": "stream",
          "name": "stderr",
          "text": [
            "/usr/local/lib/python3.7/dist-packages/torch/utils/data/dataloader.py:481: UserWarning: This DataLoader will create 8 worker processes in total. Our suggested max number of worker in current system is 2, which is smaller than what this DataLoader is going to create. Please be aware that excessive worker creation might get DataLoader running slow or even freeze, lower the worker number to avoid potential slowness/freeze if necessary.\n",
            "  cpuset_checked))\n"
          ]
        },
        {
          "output_type": "stream",
          "name": "stdout",
          "text": [
            "{'label': 'NEGATIVE', 'score': 0.9542626738548279} Competition in the market for high-performance semiconductors red hot\n",
            "{'label': 'NEGATIVE', 'score': 0.9761536717414856} The 10-year Treasury yield hit an intraday high of 1.567% Tuesday. Pfizer, BioNTech, Moderna all fall on Tuesday\n",
            "{'label': 'POSITIVE', 'score': 0.9994142055511475} Synamedia's platform powered by 3rd Gen AMD EPYCTM processors achieves breakthrough 8K quality.\n",
            "{'label': 'POSITIVE', 'score': 0.9979088306427002} We are aware of the issue and are working to resolve it.\n",
            "{'label': 'NEGATIVE', 'score': 0.964374840259552} Moscow court fines Google for not deleting content. Lucid Motors to make first vehicle deliveries next month\n",
            "{'label': 'POSITIVE', 'score': 0.9511938691139221} Chegg, DocuSign, Pinduoduoduo among top 5 stocks in Sylebra Capital’s portfolio.\n",
            "{'label': 'POSITIVE', 'score': 0.9628427028656006} Xilinx acquisition still in the spotlight amid Chinese regulatory pressures.\n",
            "{'label': 'NEGATIVE', 'score': 0.59194016456604} AMD was in 63 of the hedge funds' portfolios at the end of June.\n",
            "{'label': 'POSITIVE', 'score': 0.9685598611831665} Central bank’s eNaira website has gone live ahead of schedule. Central bank says digital currency will ‘cultivate economic growth’.\n",
            "{'label': 'NEGATIVE', 'score': 0.9924343824386597} Consumer staple, industrial stocks lead gains. Technology stocks have come under pressure as fears of a slowing economic recovery\n"
          ]
        }
      ]
    },
    {
      "cell_type": "markdown",
      "metadata": {
        "id": "0UJszImpNQ_v"
      },
      "source": [
        "## References & Credits"
      ]
    },
    {
      "cell_type": "markdown",
      "metadata": {
        "id": "PCyRJ3eNNsuM"
      },
      "source": [
        "1. https://huggingface.co/transformers/model_doc/pegasus.html\n",
        "2. https://huggingface.co/human-centered-summarization/financial-summarization-pegasus\n",
        "3. T. Passali, A. Gidiotis, E. Chatzikyriakidis and G. Tsoumakas. 2021. Towards Human-Centered Summarization: A Case Study on Financial News. In Proceedings of the First Workshop on Bridging Human-Computer Interaction and Natural Language Processing(pp. 21–27). Association for Computational Linguistics.\n",
        "4. https://github.com/nicknochnack"
      ]
    },
    {
      "cell_type": "code",
      "metadata": {
        "id": "8ubqE6oWN_yN"
      },
      "source": [
        ""
      ],
      "execution_count": null,
      "outputs": []
    }
  ]
}