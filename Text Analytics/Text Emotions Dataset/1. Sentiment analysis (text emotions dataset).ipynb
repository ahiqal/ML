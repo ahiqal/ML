{
  "nbformat": 4,
  "nbformat_minor": 0,
  "metadata": {
    "colab": {
      "name": "Assignment 2.ipynb",
      "provenance": [],
      "collapsed_sections": [],
      "toc_visible": true
    },
    "kernelspec": {
      "name": "python3",
      "display_name": "Python 3"
    }
  },
  "cells": [
    {
      "cell_type": "markdown",
      "metadata": {
        "id": "zjj8uwUOGkr_"
      },
      "source": [
        "## Introduction"
      ]
    },
    {
      "cell_type": "code",
      "metadata": {
        "id": "Z65SN3rmng_Z"
      },
      "source": [
        "import pandas as pd\n",
        "import numpy as np\n",
        "from tqdm import tqdm\n",
        "tqdm.pandas(desc=\"progress-bar\")\n",
        "\n",
        "import gensim\n",
        "from gensim.models import Doc2Vec\n",
        "from gensim.models.doc2vec import TaggedDocument\n",
        "\n",
        "from sklearn import utils\n",
        "from sklearn.model_selection import train_test_split\n",
        "from sklearn.linear_model import LogisticRegression\n",
        "from sklearn.metrics import accuracy_score, f1_score, precision_score, recall_score\n",
        "\n",
        "import re\n",
        "import seaborn as sns\n",
        "import matplotlib.pyplot as plt"
      ],
      "execution_count": null,
      "outputs": []
    },
    {
      "cell_type": "code",
      "metadata": {
        "scrolled": true,
        "id": "sxwu5WzjFw9t",
        "colab": {
          "base_uri": "https://localhost:8080/",
          "height": 348
        },
        "outputId": "42971a4d-137a-4b5b-c7a0-64d999568d31"
      },
      "source": [
        "#read the file \n",
        "df = pd.read_csv('text_emotion3.csv')\n",
        "\n",
        "df = df[['content','sentiment']]\n",
        "\n",
        "df.head(10)"
      ],
      "execution_count": null,
      "outputs": [
        {
          "output_type": "execute_result",
          "data": {
            "text/html": [
              "<div>\n",
              "<style scoped>\n",
              "    .dataframe tbody tr th:only-of-type {\n",
              "        vertical-align: middle;\n",
              "    }\n",
              "\n",
              "    .dataframe tbody tr th {\n",
              "        vertical-align: top;\n",
              "    }\n",
              "\n",
              "    .dataframe thead th {\n",
              "        text-align: right;\n",
              "    }\n",
              "</style>\n",
              "<table border=\"1\" class=\"dataframe\">\n",
              "  <thead>\n",
              "    <tr style=\"text-align: right;\">\n",
              "      <th></th>\n",
              "      <th>content</th>\n",
              "      <th>sentiment</th>\n",
              "    </tr>\n",
              "  </thead>\n",
              "  <tbody>\n",
              "    <tr>\n",
              "      <th>0</th>\n",
              "      <td>Layin n bed with a headache  ughhhh...waitin o...</td>\n",
              "      <td>sadness</td>\n",
              "    </tr>\n",
              "    <tr>\n",
              "      <th>1</th>\n",
              "      <td>Funeral ceremony...gloomy friday...</td>\n",
              "      <td>sadness</td>\n",
              "    </tr>\n",
              "    <tr>\n",
              "      <th>2</th>\n",
              "      <td>I should be sleep, but im not! thinking about ...</td>\n",
              "      <td>sadness</td>\n",
              "    </tr>\n",
              "    <tr>\n",
              "      <th>3</th>\n",
              "      <td>@charviray Charlene my love. I miss you</td>\n",
              "      <td>sadness</td>\n",
              "    </tr>\n",
              "    <tr>\n",
              "      <th>4</th>\n",
              "      <td>@kelcouch I'm sorry  at least it's Friday?</td>\n",
              "      <td>sadness</td>\n",
              "    </tr>\n",
              "    <tr>\n",
              "      <th>5</th>\n",
              "      <td>Ugh! I have to beat this stupid song to get to...</td>\n",
              "      <td>sadness</td>\n",
              "    </tr>\n",
              "    <tr>\n",
              "      <th>6</th>\n",
              "      <td>@BrodyJenner if u watch the hills in london u ...</td>\n",
              "      <td>sadness</td>\n",
              "    </tr>\n",
              "    <tr>\n",
              "      <th>7</th>\n",
              "      <td>The storm is here and the electricity is gone</td>\n",
              "      <td>sadness</td>\n",
              "    </tr>\n",
              "    <tr>\n",
              "      <th>8</th>\n",
              "      <td>So sleepy again and it's not even that late. I...</td>\n",
              "      <td>sadness</td>\n",
              "    </tr>\n",
              "    <tr>\n",
              "      <th>9</th>\n",
              "      <td>How are YOU convinced that I have always wante...</td>\n",
              "      <td>sadness</td>\n",
              "    </tr>\n",
              "  </tbody>\n",
              "</table>\n",
              "</div>"
            ],
            "text/plain": [
              "                                             content sentiment\n",
              "0  Layin n bed with a headache  ughhhh...waitin o...   sadness\n",
              "1                Funeral ceremony...gloomy friday...   sadness\n",
              "2  I should be sleep, but im not! thinking about ...   sadness\n",
              "3            @charviray Charlene my love. I miss you   sadness\n",
              "4         @kelcouch I'm sorry  at least it's Friday?   sadness\n",
              "5  Ugh! I have to beat this stupid song to get to...   sadness\n",
              "6  @BrodyJenner if u watch the hills in london u ...   sadness\n",
              "7      The storm is here and the electricity is gone   sadness\n",
              "8  So sleepy again and it's not even that late. I...   sadness\n",
              "9  How are YOU convinced that I have always wante...   sadness"
            ]
          },
          "metadata": {
            "tags": []
          },
          "execution_count": 2
        }
      ]
    },
    {
      "cell_type": "code",
      "metadata": {
        "id": "VSbddjptoDvU",
        "colab": {
          "base_uri": "https://localhost:8080/"
        },
        "outputId": "0403c3b9-5f7a-4bb1-be98-4579d42e2fea"
      },
      "source": [
        "df.shape"
      ],
      "execution_count": null,
      "outputs": [
        {
          "output_type": "execute_result",
          "data": {
            "text/plain": [
              "(10374, 2)"
            ]
          },
          "metadata": {
            "tags": []
          },
          "execution_count": 3
        }
      ]
    },
    {
      "cell_type": "code",
      "metadata": {
        "id": "8YbCJsZSoG7X",
        "colab": {
          "base_uri": "https://localhost:8080/"
        },
        "outputId": "bc950fd5-8d58-4bd0-aec7-e7ddefe6752f"
      },
      "source": [
        "df.info()"
      ],
      "execution_count": null,
      "outputs": [
        {
          "output_type": "stream",
          "text": [
            "<class 'pandas.core.frame.DataFrame'>\n",
            "RangeIndex: 10374 entries, 0 to 10373\n",
            "Data columns (total 2 columns):\n",
            " #   Column     Non-Null Count  Dtype \n",
            "---  ------     --------------  ----- \n",
            " 0   content    10374 non-null  object\n",
            " 1   sentiment  10374 non-null  object\n",
            "dtypes: object(2)\n",
            "memory usage: 162.2+ KB\n"
          ],
          "name": "stdout"
        }
      ]
    },
    {
      "cell_type": "code",
      "metadata": {
        "id": "l0NrprmkoJ7k",
        "colab": {
          "base_uri": "https://localhost:8080/"
        },
        "outputId": "b181e5a8-c2d3-41c5-9806-49744a264809"
      },
      "source": [
        "df.index = range(10374)\n",
        "df['content'].apply(lambda x: len(x.split(' '))).sum()"
      ],
      "execution_count": null,
      "outputs": [
        {
          "output_type": "execute_result",
          "data": {
            "text/plain": [
              "146203"
            ]
          },
          "metadata": {
            "tags": []
          },
          "execution_count": 5
        }
      ]
    },
    {
      "cell_type": "code",
      "metadata": {
        "id": "Z1Pr0-uZoKC2",
        "colab": {
          "base_uri": "https://localhost:8080/",
          "height": 379
        },
        "outputId": "79ddf2e2-d426-422b-a4c4-88f937883534"
      },
      "source": [
        "# visualising data distribution happiness vs sadness\n",
        "\n",
        "count1 = df['sentiment'].value_counts()\n",
        "plt.figure(figsize=(12,4))\n",
        "sns.barplot(count1.index, count1.values, alpha=0.8)\n",
        "plt.ylabel('Tweets', fontsize=12)\n",
        "\n",
        "plt.xlabel('Labels', fontsize=12)\n",
        "plt.xticks(rotation=90)\n",
        "plt.show();"
      ],
      "execution_count": null,
      "outputs": [
        {
          "output_type": "stream",
          "text": [
            "/usr/local/lib/python3.6/dist-packages/seaborn/_decorators.py:43: FutureWarning: Pass the following variables as keyword args: x, y. From version 0.12, the only valid positional argument will be `data`, and passing other arguments without an explicit keyword will result in an error or misinterpretation.\n",
            "  FutureWarning\n"
          ],
          "name": "stderr"
        },
        {
          "output_type": "display_data",
          "data": {
            "image/png": "[encoded data removed]",
            "text/plain": [
              "<Figure size 864x288 with 1 Axes>"
            ]
          },
          "metadata": {
            "tags": [],
            "needs_background": "light"
          }
        }
      ]
    },
    {
      "cell_type": "code",
      "metadata": {
        "id": "slhq85whoJ_N",
        "colab": {
          "base_uri": "https://localhost:8080/"
        },
        "outputId": "bfd4b615-3ff2-40b0-ed89-3672fa4c6694"
      },
      "source": [
        "def print_contentSenti(index):\n",
        "    \n",
        "    example = df[df.index == index][['content', 'sentiment']].values[0]\n",
        "    if len(example) > 0:\n",
        "        print(example[0])\n",
        "        print('Sentiment:', example[1])\n",
        "        \n",
        "print_contentSenti(12)"
      ],
      "execution_count": null,
      "outputs": [
        {
          "output_type": "stream",
          "text": [
            "Fudge.... Just BS'd that whole paper.... So tired.... Ugh I hate school.....  time to sleep!!!!!!!!!!!\n",
            "Sentiment: sadness\n"
          ],
          "name": "stdout"
        }
      ]
    },
    {
      "cell_type": "markdown",
      "metadata": {
        "id": "eElQq5aUpHUS"
      },
      "source": [
        "## Pre-processing"
      ]
    },
    {
      "cell_type": "code",
      "metadata": {
        "id": "sR19oaZ7pL7E"
      },
      "source": [
        "from bs4 import BeautifulSoup\n",
        "\n",
        "def cleanText(text):\n",
        "    text = BeautifulSoup(text, \"lxml\").text\n",
        "    text = re.sub(r'\\|\\|\\|', r' ', text) \n",
        "    text = re.sub(r'http\\S+', r'<URL>', text)\n",
        "    text = text.lower()\n",
        "    text = text.replace('x', '')\n",
        "    text = text.replace('@', '')\n",
        "    # text = text.replace('.', '')\n",
        "    text = re.sub('[!@#$]', ' ', text)\n",
        "    text = re.sub('[...]', ' ', text)\n",
        "    text = re.sub(' +', ' ', text)\n",
        "    return text\n",
        "\n",
        "df['content'] = df['content'].apply(cleanText)"
      ],
      "execution_count": null,
      "outputs": []
    },
    {
      "cell_type": "code",
      "metadata": {
        "id": "KTOBEHQNFw-O",
        "colab": {
          "base_uri": "https://localhost:8080/"
        },
        "outputId": "08ddcfee-e473-4b73-9b25-6c6f1991b84a"
      },
      "source": [
        "import nltk\n",
        "nltk.download('punkt')\n",
        "from nltk.corpus import stopwords\n",
        "\n",
        "train, test = train_test_split(df, test_size=0.2, random_state=42)\n",
        "\n",
        "def tokenize_text(text):\n",
        "    tokens = []\n",
        "    for sent in nltk.sent_tokenize(text):\n",
        "        for word in nltk.word_tokenize(sent):\n",
        "            if len(word) < 2:\n",
        "                continue\n",
        "            tokens.append(word.lower())\n",
        "    return tokens\n",
        "\n",
        "train_tagged = train.apply(lambda r: TaggedDocument(words=tokenize_text(r['content']), tags=[r.sentiment]), axis=1)\n",
        "test_tagged = test.apply(lambda r: TaggedDocument(words=tokenize_text(r['content']), tags=[r.sentiment]), axis=1)"
      ],
      "execution_count": null,
      "outputs": [
        {
          "output_type": "stream",
          "text": [
            "[nltk_data] Downloading package punkt to /root/nltk_data...\n",
            "[nltk_data]   Unzipping tokenizers/punkt.zip.\n"
          ],
          "name": "stdout"
        }
      ]
    },
    {
      "cell_type": "markdown",
      "metadata": {
        "id": "k-O8fXPtqKLc"
      },
      "source": [
        "## Feature - Doc2Vec"
      ]
    },
    {
      "cell_type": "code",
      "metadata": {
        "id": "LlQh5VZHpuRN"
      },
      "source": [
        "import multiprocessing\n",
        "cores = multiprocessing.cpu_count()"
      ],
      "execution_count": null,
      "outputs": []
    },
    {
      "cell_type": "code",
      "metadata": {
        "id": "V8U5IGEKqSZJ",
        "colab": {
          "base_uri": "https://localhost:8080/"
        },
        "outputId": "c960110a-2cef-4116-c659-e3935ce4c253"
      },
      "source": [
        "model_dbow = Doc2Vec(dm=0, vector_size=300, negative=5, hs=0, min_count=2, sample = 0, workers=cores)\n",
        "model_dbow.build_vocab([x for x in tqdm(train_tagged.values)])"
      ],
      "execution_count": null,
      "outputs": [
        {
          "output_type": "stream",
          "text": [
            "100%|██████████| 8299/8299 [00:00<00:00, 1441645.43it/s]\n"
          ],
          "name": "stderr"
        }
      ]
    },
    {
      "cell_type": "code",
      "metadata": {
        "id": "mG2rLZgBqSf2",
        "colab": {
          "base_uri": "https://localhost:8080/"
        },
        "outputId": "e988bddd-ceb7-413d-e48c-518ba5bc2020"
      },
      "source": [
        "%%time\n",
        "for epoch in range(30):\n",
        "    model_dbow.train(utils.shuffle([x for x in tqdm(train_tagged.values)]), total_examples=len(train_tagged.values), epochs=1)\n",
        "    model_dbow.alpha -= 0.002\n",
        "    model_dbow.min_alpha = model_dbow.alpha"
      ],
      "execution_count": null,
      "outputs": [
        {
          "output_type": "stream",
          "text": [
            "100%|██████████| 8299/8299 [00:00<00:00, 1660712.26it/s]\n",
            "100%|██████████| 8299/8299 [00:00<00:00, 2203210.89it/s]\n",
            "100%|██████████| 8299/8299 [00:00<00:00, 2463448.61it/s]\n",
            "100%|██████████| 8299/8299 [00:00<00:00, 2025518.12it/s]\n",
            "100%|██████████| 8299/8299 [00:00<00:00, 2559450.65it/s]\n",
            "100%|██████████| 8299/8299 [00:00<00:00, 2357981.91it/s]\n",
            "100%|██████████| 8299/8299 [00:00<00:00, 3073872.21it/s]\n",
            "100%|██████████| 8299/8299 [00:00<00:00, 2409728.55it/s]\n",
            "100%|██████████| 8299/8299 [00:00<00:00, 2218092.71it/s]\n",
            "100%|██████████| 8299/8299 [00:00<00:00, 2440306.29it/s]\n",
            "100%|██████████| 8299/8299 [00:00<00:00, 2083345.04it/s]\n",
            "100%|██████████| 8299/8299 [00:00<00:00, 2555692.28it/s]\n",
            "100%|██████████| 8299/8299 [00:00<00:00, 2395302.02it/s]\n",
            "100%|██████████| 8299/8299 [00:00<00:00, 2420957.64it/s]\n",
            "100%|██████████| 8299/8299 [00:00<00:00, 2549328.32it/s]\n",
            "100%|██████████| 8299/8299 [00:00<00:00, 2515612.41it/s]\n",
            "100%|██████████| 8299/8299 [00:00<00:00, 2605233.81it/s]\n",
            "100%|██████████| 8299/8299 [00:00<00:00, 1454841.13it/s]\n",
            "100%|██████████| 8299/8299 [00:00<00:00, 2511981.59it/s]\n",
            "100%|██████████| 8299/8299 [00:00<00:00, 2439964.17it/s]\n",
            "100%|██████████| 8299/8299 [00:00<00:00, 2437060.06it/s]\n",
            "100%|██████████| 8299/8299 [00:00<00:00, 2017184.10it/s]\n",
            "100%|██████████| 8299/8299 [00:00<00:00, 2471845.54it/s]\n",
            "100%|██████████| 8299/8299 [00:00<00:00, 2463274.28it/s]\n",
            "100%|██████████| 8299/8299 [00:00<00:00, 2432971.89it/s]\n",
            "100%|██████████| 8299/8299 [00:00<00:00, 2410729.89it/s]\n",
            "100%|██████████| 8299/8299 [00:00<00:00, 2478180.90it/s]\n",
            "100%|██████████| 8299/8299 [00:00<00:00, 2513432.66it/s]\n",
            "100%|██████████| 8299/8299 [00:00<00:00, 2464844.14it/s]\n",
            "100%|██████████| 8299/8299 [00:00<00:00, 2466590.77it/s]\n"
          ],
          "name": "stderr"
        },
        {
          "output_type": "stream",
          "text": [
            "CPU times: user 18.7 s, sys: 2.42 s, total: 21.1 s\n",
            "Wall time: 13.3 s\n"
          ],
          "name": "stdout"
        }
      ]
    },
    {
      "cell_type": "code",
      "metadata": {
        "id": "NyXZfx5XqScq"
      },
      "source": [
        "# Building the Final Vector Feature for the Classifier\n",
        "def vec_for_learning(model, tagged_docs):\n",
        "    sents = tagged_docs.values\n",
        "    targets, regressors = zip(*[(doc.tags[0], model.infer_vector(doc.words, steps=20)) for doc in sents])\n",
        "    return targets, regressors"
      ],
      "execution_count": null,
      "outputs": []
    },
    {
      "cell_type": "code",
      "metadata": {
        "id": "FRAAKh3kqSWF",
        "colab": {
          "base_uri": "https://localhost:8080/"
        },
        "outputId": "f18a6c74-8412-42fa-a927-4844250d6aa9"
      },
      "source": [
        "from sklearn.metrics import accuracy_score, f1_score, precision_score, recall_score\n",
        "\n",
        "# Training and testing datasets\n",
        "y_train, X_train = vec_for_learning(model_dbow, train_tagged)\n",
        "y_test, X_test = vec_for_learning(model_dbow, test_tagged)\n",
        "\n",
        "# NB classifier\n",
        "from sklearn.naive_bayes import GaussianNB\n",
        "cNB = GaussianNB()\n",
        "cNB.fit(X_train, y_train) \n",
        "yd_pred_NB = cNB.predict(X_test)\n",
        "print('Testing accuracy NB %s' % accuracy_score(y_test, yd_pred_NB))\n",
        "print('Testing F1 score NB (DOC2VEC): {}'.format(f1_score(y_test, yd_pred_NB, average='macro')))\n",
        "print('Testing Precision score NB (DOC2VEC): {}'.format(precision_score(y_test, yd_pred_NB, average='macro')))\n",
        "print('Testing Recall score NB(DOC2VEC): {}'.format(recall_score(y_test, yd_pred_NB, average='macro')))"
      ],
      "execution_count": null,
      "outputs": [
        {
          "output_type": "stream",
          "text": [
            "Testing accuracy NB 0.5373493975903615\n",
            "Testing F1 score NB (DOC2VEC): 0.4623481781376518\n",
            "Testing Precision score NB (DOC2VEC): 0.562212094482015\n",
            "Testing Recall score NB(DOC2VEC): 0.529498559345664\n"
          ],
          "name": "stdout"
        }
      ]
    },
    {
      "cell_type": "markdown",
      "metadata": {
        "id": "sZUvHc8aqwad"
      },
      "source": [
        "## Feature - BOW"
      ]
    },
    {
      "cell_type": "code",
      "metadata": {
        "id": "E3GJen1qq6Py"
      },
      "source": [
        "# Splitting training and testing datasets\n",
        "from sklearn.model_selection import train_test_split\n",
        "\n",
        "sentences = df['content'].values\n",
        "y = df['sentiment'].values\n",
        "sentences_train, sentences_test, yy_train, yy_test = train_test_split(sentences,y, test_size=0.2, random_state=42)"
      ],
      "execution_count": null,
      "outputs": []
    },
    {
      "cell_type": "code",
      "metadata": {
        "id": "Tu_9uMe9rZWE",
        "colab": {
          "base_uri": "https://localhost:8080/"
        },
        "outputId": "e0a2a692-316a-4a90-9548-2aa156eea49c"
      },
      "source": [
        "from sklearn.feature_extraction.text import CountVectorizer\n",
        "\n",
        "BOW = CountVectorizer()\n",
        "BOW.fit(sentences_train)"
      ],
      "execution_count": null,
      "outputs": [
        {
          "output_type": "execute_result",
          "data": {
            "text/plain": [
              "CountVectorizer(analyzer='word', binary=False, decode_error='strict',\n",
              "                dtype=<class 'numpy.int64'>, encoding='utf-8', input='content',\n",
              "                lowercase=True, max_df=1.0, max_features=None, min_df=1,\n",
              "                ngram_range=(1, 1), preprocessor=None, stop_words=None,\n",
              "                strip_accents=None, token_pattern='(?u)\\\\b\\\\w\\\\w+\\\\b',\n",
              "                tokenizer=None, vocabulary=None)"
            ]
          },
          "metadata": {
            "tags": []
          },
          "execution_count": 16
        }
      ]
    },
    {
      "cell_type": "code",
      "metadata": {
        "id": "WWeOMDJJrZcq",
        "colab": {
          "base_uri": "https://localhost:8080/"
        },
        "outputId": "0e246471-b4e1-45ec-97e7-69129f354b38"
      },
      "source": [
        "from sklearn.metrics import accuracy_score, f1_score, recall_score, precision_score\n",
        "\n",
        "XX_train = BOW.transform(sentences_train)\n",
        "XX_test  = BOW.transform(sentences_test)\n",
        "\n",
        "# NB classifier\n",
        "from sklearn.naive_bayes import MultinomialNB\n",
        "cNB = MultinomialNB()\n",
        "cNB.fit(XX_train, yy_train) \n",
        "yb_pred_NB = cNB.predict(XX_test)\n",
        "from sklearn.metrics import accuracy_score, f1_score, recall_score, precision_score\n",
        "print('Testing F1 score NB (BOW): {}'.format(f1_score(yy_test, yb_pred_NB, average='macro')))\n",
        "print('Testing Precision score NB (BOW): {}'.format(precision_score(yy_test, yb_pred_NB, average='macro')))\n",
        "print('Testing Recall score NB (BOW): {}'.format(recall_score(yy_test, yb_pred_NB, average='macro')))"
      ],
      "execution_count": null,
      "outputs": [
        {
          "output_type": "stream",
          "text": [
            "Testing F1 score NB (BOW): 0.790715572336045\n",
            "Testing Precision score NB (BOW): 0.7925670818685207\n",
            "Testing Recall score NB (BOW): 0.7905265359234129\n"
          ],
          "name": "stdout"
        }
      ]
    },
    {
      "cell_type": "markdown",
      "metadata": {
        "id": "QEB_yO0Grj1Y"
      },
      "source": [
        "## Feature TF-IDF"
      ]
    },
    {
      "cell_type": "code",
      "metadata": {
        "id": "ClMQpwi2rZZP",
        "colab": {
          "base_uri": "https://localhost:8080/"
        },
        "outputId": "e5588e6c-2efc-4c38-959b-b11b37ebd3fe"
      },
      "source": [
        "# Spliting training and testing datasets\n",
        "from sklearn.model_selection import train_test_split\n",
        "\n",
        "sentences = df['content'].values\n",
        "y = df['sentiment'].values\n",
        "sentences_train, sentences_test, yyy_train, yyy_test = train_test_split(sentences,y, test_size=0.2, random_state=42)\n",
        "\n",
        "from sklearn.feature_extraction.text import TfidfVectorizer\n",
        "TFIDF = TfidfVectorizer()\n",
        "TFIDF.fit(sentences_train)"
      ],
      "execution_count": null,
      "outputs": [
        {
          "output_type": "execute_result",
          "data": {
            "text/plain": [
              "TfidfVectorizer(analyzer='word', binary=False, decode_error='strict',\n",
              "                dtype=<class 'numpy.float64'>, encoding='utf-8',\n",
              "                input='content', lowercase=True, max_df=1.0, max_features=None,\n",
              "                min_df=1, ngram_range=(1, 1), norm='l2', preprocessor=None,\n",
              "                smooth_idf=True, stop_words=None, strip_accents=None,\n",
              "                sublinear_tf=False, token_pattern='(?u)\\\\b\\\\w\\\\w+\\\\b',\n",
              "                tokenizer=None, use_idf=True, vocabulary=None)"
            ]
          },
          "metadata": {
            "tags": []
          },
          "execution_count": 18
        }
      ]
    },
    {
      "cell_type": "code",
      "metadata": {
        "id": "pWkJ9qFeOwfw",
        "colab": {
          "base_uri": "https://localhost:8080/"
        },
        "outputId": "15424189-0f3c-4aef-bbc3-f3bd1d18de03"
      },
      "source": [
        "from sklearn.metrics import accuracy_score, f1_score,precision_score, recall_score\n",
        "\n",
        "XXX_train = TFIDF.transform(sentences_train)\n",
        "XXX_test  = TFIDF.transform(sentences_test)\n",
        "\n",
        "# NB classifier\n",
        "from sklearn.naive_bayes import MultinomialNB\n",
        "cNB = MultinomialNB()\n",
        "cNB.fit(XXX_train, yyy_train) \n",
        "ytf_pred_NB = cNB.predict(XXX_test)\n",
        "print('Testing accuracy NB %s' % accuracy_score(yyy_test, ytf_pred_NB))\n",
        "print('Testing F1 score NB (TFIDF): {}'.format(f1_score(yyy_test,ytf_pred_NB, average='macro')))\n",
        "print('Testing Precision score NB (TFIDF): {}'.format(precision_score(yyy_test, ytf_pred_NB, average='macro')))\n",
        "print('Testing Recall score NB (TFIDF): {}'.format(recall_score(yyy_test, ytf_pred_NB, average='macro')))"
      ],
      "execution_count": null,
      "outputs": [
        {
          "output_type": "stream",
          "text": [
            "Testing accuracy NB 0.788433734939759\n",
            "Testing F1 score NB (TFIDF): 0.7877237851662404\n",
            "Testing Precision score NB (TFIDF): 0.7899756303308652\n",
            "Testing Recall score NB (TFIDF): 0.7875499581745515\n"
          ],
          "name": "stdout"
        }
      ]
    },
    {
      "cell_type": "code",
      "metadata": {
        "id": "_PcIE37z-XXp",
        "colab": {
          "base_uri": "https://localhost:8080/",
          "height": 295
        },
        "outputId": "4295664b-0225-4568-aae9-98bf5028d9c8"
      },
      "source": [
        "docNB = f1_score(yy_test, yd_pred_NB, average='macro')*100\n",
        "bowNB = f1_score(yy_test, yb_pred_NB, average='macro')*100\n",
        "tfNB = f1_score(yy_test, ytf_pred_NB, average='macro')*100\n",
        "\n",
        "bars = ('Doc2Vec', 'BOW', 'TF-IDF')\n",
        "result = [docNB, bowNB, tfNB]\n",
        "y_pos = np.arange(len(bars))\n",
        "\n",
        "plt.bar(y_pos, result, color=(\"#7aa0c4\", \"#ca82e1\", \"#8bcd50\"))\n",
        "\n",
        "plt.rcParams['axes.facecolor'] = 'white'\n",
        "\n",
        "plt.title('F1-Score Using Different Features')\n",
        "plt.xlabel('Feature')\n",
        "plt.ylabel('F1-score')\n",
        "plt.xticks(y_pos, bars)\n",
        "\n",
        "plt.show()"
      ],
      "execution_count": null,
      "outputs": [
        {
          "output_type": "display_data",
          "data": {
            "image/png": "[encoded data removed]",
            "text/plain": [
              "<Figure size 432x288 with 1 Axes>"
            ]
          },
          "metadata": {
            "tags": [],
            "needs_background": "light"
          }
        }
      ]
    },
    {
      "cell_type": "markdown",
      "metadata": {
        "id": "ST2OHrIr5CTm"
      },
      "source": [
        "## Conclusion"
      ]
    },
    {
      "cell_type": "markdown",
      "metadata": {
        "id": "PimQlWDB5BQM"
      },
      "source": [
        "F1-scores for BOW and TF-IDF are almost comparable. The differences are very small. Thus, a model with feature BOW is selected as it produced the best result."
      ]
    },
    {
      "cell_type": "markdown",
      "metadata": {
        "id": "gUUV-ypW8m5F"
      },
      "source": [
        "## Credits"
      ]
    },
    {
      "cell_type": "markdown",
      "metadata": {
        "id": "z6mOhyM38ru4"
      },
      "source": [
        "1) Sabrina Tiun. (2020)."
      ]
    }
  ]
}